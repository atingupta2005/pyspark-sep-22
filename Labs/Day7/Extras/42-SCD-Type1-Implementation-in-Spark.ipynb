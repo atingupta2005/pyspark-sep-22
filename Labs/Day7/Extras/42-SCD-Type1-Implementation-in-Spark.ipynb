{
 "cells": [
  {
   "cell_type": "markdown",
   "id": "919665fd-8e37-43af-a777-82e0c5395b4c",
   "metadata": {},
   "source": [
    "# SCD Type1 Implementation in Spark"
   ]
  },
  {
   "cell_type": "markdown",
   "id": "980eb499-3edb-4121-b492-bc53c0efba39",
   "metadata": {},
   "source": [
    "## What is SCD Type 1\n",
    "- SCD stands for Slowly Changing Dimension"
   ]
  },
  {
   "cell_type": "markdown",
   "id": "8b980c9b-bfdc-4259-b23a-d3c4811527f0",
   "metadata": {},
   "source": [
    "## INNER JOIN\n",
    "- Inner join two dataframes to find the “emp_id” that is in both employee.csv & employee_delta.csv"
   ]
  },
  {
   "cell_type": "code",
   "execution_count": null,
   "id": "f1e77434-e094-43e2-9f2b-77f3510344b3",
   "metadata": {},
   "outputs": [],
   "source": [
    "employees_df = spark.read.csv(\"/FileStore/tables/employee.csv\", header=\"true\", inferSchema=\"true\")\n",
    "employees_delta_df = spark.read.csv(\"/FileStore/tables/employee_delta.csv\", header=\"true\", inferSchema=\"true\")\n",
    " \n",
    "#IDENTIFY RECORDS THAT ARE IN BOTH WITH AN \"INNER JOIN\"\n",
    " \n",
    "emp_updated = employees_df.join(employees_delta_df, employees_df.emp_id == employees_delta_df.emp_id, 'inner' )\n",
    "emp_updated.show();"
   ]
  },
  {
   "cell_type": "markdown",
   "id": "858874f6-6ff0-4e50-a69f-57a02ff64432",
   "metadata": {},
   "source": [
    "## LEFT OUTER JOIN\n",
    "- Left outer join to identify the records that don’t need any change"
   ]
  },
  {
   "cell_type": "markdown",
   "id": "e9165734-d1f7-4dbb-9c3c-2eccbe8b474e",
   "metadata": {},
   "source": [
    "- We need to filter out records that are not in “employee_delta.csv”."
   ]
  },
  {
   "cell_type": "code",
   "execution_count": null,
   "id": "38282dbb-d789-4d02-b627-24ab4b316136",
   "metadata": {},
   "outputs": [],
   "source": [
    "emp_no_change_df = employees_df.join(employees_delta_df, employees_df.emp_id == employees_delta_df.emp_id, 'leftouter')\\\n",
    "  .filter(employees_delta_df.emp_id.isNull()) \\\n",
    "  .select(employees_df.emp_id, employees_df.emp_name, employees_df.emp_city, employees_df.emp_salary)\n",
    " \n",
    "emp_no_change_df.show()"
   ]
  },
  {
   "cell_type": "markdown",
   "id": "42ee6bc8-b571-4690-9082-9fbc2e8f406d",
   "metadata": {},
   "source": [
    "## RIGHT OUTER JOIN\n",
    "- We need to filter out records that are in “employee.csv”"
   ]
  },
  {
   "cell_type": "code",
   "execution_count": null,
   "id": "60ce96ed-b61a-42bb-bc58-4ee27ade69f3",
   "metadata": {},
   "outputs": [],
   "source": [
    "emp_new_df = employees_df.join(employees_delta_df, employees_df.emp_id == employees_delta_df.emp_id, 'rightouter')\\\n",
    "  .filter(employees_df.emp_id.isNull()) \\\n",
    "  .select(employees_delta_df.emp_id, employees_delta_df.emp_name, employees_delta_df.emp_city, employees_delta_df.emp_salary)\n",
    " \n",
    "emp_new_df.show()"
   ]
  },
  {
   "cell_type": "markdown",
   "id": "07fbe704-4bfb-4ceb-bbdd-daeb4717296c",
   "metadata": {},
   "source": [
    "## UNION ALL\n",
    "- Union all three dataframes – emp_updated,emp_no_change_df, and emp_new_df to give us the final values."
   ]
  },
  {
   "cell_type": "code",
   "execution_count": 3,
   "id": "0ef3d156-c800-4cbf-8262-79ac4fcd1b92",
   "metadata": {},
   "outputs": [
    {
     "ename": "NameError",
     "evalue": "name 'emp_updated' is not defined",
     "output_type": "error",
     "traceback": [
      "\u001b[1;31m---------------------------------------------------------------------------\u001b[0m",
      "\u001b[1;31mNameError\u001b[0m                                 Traceback (most recent call last)",
      "Input \u001b[1;32mIn [3]\u001b[0m, in \u001b[0;36m<cell line: 1>\u001b[1;34m()\u001b[0m\n\u001b[1;32m----> 1\u001b[0m emp_final \u001b[38;5;241m=\u001b[39m \u001b[43memp_updated\u001b[49m\u001b[38;5;241m.\u001b[39munionAll(emp_no_change_df)\u001b[38;5;241m.\u001b[39munionAll(emp_new_df)\u001b[38;5;241m.\u001b[39morderBy(\u001b[38;5;124m'\u001b[39m\u001b[38;5;124memp_id\u001b[39m\u001b[38;5;124m'\u001b[39m)\n\u001b[0;32m      3\u001b[0m emp_final\u001b[38;5;241m.\u001b[39mshow()\n",
      "\u001b[1;31mNameError\u001b[0m: name 'emp_updated' is not defined"
     ]
    }
   ],
   "source": [
    "emp_final = emp_updated.unionAll(emp_no_change_df).unionAll(emp_new_df).orderBy('emp_id')\n",
    " \n",
    "emp_final.show()"
   ]
  },
  {
   "cell_type": "markdown",
   "id": "5ec4cc6a-6d6e-43a8-86d5-5d2740c9f736",
   "metadata": {},
   "source": [
    "## functools reduce(…) function\n",
    "- Alternatively, we can also use the “reduce” function from the functools library, which has the higher order functions (i.e. Functional Programming)."
   ]
  },
  {
   "cell_type": "code",
   "execution_count": null,
   "id": "200827a9-8f17-4cf3-a1f5-1ed01082022a",
   "metadata": {},
   "outputs": [],
   "source": [
    "from functools import reduce\n",
    "from pyspark.sql import DataFrame\n",
    " \n",
    "def unionall(*df):\n",
    "  return reduce(DataFrame.unionAll, df)\n",
    "         \n",
    "emp_final = unionall(emp_updated, emp_no_change_df, emp_new_df).orderBy('emp_id')\n",
    "emp_final.show()"
   ]
  },
  {
   "cell_type": "markdown",
   "id": "7aab8d5a-4272-4c48-91f2-ab45b2a139db",
   "metadata": {},
   "source": [
    "## SQL – show tables"
   ]
  },
  {
   "cell_type": "code",
   "execution_count": null,
   "id": "d17f7026-ff44-4ecf-9e6c-c30839705324",
   "metadata": {},
   "outputs": [],
   "source": [
    "%sql\n",
    "show tables;"
   ]
  },
  {
   "cell_type": "code",
   "execution_count": null,
   "id": "b24c9bac-f5dd-4dc8-82f2-4705949a22e4",
   "metadata": {},
   "outputs": [],
   "source": []
  },
  {
   "cell_type": "code",
   "execution_count": null,
   "id": "448d7239-9c97-431b-a9a1-201c5074ee38",
   "metadata": {},
   "outputs": [],
   "source": []
  },
  {
   "cell_type": "code",
   "execution_count": null,
   "id": "c70ac10e-7614-4ebc-b0a8-62760fe44f9a",
   "metadata": {},
   "outputs": [],
   "source": []
  },
  {
   "cell_type": "code",
   "execution_count": null,
   "id": "34b8b674-2e54-490e-956e-ab27b741dec5",
   "metadata": {},
   "outputs": [],
   "source": []
  },
  {
   "cell_type": "code",
   "execution_count": null,
   "id": "39f8c166-121a-4562-a403-0abfe40c6dfe",
   "metadata": {},
   "outputs": [],
   "source": []
  },
  {
   "cell_type": "code",
   "execution_count": null,
   "id": "833a62b4-a0ba-4b60-bb7e-53965c1051fc",
   "metadata": {},
   "outputs": [],
   "source": []
  },
  {
   "cell_type": "code",
   "execution_count": null,
   "id": "1f00756a-cca3-43a8-aecf-670c2ab92f64",
   "metadata": {},
   "outputs": [],
   "source": []
  },
  {
   "cell_type": "code",
   "execution_count": null,
   "id": "d60fe5c9-9692-4e9e-8629-f98b3afdaa0c",
   "metadata": {},
   "outputs": [],
   "source": []
  },
  {
   "cell_type": "code",
   "execution_count": null,
   "id": "ee290365-00da-48e3-b911-bbdb828a1392",
   "metadata": {},
   "outputs": [],
   "source": []
  },
  {
   "cell_type": "code",
   "execution_count": null,
   "id": "b9cc45a3-13ce-40f8-9009-74195bbec2ea",
   "metadata": {},
   "outputs": [],
   "source": []
  },
  {
   "cell_type": "code",
   "execution_count": null,
   "id": "cf013cb1-1944-48db-99e1-c3d7c19925b6",
   "metadata": {},
   "outputs": [],
   "source": []
  },
  {
   "cell_type": "code",
   "execution_count": null,
   "id": "e7cb7a00-d974-4bfe-b71f-bf44962fe9af",
   "metadata": {},
   "outputs": [],
   "source": []
  },
  {
   "cell_type": "code",
   "execution_count": null,
   "id": "4001dae0-304b-42a0-b30f-6cec0ab78e02",
   "metadata": {},
   "outputs": [],
   "source": []
  },
  {
   "cell_type": "code",
   "execution_count": null,
   "id": "243f23b2-6c0e-4806-a388-cf99a8766c2c",
   "metadata": {},
   "outputs": [],
   "source": []
  },
  {
   "cell_type": "code",
   "execution_count": null,
   "id": "9db3c69d-9a1e-49ea-a027-2b4098678688",
   "metadata": {},
   "outputs": [],
   "source": []
  },
  {
   "cell_type": "code",
   "execution_count": null,
   "id": "9617e939-b4c8-4050-90c7-f900afe9b855",
   "metadata": {},
   "outputs": [],
   "source": []
  },
  {
   "cell_type": "code",
   "execution_count": null,
   "id": "499425b3-eda7-49d0-b553-d1d6da65620b",
   "metadata": {},
   "outputs": [],
   "source": []
  },
  {
   "cell_type": "code",
   "execution_count": null,
   "id": "a1b0447d-4947-4fd7-91c3-c260e8706573",
   "metadata": {},
   "outputs": [],
   "source": []
  },
  {
   "cell_type": "code",
   "execution_count": null,
   "id": "72fe1193-133c-4af4-a380-3fb00049fb13",
   "metadata": {},
   "outputs": [],
   "source": []
  },
  {
   "cell_type": "code",
   "execution_count": null,
   "id": "3ef430ed-6631-4b14-9502-8d4a84f591d9",
   "metadata": {},
   "outputs": [],
   "source": []
  },
  {
   "cell_type": "code",
   "execution_count": null,
   "id": "826e8c41-6e16-4485-8323-bcdd8a5557a3",
   "metadata": {},
   "outputs": [],
   "source": []
  },
  {
   "cell_type": "code",
   "execution_count": null,
   "id": "6d3f0c18-d828-4b84-a66b-749d367a5a08",
   "metadata": {},
   "outputs": [],
   "source": []
  },
  {
   "cell_type": "code",
   "execution_count": null,
   "id": "d2ca6a87-077a-4ae2-a000-ec393e94da59",
   "metadata": {},
   "outputs": [],
   "source": []
  },
  {
   "cell_type": "code",
   "execution_count": null,
   "id": "dc322c84-7904-4df6-88cb-e2f67418911a",
   "metadata": {},
   "outputs": [],
   "source": []
  },
  {
   "cell_type": "code",
   "execution_count": null,
   "id": "6ceee8ec-f23f-49c6-bdaa-0bc4db8ba3d1",
   "metadata": {},
   "outputs": [],
   "source": []
  },
  {
   "cell_type": "code",
   "execution_count": null,
   "id": "2195afde-7e9c-4fc4-a20c-3ce874abcca7",
   "metadata": {},
   "outputs": [],
   "source": []
  },
  {
   "cell_type": "code",
   "execution_count": null,
   "id": "f20c03ff-3e5a-4325-938b-78d6b1062d6b",
   "metadata": {},
   "outputs": [],
   "source": []
  },
  {
   "cell_type": "code",
   "execution_count": null,
   "id": "307f16b3-46e6-4dca-a03d-a937dec77b35",
   "metadata": {},
   "outputs": [],
   "source": []
  },
  {
   "cell_type": "code",
   "execution_count": null,
   "id": "cecb7b40-6b1d-404a-b27a-c2fad967fc28",
   "metadata": {},
   "outputs": [],
   "source": []
  },
  {
   "cell_type": "code",
   "execution_count": null,
   "id": "ef1208b0-c2dd-4483-8cb2-e04b989e9389",
   "metadata": {},
   "outputs": [],
   "source": []
  },
  {
   "cell_type": "code",
   "execution_count": null,
   "id": "9f4bafc3-d5f6-4a8a-9916-b8a1ccfd86c0",
   "metadata": {},
   "outputs": [],
   "source": []
  },
  {
   "cell_type": "code",
   "execution_count": null,
   "id": "a5e1307f-8ac9-4a19-93e1-174baa5c201e",
   "metadata": {},
   "outputs": [],
   "source": []
  },
  {
   "cell_type": "code",
   "execution_count": null,
   "id": "2ee6f7c9-3bd9-40be-b1b6-c7916220a1c3",
   "metadata": {},
   "outputs": [],
   "source": []
  },
  {
   "cell_type": "code",
   "execution_count": null,
   "id": "a9a46acb-1317-4b9c-8ca4-b07fdccea390",
   "metadata": {},
   "outputs": [],
   "source": []
  },
  {
   "cell_type": "code",
   "execution_count": null,
   "id": "46a017ae-2e46-491b-9545-f96b836511d1",
   "metadata": {},
   "outputs": [],
   "source": []
  },
  {
   "cell_type": "code",
   "execution_count": null,
   "id": "ca11d080-73a3-407f-b89a-5f05eee529dd",
   "metadata": {},
   "outputs": [],
   "source": []
  },
  {
   "cell_type": "code",
   "execution_count": null,
   "id": "1a716151-0a7c-45e9-b65d-e24cb80d0040",
   "metadata": {},
   "outputs": [],
   "source": []
  },
  {
   "cell_type": "code",
   "execution_count": null,
   "id": "f8b5293b-bbac-48f2-b3b9-086920115593",
   "metadata": {},
   "outputs": [],
   "source": []
  }
 ],
 "metadata": {
  "kernelspec": {
   "display_name": "Python 3 (ipykernel)",
   "language": "python",
   "name": "python3"
  },
  "language_info": {
   "codemirror_mode": {
    "name": "ipython",
    "version": 3
   },
   "file_extension": ".py",
   "mimetype": "text/x-python",
   "name": "python",
   "nbconvert_exporter": "python",
   "pygments_lexer": "ipython3",
   "version": "3.9.12"
  }
 },
 "nbformat": 4,
 "nbformat_minor": 5
}
