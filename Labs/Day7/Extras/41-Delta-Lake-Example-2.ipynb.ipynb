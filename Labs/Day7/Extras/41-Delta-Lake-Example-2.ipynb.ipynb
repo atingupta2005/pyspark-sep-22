{
 "cells": [
  {
   "cell_type": "code",
   "execution_count": null,
   "id": "4d572481-e018-45c8-9e42-b82ebc4f7302",
   "metadata": {},
   "outputs": [],
   "source": [
    "import random\n",
    "\n",
    "session_id = random.randint(0,1000000)\n",
    "delta_table_path = \"/delta/delta-table-{0}\".format(session_id)\n",
    "\n",
    "delta_table_path"
   ]
  },
  {
   "cell_type": "code",
   "execution_count": null,
   "id": "32c9daa7-6f09-48a2-bec0-f482dd250ccc",
   "metadata": {},
   "outputs": [],
   "source": [
    "## Create a table"
   ]
  },
  {
   "cell_type": "code",
   "execution_count": null,
   "id": "a97eb832-0577-42f6-9326-545b5d596bc2",
   "metadata": {},
   "outputs": [],
   "source": [
    "data = spark.range(0,5)\n",
    "data.show()\n",
    "data.write.format(\"delta\").save(delta_table_path)"
   ]
  },
  {
   "cell_type": "code",
   "execution_count": null,
   "id": "036a2ccb-3b4b-48aa-80dc-4b80a0b522f7",
   "metadata": {},
   "outputs": [],
   "source": [
    "## Read data"
   ]
  },
  {
   "cell_type": "code",
   "execution_count": null,
   "id": "c4f2fd48-b9b4-4cdc-b51f-df3621725879",
   "metadata": {},
   "outputs": [],
   "source": [
    "df = spark.read.format(\"delta\").load(delta_table_path)\n",
    "df.show()"
   ]
  },
  {
   "cell_type": "code",
   "execution_count": null,
   "id": "7b46d421-1f3a-4fa4-b16f-773d28ffec12",
   "metadata": {},
   "outputs": [],
   "source": [
    "## Update table data"
   ]
  },
  {
   "cell_type": "code",
   "execution_count": null,
   "id": "ca60a900-24c7-43f1-83e2-d9d46cd1f7c4",
   "metadata": {},
   "outputs": [],
   "source": [
    "data = spark.range(5,10)\n",
    "data.write.format(\"delta\").mode(\"overwrite\").save(delta_table_path)\n",
    "df.show()"
   ]
  },
  {
   "cell_type": "code",
   "execution_count": null,
   "id": "e9471e10-96b8-499c-84e5-08cc844e2d01",
   "metadata": {},
   "outputs": [],
   "source": [
    "## Save as catalog tables"
   ]
  },
  {
   "cell_type": "code",
   "execution_count": null,
   "id": "a13baff1-c2cb-411d-bde8-e28232117f30",
   "metadata": {},
   "outputs": [],
   "source": [
    "data.write.format(\"delta\").saveAsTable(\"ManagedDeltaTable\")\n",
    "spark.sql(\"CREATE TABLE ExternalDeltaTable USING DELTA LOCATION '{0}'\".format(delta_table_path))\n",
    "spark.sql(\"SHOW TABLES\").show()"
   ]
  },
  {
   "cell_type": "markdown",
   "id": "e75da291-f1ac-4c0c-82eb-878dde840aac",
   "metadata": {},
   "source": [
    "- With this code, you created a new table in the catalog from an existing dataframe, referred to as a managed table\n",
    "- Then you defined a new external table in the catalog that uses an existing location, referred to as an external table\n",
    "- In the output you can see both tables, no matter how they were created, are listed in the catalog."
   ]
  },
  {
   "cell_type": "markdown",
   "id": "f5c9795d-85f8-45e3-976e-3f1fec956b15",
   "metadata": {},
   "source": [
    "- Now you can look at the extended properties of both of these tables"
   ]
  },
  {
   "cell_type": "code",
   "execution_count": null,
   "id": "421b48e7-e30e-4308-aaf6-2f650f3b4d2a",
   "metadata": {},
   "outputs": [],
   "source": [
    "spark.sql(\"DESCRIBE EXTENDED ManagedDeltaTable\").show(truncate=False)"
   ]
  },
  {
   "cell_type": "code",
   "execution_count": null,
   "id": "93d6ac78-eb36-448e-9458-55da7a338e52",
   "metadata": {},
   "outputs": [],
   "source": [
    "spark.sql(\"DESCRIBE EXTENDED ExternalDeltaTable\").show(truncate=False)"
   ]
  },
  {
   "cell_type": "markdown",
   "id": "2167a24a-0b95-47fe-9a67-6426fa25576d",
   "metadata": {},
   "source": [
    "## Conditional update without overwrite\n",
    "- Delta Lake provides programmatic APIs to conditional update, delete, and merge data into tables\n",
    "    - This is commonly referred to as an upsert"
   ]
  },
  {
   "cell_type": "code",
   "execution_count": null,
   "id": "6c6351c0-a71b-4f4f-89ae-a2c7b05c7db2",
   "metadata": {},
   "outputs": [],
   "source": [
    "from delta.tables import *\n",
    "from pyspark.sql.functions import *\n",
    "\n",
    "delta_table = DeltaTable.forPath(spark, delta_table_path)\n",
    "\n",
    "# Here you just added 100 to every even ID.\n",
    "delta_table.update(\n",
    "  condition = expr(\"id % 2 == 0\"),\n",
    "  set = { \"id\": expr(\"id + 100\") })\n",
    "delta_table.toDF().show()"
   ]
  },
  {
   "cell_type": "code",
   "execution_count": null,
   "id": "4e905cbf-2200-42ff-9c49-50adb55cdb5b",
   "metadata": {},
   "outputs": [],
   "source": [
    "delta_table.delete(\"id % 2 == 0\")\n",
    "delta_table.toDF().show()"
   ]
  },
  {
   "cell_type": "code",
   "execution_count": null,
   "id": "dd174fdf-0216-4a5b-b554-b3d610908652",
   "metadata": {},
   "outputs": [],
   "source": [
    "# Notice that every even row has been deleted.\n",
    "new_data = spark.range(0,20).alias(\"newData\")\n",
    "\n",
    "delta_table.alias(\"oldData\")\\\n",
    "    .merge(new_data.alias(\"newData\"), \"oldData.id = newData.id\")\\\n",
    "    .whenMatchedUpdate(set = { \"id\": lit(\"-1\")})\\\n",
    "    .whenNotMatchedInsert(values = { \"id\": col(\"newData.id\") })\\\n",
    "    .execute()\n",
    "\n",
    "delta_table.toDF().show(100)"
   ]
  },
  {
   "cell_type": "markdown",
   "id": "52d7c2ed-e68a-49b8-b17c-360ec19a657c",
   "metadata": {},
   "source": [
    "## History\n",
    "- Delta Lake's has the ability to allow looking into history of a table\n",
    "- That is, the changes that were made to the underlying Delta Table\n",
    "- The cell below shows how simple it is to inspect the history."
   ]
  },
  {
   "cell_type": "code",
   "execution_count": null,
   "id": "9b42a8f3-5d83-4e08-9a34-701c3f923347",
   "metadata": {},
   "outputs": [],
   "source": [
    "delta_table.history().show(20, 1000, False)"
   ]
  },
  {
   "cell_type": "code",
   "execution_count": null,
   "id": "04f425a0-5dd8-4be1-9cdf-40f644676f27",
   "metadata": {},
   "outputs": [],
   "source": [
    "## Read older versions of data using Time Travel"
   ]
  },
  {
   "cell_type": "code",
   "execution_count": null,
   "id": "9a523403-57a8-4c2b-8527-6bb9b25c653b",
   "metadata": {},
   "outputs": [],
   "source": [
    "df = spark.read.format(\"delta\").option(\"versionAsOf\", 0).load(delta_table_path)\n",
    "df.show()"
   ]
  },
  {
   "cell_type": "code",
   "execution_count": null,
   "id": "12a9931c-1f58-4286-98ce-87eb9bca88c7",
   "metadata": {},
   "outputs": [],
   "source": [
    "## Write a stream of data to a table"
   ]
  },
  {
   "cell_type": "code",
   "execution_count": null,
   "id": "ea93bd70-d36b-4a33-9c51-3015000b7265",
   "metadata": {},
   "outputs": [],
   "source": [
    "streaming_df = spark.readStream.format(\"rate\").load()\n",
    "stream = streaming_df\\\n",
    "    .selectExpr(\"value as id\")\\\n",
    "    .writeStream\\\n",
    "    .format(\"delta\")\\\n",
    "    .option(\"checkpointLocation\", \"/tmp/checkpoint-{0}\".format(session_id))\\\n",
    "    .start(delta_table_path)"
   ]
  },
  {
   "cell_type": "code",
   "execution_count": null,
   "id": "acfe63d8-cd9d-4531-8f41-22d125cb4025",
   "metadata": {},
   "outputs": [],
   "source": [
    "## Read a stream of changes from a table"
   ]
  },
  {
   "cell_type": "code",
   "execution_count": null,
   "id": "3c90fb18-016e-4f2f-8117-11c63e1296ef",
   "metadata": {},
   "outputs": [],
   "source": [
    "delta_table.toDF().sort(col(\"id\").desc()).show(100)"
   ]
  },
  {
   "cell_type": "code",
   "execution_count": null,
   "id": "6d26cb6a-d36f-4143-90b2-1f4c5757fdc5",
   "metadata": {},
   "outputs": [],
   "source": [
    "delta_table.history().drop(\"userId\", \"userName\", \"job\", \"notebook\", \"clusterId\", \"isolationLevel\", \"isBlindAppend\").show(20, 1000, False)"
   ]
  },
  {
   "cell_type": "code",
   "execution_count": null,
   "id": "6f46233b-05ce-4b81-94e4-3746b310425b",
   "metadata": {},
   "outputs": [],
   "source": [
    "stream.stop()\n",
    "delta_table.history().drop(\"userId\", \"userName\", \"job\", \"notebook\", \"clusterId\", \"isolationLevel\", \"isBlindAppend\").show(100, 1000, False)"
   ]
  },
  {
   "cell_type": "code",
   "execution_count": null,
   "id": "abec02de-7412-4790-80a6-ade107a29bc4",
   "metadata": {},
   "outputs": [],
   "source": [
    "spark.sql(\"DESCRIBE HISTORY delta.`{0}`\".format(delta_table_path)).show()"
   ]
  }
 ],
 "metadata": {
  "kernelspec": {
   "display_name": "Python 3 (ipykernel)",
   "language": "python",
   "name": "python3"
  },
  "language_info": {
   "codemirror_mode": {
    "name": "ipython",
    "version": 3
   },
   "file_extension": ".py",
   "mimetype": "text/x-python",
   "name": "python",
   "nbconvert_exporter": "python",
   "pygments_lexer": "ipython3",
   "version": "3.9.12"
  }
 },
 "nbformat": 4,
 "nbformat_minor": 5
}
