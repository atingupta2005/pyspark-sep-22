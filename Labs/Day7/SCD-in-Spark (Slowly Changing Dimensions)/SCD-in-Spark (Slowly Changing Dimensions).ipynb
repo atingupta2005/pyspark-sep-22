{
 "cells": [
  {
   "cell_type": "code",
   "execution_count": 26,
   "id": "73021e39",
   "metadata": {},
   "outputs": [],
   "source": [
    "#import required modules\n",
    "from pyspark import SparkConf, SparkContext\n",
    "from pyspark.sql import SparkSession"
   ]
  },
  {
   "cell_type": "code",
   "execution_count": 27,
   "id": "87dc690b",
   "metadata": {},
   "outputs": [],
   "source": [
    "from pyspark.sql.functions import col, lit, to_timestamp\n",
    "from datetime import datetime"
   ]
  },
  {
   "cell_type": "code",
   "execution_count": 42,
   "id": "ff99f241",
   "metadata": {},
   "outputs": [],
   "source": [
    "# Import our SCD implented functions\n",
    "from scd_component import get_open_and_closed, no_change_or_update, new_rows, deleted_rows,scd"
   ]
  },
  {
   "cell_type": "code",
   "execution_count": 29,
   "id": "6d347756",
   "metadata": {},
   "outputs": [],
   "source": [
    "spark = SparkSession.builder.getOrCreate()"
   ]
  },
  {
   "cell_type": "code",
   "execution_count": 30,
   "id": "a1901014",
   "metadata": {},
   "outputs": [],
   "source": [
    "%run \"./Setup\""
   ]
  },
  {
   "cell_type": "code",
   "execution_count": 31,
   "id": "d31974e6",
   "metadata": {},
   "outputs": [
    {
     "name": "stdout",
     "output_type": "stream",
     "text": [
      "+---------+--------------------+\n",
      "|course_id|        course_title|\n",
      "+---------+--------------------+\n",
      "|        1|    Mastering Python|\n",
      "|        2|Data Engineering ...|\n",
      "|        3|   Mastering Pyspark|\n",
      "|        4|      AWS Essentials|\n",
      "|        5|          Docker 101|\n",
      "+---------+--------------------+\n",
      "\n"
     ]
    }
   ],
   "source": [
    "# The existing courses\n",
    "courses_df.show()"
   ]
  },
  {
   "cell_type": "code",
   "execution_count": 32,
   "id": "da50c392",
   "metadata": {},
   "outputs": [],
   "source": [
    "# Existing courses needs to be updated. So add tracking columns to it and save it as history dataframe\n",
    "history = (courses_df\n",
    "           .withColumn(\"start_date\", to_timestamp(lit(\"2000-01-01 00:01:02\"), \"yyyy-MM-dd HH:mm:ss\"))\n",
    "           .withColumn(\"end_date\", to_timestamp(lit(\"2999-12-31 00:00:00\"), \"yyyy-MM-dd HH:mm:ss\"))\n",
    "           .withColumn(\"open_reason\", lit(\"new\"))\n",
    "           .withColumn(\"close_reason\", lit(None))\n",
    "           .withColumn(\"is_deleted\", lit(0))\n",
    "           )\n",
    "keys_list = [\"course_id\"]"
   ]
  },
  {
   "cell_type": "code",
   "execution_count": 33,
   "id": "e42ed940",
   "metadata": {},
   "outputs": [
    {
     "name": "stdout",
     "output_type": "stream",
     "text": [
      "+---------+--------------------+-------------------+-------------------+-----------+------------+----------+\n",
      "|course_id|        course_title|         start_date|           end_date|open_reason|close_reason|is_deleted|\n",
      "+---------+--------------------+-------------------+-------------------+-----------+------------+----------+\n",
      "|        1|    Mastering Python|2000-01-01 00:01:02|2999-12-31 00:00:00|        new|        null|         0|\n",
      "|        2|Data Engineering ...|2000-01-01 00:01:02|2999-12-31 00:00:00|        new|        null|         0|\n",
      "|        3|   Mastering Pyspark|2000-01-01 00:01:02|2999-12-31 00:00:00|        new|        null|         0|\n",
      "|        4|      AWS Essentials|2000-01-01 00:01:02|2999-12-31 00:00:00|        new|        null|         0|\n",
      "|        5|          Docker 101|2000-01-01 00:01:02|2999-12-31 00:00:00|        new|        null|         0|\n",
      "+---------+--------------------+-------------------+-------------------+-----------+------------+----------+\n",
      "\n"
     ]
    }
   ],
   "source": [
    "history.show()"
   ]
  },
  {
   "cell_type": "code",
   "execution_count": 34,
   "id": "fd27eef1",
   "metadata": {},
   "outputs": [],
   "source": [
    "# Get the rows which are active\n",
    "open_rows,closed_rows = get_open_and_closed(history.drop(col(\"end_date\")))"
   ]
  },
  {
   "cell_type": "code",
   "execution_count": 35,
   "id": "142e47ca",
   "metadata": {},
   "outputs": [
    {
     "name": "stdout",
     "output_type": "stream",
     "text": [
      "+---------+--------------------+-------------------+-----------+------------+----------+\n",
      "|course_id|        course_title|         start_date|open_reason|close_reason|is_deleted|\n",
      "+---------+--------------------+-------------------+-----------+------------+----------+\n",
      "|        1|    Mastering Python|2000-01-01 00:01:02|        new|        null|         0|\n",
      "|        2|Data Engineering ...|2000-01-01 00:01:02|        new|        null|         0|\n",
      "|        3|   Mastering Pyspark|2000-01-01 00:01:02|        new|        null|         0|\n",
      "|        4|      AWS Essentials|2000-01-01 00:01:02|        new|        null|         0|\n",
      "|        5|          Docker 101|2000-01-01 00:01:02|        new|        null|         0|\n",
      "+---------+--------------------+-------------------+-----------+------------+----------+\n",
      "\n"
     ]
    }
   ],
   "source": [
    "open_rows.show()"
   ]
  },
  {
   "cell_type": "code",
   "execution_count": 10,
   "id": "3e0f1e1e",
   "metadata": {},
   "outputs": [
    {
     "name": "stdout",
     "output_type": "stream",
     "text": [
      "+---------+------------+----------+-----------+------------+----------+\n",
      "|course_id|course_title|start_date|open_reason|close_reason|is_deleted|\n",
      "+---------+------------+----------+-----------+------------+----------+\n",
      "+---------+------------+----------+-----------+------------+----------+\n",
      "\n"
     ]
    }
   ],
   "source": [
    "# Show the rows which are inactive\n",
    "closed_rows.show()"
   ]
  },
  {
   "cell_type": "code",
   "execution_count": 36,
   "id": "3b42a156",
   "metadata": {},
   "outputs": [
    {
     "name": "stdout",
     "output_type": "stream",
     "text": [
      "+---------+--------------------+\n",
      "|course_id|        course_title|\n",
      "+---------+--------------------+\n",
      "|        1|    Mastering Python|\n",
      "|        2|Data Engineering ...|\n",
      "|        3|   Mastering Pyspark|\n",
      "|        5|          Docker 102|\n",
      "|        6|              DP 100|\n",
      "+---------+--------------------+\n",
      "\n"
     ]
    }
   ],
   "source": [
    "# The latest courses\n",
    "current.show()"
   ]
  },
  {
   "cell_type": "code",
   "execution_count": 37,
   "id": "bc8d088b",
   "metadata": {},
   "outputs": [],
   "source": [
    "# Get the list of courses which are current (Either not changed or updated). This list excludes deleted records\n",
    "merged = no_change_or_update(history_open=open_rows,\n",
    "                                     current=current,\n",
    "                                     keys_list=keys_list)"
   ]
  },
  {
   "cell_type": "code",
   "execution_count": 38,
   "id": "7a86e2b9",
   "metadata": {},
   "outputs": [
    {
     "name": "stderr",
     "output_type": "stream",
     "text": [
      "[Stage 110:==================================================>  (452 + 1) / 475]\r"
     ]
    },
    {
     "name": "stdout",
     "output_type": "stream",
     "text": [
      "+---------+--------------------+-------------------+-------------+-------------+----------+\n",
      "|course_id|        course_title|         start_date|  open_reason| close_reason|is_deleted|\n",
      "+---------+--------------------+-------------------+-------------+-------------+----------+\n",
      "|        3|   Mastering Pyspark|2000-01-01 00:01:02|          new|         null|         0|\n",
      "|        1|    Mastering Python|2000-01-01 00:01:02|          new|         null|         0|\n",
      "|        2|Data Engineering ...|2000-01-01 00:01:02|          new|         null|         0|\n",
      "|        5|          Docker 102|2022-09-11 10:01:48|changed_value|         null|         0|\n",
      "|        5|          Docker 101|2000-01-01 00:01:02|          new|changed_value|         0|\n",
      "+---------+--------------------+-------------------+-------------+-------------+----------+\n",
      "\n"
     ]
    },
    {
     "name": "stderr",
     "output_type": "stream",
     "text": [
      "                                                                                \r"
     ]
    }
   ],
   "source": [
    "merged.show()"
   ]
  },
  {
   "cell_type": "code",
   "execution_count": 39,
   "id": "5e3b2863",
   "metadata": {},
   "outputs": [],
   "source": [
    "# Get list of deleted records\n",
    "deleted_rows_df = deleted_rows(history_open=open_rows, current=current, keys_list=keys_list)"
   ]
  },
  {
   "cell_type": "code",
   "execution_count": 40,
   "id": "fbbb57ac",
   "metadata": {},
   "outputs": [
    {
     "name": "stderr",
     "output_type": "stream",
     "text": [
      "[Stage 125:================================================>    (253 + 1) / 275]\r"
     ]
    },
    {
     "name": "stdout",
     "output_type": "stream",
     "text": [
      "+---------+--------------+-------------------+-----------+------------+----------+-------------------+\n",
      "|course_id|  course_title|         start_date|open_reason|close_reason|is_deleted|           end_date|\n",
      "+---------+--------------+-------------------+-----------+------------+----------+-------------------+\n",
      "|        4|AWS Essentials|2000-01-01 00:01:02|        new|     deleted|         0|2022-09-11 10:01:48|\n",
      "|        4|AWS Essentials|2022-09-11 10:01:48|    deleted|        null|         1|2999-12-31 00:00:00|\n",
      "+---------+--------------+-------------------+-----------+------------+----------+-------------------+\n",
      "\n"
     ]
    },
    {
     "name": "stderr",
     "output_type": "stream",
     "text": [
      "                                                                                \r"
     ]
    }
   ],
   "source": [
    "deleted_rows_df.show()"
   ]
  },
  {
   "cell_type": "code",
   "execution_count": 41,
   "id": "9c6e82e9",
   "metadata": {},
   "outputs": [
    {
     "name": "stderr",
     "output_type": "stream",
     "text": [
      "[Stage 140:====================================>                  (50 + 1) / 75]\r"
     ]
    },
    {
     "name": "stdout",
     "output_type": "stream",
     "text": [
      "+---------+------------+-------------------+-----------+------------+----------+-------------------+\n",
      "|course_id|course_title|           end_date|open_reason|close_reason|is_deleted|         start_date|\n",
      "+---------+------------+-------------------+-----------+------------+----------+-------------------+\n",
      "|        6|      DP 100|2999-12-31 00:00:00|        new|        null|         0|2022-09-11 10:01:48|\n",
      "+---------+------------+-------------------+-----------+------------+----------+-------------------+\n",
      "\n"
     ]
    },
    {
     "name": "stderr",
     "output_type": "stream",
     "text": [
      "                                                                                \r"
     ]
    }
   ],
   "source": [
    "# Get list of new records\n",
    "new_rows_df = new_rows(history_open=history, current=current, keys_list=keys_list)\n",
    "new_rows_df.show()"
   ]
  },
  {
   "cell_type": "code",
   "execution_count": 45,
   "id": "7ab3b4e8",
   "metadata": {},
   "outputs": [
    {
     "name": "stderr",
     "output_type": "stream",
     "text": [
      "[Stage 217:=================================================> (1175 + 1) / 1200]\r"
     ]
    },
    {
     "name": "stdout",
     "output_type": "stream",
     "text": [
      "+---------+--------------------+-------------------+-------------------+-------------+-------------+----------+\n",
      "|course_id|        course_title|         start_date|           end_date|  open_reason| close_reason|is_deleted|\n",
      "+---------+--------------------+-------------------+-------------------+-------------+-------------+----------+\n",
      "|        1|    Mastering Python|2000-01-01 00:01:02|2999-12-31 00:00:00|          new|         null|         0|\n",
      "|        2|Data Engineering ...|2000-01-01 00:01:02|2999-12-31 00:00:00|          new|         null|         0|\n",
      "|        3|   Mastering Pyspark|2000-01-01 00:01:02|2999-12-31 00:00:00|          new|         null|         0|\n",
      "|        4|      AWS Essentials|2022-09-11 10:01:48|2999-12-31 00:00:00|      deleted|         null|         1|\n",
      "|        4|      AWS Essentials|2000-01-01 00:01:02|2022-09-11 10:01:48|          new|      deleted|         0|\n",
      "|        5|          Docker 101|2000-01-01 00:01:02|2022-09-11 10:01:48|          new|changed_value|         0|\n",
      "|        5|          Docker 102|2022-09-11 10:01:48|2999-12-31 00:00:00|changed_value|         null|         0|\n",
      "|        6|              DP 100|2022-09-11 10:01:48|2999-12-31 00:00:00|          new|         null|         0|\n",
      "+---------+--------------------+-------------------+-------------------+-------------+-------------+----------+\n",
      "\n"
     ]
    },
    {
     "name": "stderr",
     "output_type": "stream",
     "text": [
      "                                                                                \r"
     ]
    }
   ],
   "source": [
    "scd(history=history, current=current, keys_list=keys_list).sort(\"course_id\").show()"
   ]
  }
 ],
 "metadata": {
  "kernelspec": {
   "display_name": "Python 3 (ipykernel)",
   "language": "python",
   "name": "python3"
  },
  "language_info": {
   "codemirror_mode": {
    "name": "ipython",
    "version": 3
   },
   "file_extension": ".py",
   "mimetype": "text/x-python",
   "name": "python",
   "nbconvert_exporter": "python",
   "pygments_lexer": "ipython3",
   "version": "3.9.2"
  }
 },
 "nbformat": 4,
 "nbformat_minor": 5
}
