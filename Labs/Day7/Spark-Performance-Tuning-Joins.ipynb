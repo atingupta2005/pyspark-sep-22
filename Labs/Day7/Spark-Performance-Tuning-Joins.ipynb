{
 "cells": [
  {
   "cell_type": "code",
   "execution_count": 27,
   "id": "6fd1dbb1-6123-4c12-ad48-00cd1d9d1309",
   "metadata": {},
   "outputs": [],
   "source": [
    "import findspark\n",
    "findspark.init()\n",
    "import pyspark\n",
    "from pyspark.sql import SparkSession\n",
    "spark = SparkSession.builder.getOrCreate()\n",
    "sc = spark.sparkContext"
   ]
  },
  {
   "cell_type": "code",
   "execution_count": 39,
   "id": "04b11e1c-bd94-4902-ab51-db3bee383a54",
   "metadata": {},
   "outputs": [
    {
     "name": "stdout",
     "output_type": "stream",
     "text": [
      "+---+------+----+-----------+\n",
      "|Add|    ID|Name|partitionID|\n",
      "+---+------+----+-----------+\n",
      "|USA|21.528|Jhon|          0|\n",
      "|USA|  3.69| Joe|          1|\n",
      "|IND|  2.48|Tina|          2|\n",
      "|USA| 22.22|Jhon|          3|\n",
      "|INA|  5.33| Joe|          3|\n",
      "+---+------+----+-----------+\n",
      "\n"
     ]
    }
   ],
   "source": [
    "from pyspark.sql.functions import spark_partition_id\n",
    "data1 = [{'Name':'Jhon','ID':21.528,'Add':'USA'},{'Name':'Joe','ID':3.69,'Add':'USA'},{'Name':'Tina','ID':2.48,'Add':'IND'},{'Name':'Jhon','ID':22.22, 'Add':'USA'},{'Name':'Joe','ID':5.33,'Add':'INA'}]\n",
    "a = sc.parallelize(data1)\n",
    "b = spark.createDataFrame(a)\n",
    "b=b.withColumn(\"partitionID\", spark_partition_id())\n",
    "b.show()"
   ]
  },
  {
   "cell_type": "code",
   "execution_count": 40,
   "id": "3cd89e51-7792-43be-83ae-9696ca25d04a",
   "metadata": {},
   "outputs": [
    {
     "name": "stdout",
     "output_type": "stream",
     "text": [
      "+-----+------+----+-----------+\n",
      "|  Add|    ID|Name|partitionID|\n",
      "+-----+------+----+-----------+\n",
      "|India|21.528|Atin|          0|\n",
      "| USeA|  3.69| Joe|          1|\n",
      "|  IND|  2.48|Tina|          2|\n",
      "| USdA| 22.22|Jhon|          3|\n",
      "|  rsa|  5.33| Joe|          3|\n",
      "+-----+------+----+-----------+\n",
      "\n"
     ]
    }
   ],
   "source": [
    "data2 = [{'Name':'Atin','ID':21.528,'Add':'India'},{'Name':'Joe','ID':3.69,'Add':'USeA'},{'Name':'Tina','ID':2.48,'Add':'IND'},{'Name':'Jhon','ID':22.22, 'Add':'USdA'},{'Name':'Joe','ID':5.33,'Add':'rsa'}]\n",
    "c = sc.parallelize(data2)\n",
    "d = spark.createDataFrame(c)\n",
    "d=d.withColumn(\"partitionID\", spark_partition_id())\n",
    "d.show()"
   ]
  },
  {
   "cell_type": "code",
   "execution_count": 30,
   "id": "a3d551e6-ad60-4d56-8d6f-f321a0626341",
   "metadata": {},
   "outputs": [
    {
     "name": "stdout",
     "output_type": "stream",
     "text": [
      "== Parsed Logical Plan ==\n",
      "Join Inner, (Add#389 = Add#370)\n",
      ":- LogicalRDD [Add#389, ID#390, Name#391], false\n",
      "+- LogicalRDD [Add#370, ID#371, Name#372], false\n",
      "\n",
      "== Analyzed Logical Plan ==\n",
      "Add: string, ID: double, Name: string, Add: string, ID: double, Name: string\n",
      "Join Inner, (Add#389 = Add#370)\n",
      ":- LogicalRDD [Add#389, ID#390, Name#391], false\n",
      "+- LogicalRDD [Add#370, ID#371, Name#372], false\n",
      "\n",
      "== Optimized Logical Plan ==\n",
      "Join Inner, (Add#389 = Add#370)\n",
      ":- Filter isnotnull(Add#389)\n",
      ":  +- LogicalRDD [Add#389, ID#390, Name#391], false\n",
      "+- Filter isnotnull(Add#370)\n",
      "   +- LogicalRDD [Add#370, ID#371, Name#372], false\n",
      "\n",
      "== Physical Plan ==\n",
      "AdaptiveSparkPlan isFinalPlan=false\n",
      "+- SortMergeJoin [Add#389], [Add#370], Inner\n",
      "   :- Sort [Add#389 ASC NULLS FIRST], false, 0\n",
      "   :  +- Exchange hashpartitioning(Add#389, 200), ENSURE_REQUIREMENTS, [id=#733]\n",
      "   :     +- Filter isnotnull(Add#389)\n",
      "   :        +- Scan ExistingRDD[Add#389,ID#390,Name#391]\n",
      "   +- Sort [Add#370 ASC NULLS FIRST], false, 0\n",
      "      +- Exchange hashpartitioning(Add#370, 200), ENSURE_REQUIREMENTS, [id=#734]\n",
      "         +- Filter isnotnull(Add#370)\n",
      "            +- Scan ExistingRDD[Add#370,ID#371,Name#372]\n",
      "\n"
     ]
    }
   ],
   "source": [
    "f = d.join(b,d.Add == b.Add)\n",
    "f.explain(True)"
   ]
  },
  {
   "cell_type": "code",
   "execution_count": 31,
   "id": "a2fb40fe-d7d7-4188-baa1-7eb4596fd1b0",
   "metadata": {},
   "outputs": [
    {
     "name": "stdout",
     "output_type": "stream",
     "text": [
      "+---+----+----+---+----+----+\n",
      "|Add|  ID|Name|Add|  ID|Name|\n",
      "+---+----+----+---+----+----+\n",
      "|IND|2.48|Tina|IND|2.48|Tina|\n",
      "+---+----+----+---+----+----+\n",
      "\n"
     ]
    }
   ],
   "source": [
    "f.show()"
   ]
  },
  {
   "cell_type": "code",
   "execution_count": 32,
   "id": "9b3e8ed2-5c30-4d38-ba69-dd3c0d866d2e",
   "metadata": {},
   "outputs": [
    {
     "name": "stdout",
     "output_type": "stream",
     "text": [
      "== Parsed Logical Plan ==\n",
      "Join Inner, (Add#389 = Add#370)\n",
      ":- LogicalRDD [Add#389, ID#390, Name#391], false\n",
      "+- ResolvedHint (strategy=broadcast)\n",
      "   +- LogicalRDD [Add#370, ID#371, Name#372], false\n",
      "\n",
      "== Analyzed Logical Plan ==\n",
      "Add: string, ID: double, Name: string, Add: string, ID: double, Name: string\n",
      "Join Inner, (Add#389 = Add#370)\n",
      ":- LogicalRDD [Add#389, ID#390, Name#391], false\n",
      "+- ResolvedHint (strategy=broadcast)\n",
      "   +- LogicalRDD [Add#370, ID#371, Name#372], false\n",
      "\n",
      "== Optimized Logical Plan ==\n",
      "Join Inner, (Add#389 = Add#370), rightHint=(strategy=broadcast)\n",
      ":- Filter isnotnull(Add#389)\n",
      ":  +- LogicalRDD [Add#389, ID#390, Name#391], false\n",
      "+- Filter isnotnull(Add#370)\n",
      "   +- LogicalRDD [Add#370, ID#371, Name#372], false\n",
      "\n",
      "== Physical Plan ==\n",
      "AdaptiveSparkPlan isFinalPlan=false\n",
      "+- BroadcastHashJoin [Add#389], [Add#370], Inner, BuildRight, false\n",
      "   :- Filter isnotnull(Add#389)\n",
      "   :  +- Scan ExistingRDD[Add#389,ID#390,Name#391]\n",
      "   +- BroadcastExchange HashedRelationBroadcastMode(List(input[0, string, false]),false), [id=#873]\n",
      "      +- Filter isnotnull(Add#370)\n",
      "         +- Scan ExistingRDD[Add#370,ID#371,Name#372]\n",
      "\n"
     ]
    }
   ],
   "source": [
    "from pyspark.sql.functions import broadcast\n",
    "f = d.join(broadcast(b),d.Add == b.Add)\n",
    "f.explain(True)"
   ]
  },
  {
   "cell_type": "code",
   "execution_count": 35,
   "id": "ef83d58c-fdb2-4725-adf2-09725d601bd4",
   "metadata": {},
   "outputs": [
    {
     "name": "stdout",
     "output_type": "stream",
     "text": [
      "+---+----+----+---+----+----+\n",
      "|Add|  ID|Name|Add|  ID|Name|\n",
      "+---+----+----+---+----+----+\n",
      "|IND|2.48|Tina|IND|2.48|Tina|\n",
      "+---+----+----+---+----+----+\n",
      "\n"
     ]
    }
   ],
   "source": [
    "f.show()"
   ]
  },
  {
   "cell_type": "code",
   "execution_count": 37,
   "id": "c67d2921-9225-4785-b9e6-bb70c6f03960",
   "metadata": {},
   "outputs": [
    {
     "data": {
      "text/plain": [
       "4"
      ]
     },
     "execution_count": 37,
     "metadata": {},
     "output_type": "execute_result"
    }
   ],
   "source": [
    "f.rdd.getNumPartitions()"
   ]
  },
  {
   "cell_type": "code",
   "execution_count": 23,
   "id": "31878df1-265f-40ef-a068-8382835bb2ff",
   "metadata": {},
   "outputs": [
    {
     "name": "stdout",
     "output_type": "stream",
     "text": [
      "+----------+---------+\n",
      "|first_name|     city|\n",
      "+----------+---------+\n",
      "|    andrea| medellin|\n",
      "|   rodolfo| medellin|\n",
      "|     abdul|bangalore|\n",
      "+----------+---------+\n",
      "\n"
     ]
    }
   ],
   "source": [
    "peopleDF = (\n",
    "  (\"andrea\", \"medellin\"),\n",
    "  (\"rodolfo\", \"medellin\"),\n",
    "  (\"abdul\", \"bangalore\")\n",
    ")\n",
    "\n",
    "peopleDF_a = sc.parallelize(peopleDF)\n",
    "peopleDF_b = spark.createDataFrame(peopleDF_a, [\"first_name\", \"city\"])\n",
    "\n",
    "peopleDF_b.show()"
   ]
  },
  {
   "cell_type": "code",
   "execution_count": 24,
   "id": "ef3654c5-fceb-4faa-bf10-8e4d9c7377fb",
   "metadata": {},
   "outputs": [
    {
     "name": "stdout",
     "output_type": "stream",
     "text": [
      "+---------+--------+----------+\n",
      "|     city| country|population|\n",
      "+---------+--------+----------+\n",
      "| medellin|colombia|       2.5|\n",
      "|bangalore|   india|      12.3|\n",
      "+---------+--------+----------+\n",
      "\n"
     ]
    }
   ],
   "source": [
    "citiesDF = (\n",
    "  (\"medellin\", \"colombia\", 2.5),\n",
    "  (\"bangalore\", \"india\", 12.3)\n",
    ")\n",
    "\n",
    "\n",
    "\n",
    "\n",
    "citiesDF_a = sc.parallelize(citiesDF)\n",
    "citiesDF_b = spark.createDataFrame(citiesDF_a, (\"city\", \"country\", \"population\"))\n",
    "\n",
    "citiesDF_b.show()"
   ]
  },
  {
   "cell_type": "code",
   "execution_count": 25,
   "id": "8a887da3-eb98-4d17-8234-b5c9de17755e",
   "metadata": {},
   "outputs": [
    {
     "name": "stdout",
     "output_type": "stream",
     "text": [
      "== Parsed Logical Plan ==\n",
      "Join Inner, (city#319 = city#331)\n",
      ":- LogicalRDD [first_name#318, city#319], false\n",
      "+- ResolvedHint (strategy=broadcast)\n",
      "   +- LogicalRDD [city#331, country#332, population#333], false\n",
      "\n",
      "== Analyzed Logical Plan ==\n",
      "first_name: string, city: string, city: string, country: string, population: double\n",
      "Join Inner, (city#319 = city#331)\n",
      ":- LogicalRDD [first_name#318, city#319], false\n",
      "+- ResolvedHint (strategy=broadcast)\n",
      "   +- LogicalRDD [city#331, country#332, population#333], false\n",
      "\n",
      "== Optimized Logical Plan ==\n",
      "Join Inner, (city#319 = city#331), rightHint=(strategy=broadcast)\n",
      ":- Filter isnotnull(city#319)\n",
      ":  +- LogicalRDD [first_name#318, city#319], false\n",
      "+- Filter isnotnull(city#331)\n",
      "   +- LogicalRDD [city#331, country#332, population#333], false\n",
      "\n",
      "== Physical Plan ==\n",
      "AdaptiveSparkPlan isFinalPlan=false\n",
      "+- BroadcastHashJoin [city#319], [city#331], Inner, BuildRight, false\n",
      "   :- Filter isnotnull(city#319)\n",
      "   :  +- Scan ExistingRDD[first_name#318,city#319]\n",
      "   +- BroadcastExchange HashedRelationBroadcastMode(List(input[0, string, false]),false), [id=#660]\n",
      "      +- Filter isnotnull(city#331)\n",
      "         +- Scan ExistingRDD[city#331,country#332,population#333]\n",
      "\n"
     ]
    }
   ],
   "source": [
    "peopleDF_b_j = peopleDF_b.join(\n",
    "  broadcast(citiesDF_b),\n",
    "  peopleDF_b.city == citiesDF_b.city\n",
    ")\n",
    "\n",
    "peopleDF_b_j.explain(True)"
   ]
  },
  {
   "cell_type": "code",
   "execution_count": 26,
   "id": "22abbdf6-6c88-40cb-9597-e080a9e1f613",
   "metadata": {},
   "outputs": [
    {
     "name": "stdout",
     "output_type": "stream",
     "text": [
      "== Parsed Logical Plan ==\n",
      "Join Inner, (city#319 = city#331)\n",
      ":- LogicalRDD [first_name#318, city#319], false\n",
      "+- LogicalRDD [city#331, country#332, population#333], false\n",
      "\n",
      "== Analyzed Logical Plan ==\n",
      "first_name: string, city: string, city: string, country: string, population: double\n",
      "Join Inner, (city#319 = city#331)\n",
      ":- LogicalRDD [first_name#318, city#319], false\n",
      "+- LogicalRDD [city#331, country#332, population#333], false\n",
      "\n",
      "== Optimized Logical Plan ==\n",
      "Join Inner, (city#319 = city#331)\n",
      ":- Filter isnotnull(city#319)\n",
      ":  +- LogicalRDD [first_name#318, city#319], false\n",
      "+- Filter isnotnull(city#331)\n",
      "   +- LogicalRDD [city#331, country#332, population#333], false\n",
      "\n",
      "== Physical Plan ==\n",
      "AdaptiveSparkPlan isFinalPlan=false\n",
      "+- SortMergeJoin [city#319], [city#331], Inner\n",
      "   :- Sort [city#319 ASC NULLS FIRST], false, 0\n",
      "   :  +- Exchange hashpartitioning(city#319, 200), ENSURE_REQUIREMENTS, [id=#683]\n",
      "   :     +- Filter isnotnull(city#319)\n",
      "   :        +- Scan ExistingRDD[first_name#318,city#319]\n",
      "   +- Sort [city#331 ASC NULLS FIRST], false, 0\n",
      "      +- Exchange hashpartitioning(city#331, 200), ENSURE_REQUIREMENTS, [id=#684]\n",
      "         +- Filter isnotnull(city#331)\n",
      "            +- Scan ExistingRDD[city#331,country#332,population#333]\n",
      "\n"
     ]
    }
   ],
   "source": [
    "peopleDF_b_j = peopleDF_b.join(\n",
    "  citiesDF_b,\n",
    "  peopleDF_b.city == citiesDF_b.city\n",
    ")\n",
    "\n",
    "peopleDF_b_j.explain(True)"
   ]
  },
  {
   "cell_type": "markdown",
   "id": "aab568f5-5dd8-4ca6-b4b4-7c5103892a04",
   "metadata": {},
   "source": [
    "#### Notice how the parsed, analyzed, and optimized logical plans all contain ResolvedHint isBroadcastable=true because the broadcast() function was used. This hint isn’t included when the broadcast() function isn’t used."
   ]
  },
  {
   "cell_type": "markdown",
   "id": "91dcb2b7-bec5-4269-a431-83dfa5efbdbe",
   "metadata": {},
   "source": [
    "## Automatic Detection"
   ]
  },
  {
   "cell_type": "markdown",
   "id": "b64273b2-7737-43bf-9986-b9b769ad6620",
   "metadata": {},
   "source": [
    "- In many cases, Spark can automatically detect whether to use a broadcast join or not, depending on the size of the data. If Spark can detect that one of the joined DataFrames is small (10 MB by default), Spark will automatically broadcast it for us. The code below:"
   ]
  },
  {
   "cell_type": "code",
   "execution_count": 38,
   "id": "c3e63623-f747-493a-8bc7-1dea79008e96",
   "metadata": {},
   "outputs": [
    {
     "name": "stdout",
     "output_type": "stream",
     "text": [
      "== Parsed Logical Plan ==\n",
      "'Join UsingJoin(Inner,Buffer(id))\n",
      ":- Range (1, 10000, step=1, splits=Some(4))\n",
      "+- Range (1, 100000000, step=1, splits=Some(4))\n",
      "\n",
      "== Analyzed Logical Plan ==\n",
      "id: bigint\n",
      "Project [id#276L]\n",
      "+- Join Inner, (id#276L = id#274L)\n",
      "   :- Range (1, 10000, step=1, splits=Some(4))\n",
      "   +- Range (1, 100000000, step=1, splits=Some(4))\n",
      "\n",
      "== Optimized Logical Plan ==\n",
      "Project [id#276L]\n",
      "+- Join Inner, (id#276L = id#274L)\n",
      "   :- Range (1, 10000, step=1, splits=Some(4))\n",
      "   +- Range (1, 100000000, step=1, splits=Some(4))\n",
      "\n",
      "== Physical Plan ==\n",
      "AdaptiveSparkPlan isFinalPlan=false\n",
      "+- Project [id#276L]\n",
      "   +- BroadcastHashJoin [id#276L], [id#274L], Inner, BuildLeft, false\n",
      "      :- BroadcastExchange HashedRelationBroadcastMode(List(input[0, bigint, false]),false), [id=#585]\n",
      "      :  +- Range (1, 10000, step=1, splits=4)\n",
      "      +- Range (1, 100000000, step=1, splits=4)\n",
      "\n"
     ]
    }
   ],
   "source": [
    "bigTable = spark.range(1, 100000000)\n",
    "smallTable = spark.range(1, 10000) # size estimated by Spark - auto-broadcast\n",
    "joinedNumbers = smallTable.join(bigTable, \"id\")\n",
    "joinedNumbers.explain(True)"
   ]
  },
  {
   "cell_type": "markdown",
   "id": "0fb5acb7-18d6-4894-b83d-0b0fdf12511a",
   "metadata": {},
   "source": [
    "- However, in the previous case, Spark did not detect that the small table could be broadcast. \n",
    "- The reason is that Spark will not determine the size of a local collection because it might be big, and evaluating its size may be an O(N) operation, which can defeat the purpose before any computation is made."
   ]
  },
  {
   "cell_type": "markdown",
   "id": "39dc7377-f588-45a1-ba28-e5661ecc1a43",
   "metadata": {},
   "source": [
    "- Spark will perform auto-detection when\n",
    "    - it constructs a DataFrame from scratch, e.g. spark.range\n",
    "    - it reads from files with schema and/or size information, e.g. Parquet"
   ]
  },
  {
   "cell_type": "markdown",
   "id": "59bf2034-2e12-4aa4-b3cd-49bb9d1fef13",
   "metadata": {},
   "source": [
    "## Configuring Broadcast Join Detection"
   ]
  },
  {
   "cell_type": "markdown",
   "id": "f5033ff2-bd71-4140-ae3e-7699ac890a51",
   "metadata": {},
   "source": [
    "- The threshold for automatic broadcast join detection can be tuned or disabled.\n",
    "- The configuration is spark.sql.autoBroadcastJoinThreshold, and the value is taken in bytes. If you want to configure it to another number, we can set it in the SparkSession:"
   ]
  },
  {
   "cell_type": "code",
   "execution_count": 41,
   "id": "6d0b3690-ba01-48ad-999b-56f094c2d63e",
   "metadata": {},
   "outputs": [],
   "source": [
    "spark.conf.set(\"spark.sql.autoBroadcastJoinThreshold\", 104857600)"
   ]
  },
  {
   "cell_type": "markdown",
   "id": "d03c9695-0880-442b-8070-2a1e995a771a",
   "metadata": {},
   "source": [
    "- or deactivate it altogether by setting the value to -1."
   ]
  },
  {
   "cell_type": "code",
   "execution_count": 39,
   "id": "51620fb2-8ff7-42fb-99f4-e6d0a17a2fba",
   "metadata": {},
   "outputs": [],
   "source": [
    "spark.conf.set(\"spark.sql.autoBroadcastJoinThreshold\", -1) "
   ]
  }
 ],
 "metadata": {
  "kernelspec": {
   "display_name": "Python 3 (ipykernel)",
   "language": "python",
   "name": "python3"
  },
  "language_info": {
   "codemirror_mode": {
    "name": "ipython",
    "version": 3
   },
   "file_extension": ".py",
   "mimetype": "text/x-python",
   "name": "python",
   "nbconvert_exporter": "python",
   "pygments_lexer": "ipython3",
   "version": "3.9.12"
  }
 },
 "nbformat": 4,
 "nbformat_minor": 5
}
