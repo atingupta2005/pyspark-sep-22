{
 "cells": [
  {
   "cell_type": "code",
   "execution_count": 1,
   "id": "25772fb6",
   "metadata": {},
   "outputs": [],
   "source": [
    "from pyspark import SparkContext, SparkConf\n",
    "from pyspark.conf import SparkConf\n",
    "from pyspark.sql import SparkSession, HiveContext"
   ]
  },
  {
   "cell_type": "code",
   "execution_count": 2,
   "id": "12a5f427",
   "metadata": {},
   "outputs": [
    {
     "name": "stderr",
     "output_type": "stream",
     "text": [
      "22/09/11 00:55:43 WARN NativeCodeLoader: Unable to load native-hadoop library for your platform... using builtin-java classes where applicable\n",
      "Using Spark's default log4j profile: org/apache/spark/log4j-defaults.properties\n",
      "Setting default log level to \"WARN\".\n",
      "To adjust logging level use sc.setLogLevel(newLevel). For SparkR, use setLogLevel(newLevel).\n"
     ]
    }
   ],
   "source": [
    "sparkSession = (SparkSession\n",
    "                .builder\n",
    "                .appName('example-pyspark-read-and-write-from-hive')\n",
    "                .config(\"hive.metastore.uris\", \"thrift://localhost:9083\", conf=SparkConf())\n",
    "                .enableHiveSupport()\n",
    "                .getOrCreate()\n",
    "                )"
   ]
  },
  {
   "cell_type": "code",
   "execution_count": 5,
   "id": "48633b43",
   "metadata": {},
   "outputs": [],
   "source": [
    "data = [('First', 1), ('Second', 2), ('Third', 3), ('Fourth', 4), ('Fifth', 5)]\n",
    "df = sparkSession.createDataFrame(data)\n"
   ]
  },
  {
   "cell_type": "code",
   "execution_count": 6,
   "id": "272dcfcf",
   "metadata": {},
   "outputs": [
    {
     "name": "stderr",
     "output_type": "stream",
     "text": [
      "22/09/11 00:56:46 WARN SessionState: METASTORE_FILTER_HOOK will be ignored, since hive.security.authorization.manager is set to instance of HiveAuthorizerFactory.\n",
      "22/09/11 00:56:47 WARN HiveConf: HiveConf of name hive.internal.ss.authz.settings.applied.marker does not exist\n",
      "22/09/11 00:56:47 WARN HiveConf: HiveConf of name hive.stats.jdbc.timeout does not exist\n",
      "22/09/11 00:56:47 WARN HiveConf: HiveConf of name hive.stats.retries.wait does not exist\n"
     ]
    }
   ],
   "source": [
    "# Write into Hive\n",
    "df.write.saveAsTable('example')"
   ]
  },
  {
   "cell_type": "code",
   "execution_count": 7,
   "id": "1cbf06f4",
   "metadata": {},
   "outputs": [],
   "source": [
    "df_load = sparkSession.sql('SELECT * FROM example')"
   ]
  },
  {
   "cell_type": "code",
   "execution_count": 8,
   "id": "bec0de62",
   "metadata": {},
   "outputs": [
    {
     "name": "stdout",
     "output_type": "stream",
     "text": [
      "+------+---+\n",
      "|    _1| _2|\n",
      "+------+---+\n",
      "| First|  1|\n",
      "|Second|  2|\n",
      "| Third|  3|\n",
      "|Fourth|  4|\n",
      "| Fifth|  5|\n",
      "+------+---+\n",
      "\n",
      "+------+---+\n",
      "|    _1| _2|\n",
      "+------+---+\n",
      "| First|  1|\n",
      "|Second|  2|\n",
      "| Third|  3|\n",
      "|Fourth|  4|\n",
      "| Fifth|  5|\n",
      "+------+---+\n",
      "\n",
      "None\n"
     ]
    }
   ],
   "source": [
    "df_load.show()\n",
    "print(df_load.show())"
   ]
  }
 ],
 "metadata": {
  "kernelspec": {
   "display_name": "Python 3 (ipykernel)",
   "language": "python",
   "name": "python3"
  },
  "language_info": {
   "codemirror_mode": {
    "name": "ipython",
    "version": 3
   },
   "file_extension": ".py",
   "mimetype": "text/x-python",
   "name": "python",
   "nbconvert_exporter": "python",
   "pygments_lexer": "ipython3",
   "version": "3.9.2"
  }
 },
 "nbformat": 4,
 "nbformat_minor": 5
}
