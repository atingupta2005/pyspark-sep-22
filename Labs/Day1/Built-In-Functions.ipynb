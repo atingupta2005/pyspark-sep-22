{
 "cells": [
  {
   "cell_type": "markdown",
   "metadata": {
    "colab_type": "text",
    "id": "9tzB5V0lNY5p"
   },
   "source": [
    "## Built-In-Functions\n"
   ]
  },
  {
   "cell_type": "code",
   "execution_count": null,
   "metadata": {
    "colab": {
     "base_uri": "https://localhost:8080/",
     "height": 85
    },
    "colab_type": "code",
    "executionInfo": {
     "elapsed": 2056,
     "status": "ok",
     "timestamp": 1591709658141,
     "user": {
      "displayName": "Atin Gupta",
      "photoUrl": "https://lh3.googleusercontent.com/a-/AOh14Gi1LyLILoESCrCvqA94FJEzlaNfumYdJznKg_osrQ=s64",
      "userId": "01235820350389977490"
     },
     "user_tz": -330
    },
    "id": "LXqNidRuNY6L",
    "outputId": "b2b126bc-7ec2-43a9-b4ab-94e4f6595191"
   },
   "outputs": [
    {
     "name": "stdout",
     "output_type": "stream",
     "text": [
      "[1, 3, 4, 5, 10]\n",
      "[5, 1, 3, 10, 4]\n",
      "[11, 33, 44, 55, 100]\n",
      "(55, 11, 33, 100, 44)\n"
     ]
    }
   ],
   "source": [
    "# Example 1 --- sorted()\n",
    "## sorted() will sort a sequence like list, tuple in ascending order but the original sequence remains unchanged\n",
    "\n",
    "list1=[5,1,3,10,4]\n",
    "print(sorted(list1))\n",
    "\n",
    "print(list1)\n",
    "tuple1=(55,11,33,100,44)\n",
    "print(sorted(tuple1))\n",
    "print(tuple1)"
   ]
  },
  {
   "cell_type": "code",
   "execution_count": null,
   "metadata": {
    "colab": {
     "base_uri": "https://localhost:8080/",
     "height": 34
    },
    "colab_type": "code",
    "executionInfo": {
     "elapsed": 2707,
     "status": "ok",
     "timestamp": 1591709658866,
     "user": {
      "displayName": "Atin Gupta",
      "photoUrl": "https://lh3.googleusercontent.com/a-/AOh14Gi1LyLILoESCrCvqA94FJEzlaNfumYdJznKg_osrQ=s64",
      "userId": "01235820350389977490"
     },
     "user_tz": -330
    },
    "id": "1brKJyZjNY6q",
    "outputId": "30e71dd4-e7e5-4235-9799-5e5ee4eacf19"
   },
   "outputs": [
    {
     "name": "stdout",
     "output_type": "stream",
     "text": [
      "5.5\n"
     ]
    }
   ],
   "source": [
    "# Example 2 --- abs()\n",
    "# If we apply abs() on any variable, it gives the absolute value or modulus of that variable.\n",
    "x=-10.5+5\n",
    "print(abs(x))"
   ]
  },
  {
   "cell_type": "code",
   "execution_count": null,
   "metadata": {
    "colab": {
     "base_uri": "https://localhost:8080/",
     "height": 34
    },
    "colab_type": "code",
    "executionInfo": {
     "elapsed": 2655,
     "status": "ok",
     "timestamp": 1591709658879,
     "user": {
      "displayName": "Atin Gupta",
      "photoUrl": "https://lh3.googleusercontent.com/a-/AOh14Gi1LyLILoESCrCvqA94FJEzlaNfumYdJznKg_osrQ=s64",
      "userId": "01235820350389977490"
     },
     "user_tz": -330
    },
    "id": "7qtpZinINY7C",
    "outputId": "645dcae6-178a-4814-cab1-377623ec1661"
   },
   "outputs": [
    {
     "name": "stdout",
     "output_type": "stream",
     "text": [
      "0b10100\n"
     ]
    }
   ],
   "source": [
    "# Example 3 --- bin()\n",
    "# bin() is used to convert decimal values to binary values\n",
    "var1=20\n",
    "print(bin(var1))"
   ]
  },
  {
   "cell_type": "code",
   "execution_count": null,
   "metadata": {
    "colab": {
     "base_uri": "https://localhost:8080/",
     "height": 51
    },
    "colab_type": "code",
    "executionInfo": {
     "elapsed": 2602,
     "status": "ok",
     "timestamp": 1591709658885,
     "user": {
      "displayName": "Atin Gupta",
      "photoUrl": "https://lh3.googleusercontent.com/a-/AOh14Gi1LyLILoESCrCvqA94FJEzlaNfumYdJznKg_osrQ=s64",
      "userId": "01235820350389977490"
     },
     "user_tz": -330
    },
    "id": "mjlhTevzNY7Y",
    "outputId": "b9179150-b8b2-4da8-9316-7718ae2c5a8d"
   },
   "outputs": [
    {
     "name": "stdout",
     "output_type": "stream",
     "text": [
      "A\n",
      "97\n"
     ]
    }
   ],
   "source": [
    "# Example 4 --- ord()  vs chr()\n",
    "# ord() is used to convert character to ASCII value and chr() does the opposite\n",
    "x=65\n",
    "print(chr(x))\n",
    "y='a'\n",
    "print(ord(y))"
   ]
  },
  {
   "cell_type": "code",
   "execution_count": null,
   "metadata": {
    "colab": {
     "base_uri": "https://localhost:8080/",
     "height": 34
    },
    "colab_type": "code",
    "executionInfo": {
     "elapsed": 1485,
     "status": "ok",
     "timestamp": 1591709664755,
     "user": {
      "displayName": "Atin Gupta",
      "photoUrl": "https://lh3.googleusercontent.com/a-/AOh14Gi1LyLILoESCrCvqA94FJEzlaNfumYdJznKg_osrQ=s64",
      "userId": "01235820350389977490"
     },
     "user_tz": -330
    },
    "id": "cy9YLuqCNY7u",
    "outputId": "834ba8a9-f909-47b6-f230-1124f648aa9a"
   },
   "outputs": [
    {
     "name": "stdout",
     "output_type": "stream",
     "text": [
      "28\n"
     ]
    }
   ],
   "source": [
    "# Exaple 5 --- sum()\n",
    "# It sums up all the items in an iterable. But all the values have to be of same data type\n",
    "list2=[1,2,3,4,5,6,7]\n",
    "print(sum(list2))"
   ]
  },
  {
   "cell_type": "code",
   "execution_count": null,
   "metadata": {
    "colab": {
     "base_uri": "https://localhost:8080/",
     "height": 255
    },
    "colab_type": "code",
    "executionInfo": {
     "elapsed": 1757,
     "status": "ok",
     "timestamp": 1591709667651,
     "user": {
      "displayName": "Atin Gupta",
      "photoUrl": "https://lh3.googleusercontent.com/a-/AOh14Gi1LyLILoESCrCvqA94FJEzlaNfumYdJznKg_osrQ=s64",
      "userId": "01235820350389977490"
     },
     "user_tz": -330
    },
    "id": "944FBRS9NY8G",
    "outputId": "79f4ee7f-8c25-48be-eeb4-e6600fbe9e27"
   },
   "outputs": [
    {
     "name": "stdout",
     "output_type": "stream",
     "text": [
      "<list_reverseiterator object at 0x7f1e24c9e6d8>\n",
      "4\n",
      "10\n",
      "3\n",
      "1\n",
      "5\n",
      "[5, 1, 3, 10, 4]\n",
      "<reversed object at 0x7f1e24c9e6d8>\n",
      "44\n",
      "100\n",
      "33\n",
      "11\n",
      "55\n",
      "(55, 11, 33, 100, 44)\n"
     ]
    }
   ],
   "source": [
    "# Example 6 --- reversed()\n",
    "## reversed() will reverse a sequence like list, tuple, but the original sequence remains unchanged\n",
    "\n",
    "list1=[5,1,3,10,4]\n",
    "print(reversed(list1))\n",
    "for i in reversed(list1):\n",
    "    print(i)\n",
    "print(list1)\n",
    "tuple1=(55,11,33,100,44)\n",
    "print(reversed(tuple1))\n",
    "for i in reversed(tuple1):\n",
    "    print(i)\n",
    "print(tuple1)"
   ]
  },
  {
   "cell_type": "code",
   "execution_count": null,
   "metadata": {
    "colab": {
     "base_uri": "https://localhost:8080/",
     "height": 68
    },
    "colab_type": "code",
    "executionInfo": {
     "elapsed": 1670,
     "status": "ok",
     "timestamp": 1591709723975,
     "user": {
      "displayName": "Atin Gupta",
      "photoUrl": "https://lh3.googleusercontent.com/a-/AOh14Gi1LyLILoESCrCvqA94FJEzlaNfumYdJznKg_osrQ=s64",
      "userId": "01235820350389977490"
     },
     "user_tz": -330
    },
    "id": "h1sqZKg7NY8d",
    "outputId": "0a1cbdea-879c-41fa-dc67-c54e119b0d09"
   },
   "outputs": [
    {
     "name": "stdout",
     "output_type": "stream",
     "text": [
      "False\n",
      "False\n",
      "True\n"
     ]
    }
   ],
   "source": [
    "# Example 7 --- all()\n",
    "# If all the elements of a sequence are true, then it returns true.\n",
    "#  Q> What is True In Python?\n",
    "# Ans:- Any non-zero, non-empty value in python is true. e.g. None is not true. \n",
    "\n",
    "list1=[True,10,0]\n",
    "print(all(list1))  # It will return false because 0 is not True\n",
    "list2=[True,10,1,0.5,None]\n",
    "print(all(list2))   # It will also return false as None is not True\n",
    "list3=[True,10,1,0.5,'None']\n",
    "print(all(list3))  # It will return True because all elements are True. Please note here 'None' is a String"
   ]
  },
  {
   "cell_type": "code",
   "execution_count": null,
   "metadata": {
    "colab": {
     "base_uri": "https://localhost:8080/",
     "height": 51
    },
    "colab_type": "code",
    "executionInfo": {
     "elapsed": 1042,
     "status": "ok",
     "timestamp": 1591709728435,
     "user": {
      "displayName": "Atin Gupta",
      "photoUrl": "https://lh3.googleusercontent.com/a-/AOh14Gi1LyLILoESCrCvqA94FJEzlaNfumYdJznKg_osrQ=s64",
      "userId": "01235820350389977490"
     },
     "user_tz": -330
    },
    "id": "M5uZy_LqNY9A",
    "outputId": "df7c1eb6-cd68-4fd5-c8d3-3c6c38a65d11"
   },
   "outputs": [
    {
     "name": "stdout",
     "output_type": "stream",
     "text": [
      "True\n",
      "False\n"
     ]
    }
   ],
   "source": [
    "# Example 8 --- any()\n",
    "# If any of the element of a sequence is True, it will return True\n",
    "list4=[10,0,None,False]  # Here, one element is True\n",
    "print(any(list4))\n",
    "list5=[0,0,None,False]\n",
    "print(any(list5))   # Here, all the elements are False"
   ]
  },
  {
   "cell_type": "code",
   "execution_count": null,
   "metadata": {
    "colab": {
     "base_uri": "https://localhost:8080/",
     "height": 714
    },
    "colab_type": "code",
    "executionInfo": {
     "elapsed": 1149,
     "status": "ok",
     "timestamp": 1591709731746,
     "user": {
      "displayName": "Atin Gupta",
      "photoUrl": "https://lh3.googleusercontent.com/a-/AOh14Gi1LyLILoESCrCvqA94FJEzlaNfumYdJznKg_osrQ=s64",
      "userId": "01235820350389977490"
     },
     "user_tz": -330
    },
    "id": "L9iNJb0fNY9T",
    "outputId": "3dc28fd6-9d9d-464a-f4b0-656a054de697"
   },
   "outputs": [
    {
     "name": "stdout",
     "output_type": "stream",
     "text": [
      "__name__\n",
      "__doc__\n",
      "__package__\n",
      "__loader__\n",
      "__spec__\n",
      "__builtin__\n",
      "__builtins__\n",
      "_ih\n",
      "_oh\n",
      "_dh\n",
      "_sh\n",
      "In\n",
      "Out\n",
      "get_ipython\n",
      "exit\n",
      "quit\n",
      "_\n",
      "__\n",
      "___\n",
      "_i\n",
      "_ii\n",
      "_iii\n",
      "_i1\n",
      "list1\n",
      "tuple1\n",
      "_i2\n",
      "x\n",
      "_i3\n",
      "var1\n",
      "_i4\n",
      "y\n",
      "_i5\n",
      "list2\n",
      "_i6\n",
      "i\n",
      "_i7\n",
      "list3\n",
      "_i8\n",
      "list4\n",
      "list5\n",
      "_i9\n"
     ]
    }
   ],
   "source": [
    "# Example 9 ---- globals()\n",
    "# It gives a dictionary which contains all global variables at that point of time\n",
    "for i in globals():\n",
    "    print(i)"
   ]
  },
  {
   "cell_type": "code",
   "execution_count": null,
   "metadata": {
    "colab": {
     "base_uri": "https://localhost:8080/",
     "height": 68
    },
    "colab_type": "code",
    "executionInfo": {
     "elapsed": 1111,
     "status": "ok",
     "timestamp": 1591709747943,
     "user": {
      "displayName": "Atin Gupta",
      "photoUrl": "https://lh3.googleusercontent.com/a-/AOh14Gi1LyLILoESCrCvqA94FJEzlaNfumYdJznKg_osrQ=s64",
      "userId": "01235820350389977490"
     },
     "user_tz": -330
    },
    "id": "6zJFw5kjNY9o",
    "outputId": "a5a8ef5b-00b6-4431-8d0a-58603e16704f"
   },
   "outputs": [
    {
     "name": "stdout",
     "output_type": "stream",
     "text": [
      "<class 'enumerate'>\n",
      "[(0, 'tiger'), (1, 'lion'), (2, 'deer')]\n",
      "[(10, 'tiger'), (11, 'lion'), (12, 'deer')]\n"
     ]
    }
   ],
   "source": [
    "# Example 10 ---- enumerate()\n",
    "# Return an enumerate object. The Iterable must be a sequence, an iterator, or some other object which supports iteration\n",
    "# Enumerate returns the list of tuples. Tuples consists index values and items from the list\n",
    "\n",
    "animals = ['tiger', 'lion', 'deer']\n",
    "enumerateAnimals = enumerate(animals)\n",
    "print(type(enumerateAnimals))\n",
    "# converting to list\n",
    "print(list(enumerateAnimals))\n",
    "# changing the default counter\n",
    "enumerateAnimals = enumerate(animals, 10)\n",
    "print(list(enumerateAnimals))\n"
   ]
  },
  {
   "cell_type": "code",
   "execution_count": null,
   "metadata": {
    "colab": {
     "base_uri": "https://localhost:8080/",
     "height": 68
    },
    "colab_type": "code",
    "executionInfo": {
     "elapsed": 1369,
     "status": "ok",
     "timestamp": 1591709842992,
     "user": {
      "displayName": "Atin Gupta",
      "photoUrl": "https://lh3.googleusercontent.com/a-/AOh14Gi1LyLILoESCrCvqA94FJEzlaNfumYdJznKg_osrQ=s64",
      "userId": "01235820350389977490"
     },
     "user_tz": -330
    },
    "id": "Gv90hzpsS0Q8",
    "outputId": "fbb4c13b-0d5a-4d6e-b826-3051b1297c8e"
   },
   "outputs": [
    {
     "name": "stdout",
     "output_type": "stream",
     "text": [
      "1 tiger\n",
      "2 lion\n",
      "3 deer\n"
     ]
    }
   ],
   "source": [
    "for i, val in enumerate(animals,1):\n",
    "  print (i, val)"
   ]
  },
  {
   "cell_type": "code",
   "execution_count": null,
   "metadata": {
    "colab": {},
    "colab_type": "code",
    "id": "nQp5rLplS7Rm"
   },
   "outputs": [],
   "source": []
  }
 ],
 "metadata": {
  "colab": {
   "collapsed_sections": [],
   "name": "3. Built-In-Functions.ipynb",
   "provenance": []
  },
  "kernelspec": {
   "display_name": "Python 3 (ipykernel)",
   "language": "python",
   "name": "python3"
  },
  "language_info": {
   "codemirror_mode": {
    "name": "ipython",
    "version": 3
   },
   "file_extension": ".py",
   "mimetype": "text/x-python",
   "name": "python",
   "nbconvert_exporter": "python",
   "pygments_lexer": "ipython3",
   "version": "3.9.12"
  }
 },
 "nbformat": 4,
 "nbformat_minor": 4
}
