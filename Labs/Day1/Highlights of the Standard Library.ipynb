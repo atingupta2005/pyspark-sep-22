{
 "cells": [
  {
   "cell_type": "markdown",
   "metadata": {
    "colab_type": "text",
    "id": "fX3FNjwjvT-V"
   },
   "source": [
    "## **Import Libraries**"
   ]
  },
  {
   "cell_type": "code",
   "execution_count": null,
   "metadata": {
    "colab": {},
    "colab_type": "code",
    "executionInfo": {
     "elapsed": 2288,
     "status": "ok",
     "timestamp": 1592541656458,
     "user": {
      "displayName": "Atin Gupta",
      "photoUrl": "https://lh3.googleusercontent.com/a-/AOh14Gi1LyLILoESCrCvqA94FJEzlaNfumYdJznKg_osrQ=s64",
      "userId": "01235820350389977490"
     },
     "user_tz": 0
    },
    "id": "xAdIq0LbtFPz"
   },
   "outputs": [],
   "source": [
    "import stat\n",
    "import os\n",
    "import os.path\n"
   ]
  },
  {
   "cell_type": "markdown",
   "metadata": {
    "colab_type": "text",
    "id": "IfC90_XwvOeg"
   },
   "source": [
    "## **OS commands automations**"
   ]
  },
  {
   "cell_type": "code",
   "execution_count": null,
   "metadata": {
    "colab": {
     "base_uri": "https://localhost:8080/",
     "height": 34
    },
    "colab_type": "code",
    "executionInfo": {
     "elapsed": 2116,
     "status": "ok",
     "timestamp": 1592541656459,
     "user": {
      "displayName": "Atin Gupta",
      "photoUrl": "https://lh3.googleusercontent.com/a-/AOh14Gi1LyLILoESCrCvqA94FJEzlaNfumYdJznKg_osrQ=s64",
      "userId": "01235820350389977490"
     },
     "user_tz": 0
    },
    "id": "8Pk7U-GAtxB_",
    "outputId": "16f715e0-160d-4aad-9ab5-70e78142791a"
   },
   "outputs": [],
   "source": [
    "print(os.name) "
   ]
  },
  {
   "cell_type": "code",
   "execution_count": null,
   "metadata": {
    "colab": {
     "base_uri": "https://localhost:8080/",
     "height": 1000
    },
    "colab_type": "code",
    "executionInfo": {
     "elapsed": 1073,
     "status": "ok",
     "timestamp": 1592541660956,
     "user": {
      "displayName": "Atin Gupta",
      "photoUrl": "https://lh3.googleusercontent.com/a-/AOh14Gi1LyLILoESCrCvqA94FJEzlaNfumYdJznKg_osrQ=s64",
      "userId": "01235820350389977490"
     },
     "user_tz": 0
    },
    "id": "BwUIDs5NuGuU",
    "outputId": "491ebe79-d9f7-412a-faf4-413841088f88"
   },
   "outputs": [],
   "source": [
    "dir(os)"
   ]
  },
  {
   "cell_type": "code",
   "execution_count": null,
   "metadata": {
    "colab": {
     "base_uri": "https://localhost:8080/",
     "height": 51
    },
    "colab_type": "code",
    "executionInfo": {
     "elapsed": 948,
     "status": "ok",
     "timestamp": 1592541697099,
     "user": {
      "displayName": "Atin Gupta",
      "photoUrl": "https://lh3.googleusercontent.com/a-/AOh14Gi1LyLILoESCrCvqA94FJEzlaNfumYdJznKg_osrQ=s64",
      "userId": "01235820350389977490"
     },
     "user_tz": 0
    },
    "id": "y54Xk2squHRq",
    "outputId": "eed1ec1b-2455-47ec-e1c8-11bf1234b371"
   },
   "outputs": [],
   "source": [
    "print(\"\\nCurrent Working Directory: \", os.getcwd())\n"
   ]
  },
  {
   "cell_type": "code",
   "execution_count": null,
   "metadata": {
    "colab": {
     "base_uri": "https://localhost:8080/",
     "height": 68
    },
    "colab_type": "code",
    "executionInfo": {
     "elapsed": 959,
     "status": "ok",
     "timestamp": 1592541775736,
     "user": {
      "displayName": "Atin Gupta",
      "photoUrl": "https://lh3.googleusercontent.com/a-/AOh14Gi1LyLILoESCrCvqA94FJEzlaNfumYdJznKg_osrQ=s64",
      "userId": "01235820350389977490"
     },
     "user_tz": 0
    },
    "id": "S4JpcPX4uN_X",
    "outputId": "32aeb39a-4c25-443f-f341-9b434efc88b0"
   },
   "outputs": [],
   "source": [
    "# To print absolute path on your system \n",
    "print(\"\\n\\n Absolute OS Path: \", os.path.abspath('.'))\n"
   ]
  },
  {
   "cell_type": "code",
   "execution_count": null,
   "metadata": {
    "colab": {
     "base_uri": "https://localhost:8080/",
     "height": 68
    },
    "colab_type": "code",
    "executionInfo": {
     "elapsed": 927,
     "status": "ok",
     "timestamp": 1592541817341,
     "user": {
      "displayName": "Atin Gupta",
      "photoUrl": "https://lh3.googleusercontent.com/a-/AOh14Gi1LyLILoESCrCvqA94FJEzlaNfumYdJznKg_osrQ=s64",
      "userId": "01235820350389977490"
     },
     "user_tz": 0
    },
    "id": "w8d0UC07uPj7",
    "outputId": "3449ba9a-6d22-4d79-a510-c674c069824b"
   },
   "outputs": [],
   "source": [
    "print(\"\\n\\n Relative OS Path: \", os.path.relpath('data'))"
   ]
  },
  {
   "cell_type": "code",
   "execution_count": null,
   "metadata": {
    "colab": {
     "base_uri": "https://localhost:8080/",
     "height": 170
    },
    "colab_type": "code",
    "executionInfo": {
     "elapsed": 957,
     "status": "ok",
     "timestamp": 1592541869610,
     "user": {
      "displayName": "Atin Gupta",
      "photoUrl": "https://lh3.googleusercontent.com/a-/AOh14Gi1LyLILoESCrCvqA94FJEzlaNfumYdJznKg_osrQ=s64",
      "userId": "01235820350389977490"
     },
     "user_tz": 0
    },
    "id": "i1raxzMTuRcv",
    "outputId": "c2d9fa68-f58e-4946-f3fe-c0a3cd83af77"
   },
   "outputs": [],
   "source": [
    "# To print files and directories in the current directory \n",
    "# on your system \n",
    "print(\"\\n\\nList of files in current directory: \")\n",
    "os.listdir('.')\n",
    "os.listdir('./sample_data')\n"
   ]
  },
  {
   "cell_type": "markdown",
   "metadata": {
    "colab_type": "text",
    "id": "cOI_7jWStx2Z"
   },
   "source": [
    "## **Working with compressed files**"
   ]
  },
  {
   "cell_type": "markdown",
   "metadata": {
    "colab_type": "text",
    "id": "PT6MjbAcunbP"
   },
   "source": [
    "##### Compressing Individual Files"
   ]
  },
  {
   "cell_type": "code",
   "execution_count": null,
   "metadata": {
    "colab": {},
    "colab_type": "code",
    "executionInfo": {
     "elapsed": 736,
     "status": "ok",
     "timestamp": 1592541900038,
     "user": {
      "displayName": "Atin Gupta",
      "photoUrl": "https://lh3.googleusercontent.com/a-/AOh14Gi1LyLILoESCrCvqA94FJEzlaNfumYdJznKg_osrQ=s64",
      "userId": "01235820350389977490"
     },
     "user_tz": 0
    },
    "id": "DCdtsDyKIgbU"
   },
   "outputs": [],
   "source": [
    "f = open(os.path.join(\"./\", 'file1.txt'), 'w')\n",
    "f.write('This is the new file.')\n",
    "f.close()\n",
    "\n",
    "f = open(os.path.join(\"./\", 'file2.txt'), 'w')\n",
    "f.write('This is the new file 2.')\n",
    "f.close()\n",
    "\n",
    "f = open(os.path.join(\"./\", 'file3.txt'), 'w')\n",
    "f.write('This is the new file 3.')\n",
    "f.close()\n",
    "\n",
    "f = open(os.path.join(\"./\", 'file4.txt'), 'w')\n",
    "f.write('This is the new file 4.')\n",
    "f.close()\n",
    "\n",
    "f = open(os.path.join(\"./\", 'file5.txt'), 'w')\n",
    "f.write('This is the new file 5.')\n",
    "f.close()"
   ]
  },
  {
   "cell_type": "code",
   "execution_count": null,
   "metadata": {
    "colab": {},
    "colab_type": "code",
    "executionInfo": {
     "elapsed": 930,
     "status": "ok",
     "timestamp": 1592541948735,
     "user": {
      "displayName": "Atin Gupta",
      "photoUrl": "https://lh3.googleusercontent.com/a-/AOh14Gi1LyLILoESCrCvqA94FJEzlaNfumYdJznKg_osrQ=s64",
      "userId": "01235820350389977490"
     },
     "user_tz": 0
    },
    "id": "ygiRa-dqt02O"
   },
   "outputs": [],
   "source": [
    "import zipfile\n",
    "\n",
    "jungle_zip = zipfile.ZipFile('Test File1.zip', 'w')\n",
    "jungle_zip.write('./file1.txt', compress_type=zipfile.ZIP_DEFLATED)\n",
    " \n",
    "jungle_zip.close()"
   ]
  },
  {
   "cell_type": "markdown",
   "metadata": {
    "colab_type": "text",
    "id": "jAyFhsoZupdN"
   },
   "source": [
    "#### Compressing Multiple Files"
   ]
  },
  {
   "cell_type": "code",
   "execution_count": null,
   "metadata": {
    "colab": {},
    "colab_type": "code",
    "executionInfo": {
     "elapsed": 914,
     "status": "ok",
     "timestamp": 1592542034915,
     "user": {
      "displayName": "Atin Gupta",
      "photoUrl": "https://lh3.googleusercontent.com/a-/AOh14Gi1LyLILoESCrCvqA94FJEzlaNfumYdJznKg_osrQ=s64",
      "userId": "01235820350389977490"
     },
     "user_tz": 0
    },
    "id": "60QRCWY_uofJ"
   },
   "outputs": [],
   "source": [
    "import os\n",
    "import zipfile\n",
    " \n",
    "fantasy_zip = zipfile.ZipFile('Test Files.zip', 'w')\n",
    " \n",
    "for folder, subfolders, files in os.walk('.'):\n",
    " \n",
    "    for file in files:\n",
    "        if file.endswith('.txt'):\n",
    "            fantasy_zip.write(os.path.join(folder, file), os.path.relpath(os.path.join(folder,file), '.'), compress_type = zipfile.ZIP_DEFLATED)\n",
    " \n",
    "fantasy_zip.close()"
   ]
  },
  {
   "cell_type": "markdown",
   "metadata": {
    "colab_type": "text",
    "id": "9LdpdpTFuzYo"
   },
   "source": [
    "#### Extracting All Files"
   ]
  },
  {
   "cell_type": "code",
   "execution_count": null,
   "metadata": {
    "colab": {},
    "colab_type": "code",
    "executionInfo": {
     "elapsed": 961,
     "status": "ok",
     "timestamp": 1592542048137,
     "user": {
      "displayName": "Atin Gupta",
      "photoUrl": "https://lh3.googleusercontent.com/a-/AOh14Gi1LyLILoESCrCvqA94FJEzlaNfumYdJznKg_osrQ=s64",
      "userId": "01235820350389977490"
     },
     "user_tz": 0
    },
    "id": "-f6guJXht1Ed"
   },
   "outputs": [],
   "source": [
    "import zipfile\n",
    "         \n",
    "fantasy_zip = zipfile.ZipFile('Test Files.zip')\n",
    "fantasy_zip.extractall('.')\n",
    " \n",
    "fantasy_zip.close()"
   ]
  },
  {
   "cell_type": "markdown",
   "metadata": {
    "colab_type": "text",
    "id": "tPfqiSGnu2Bd"
   },
   "source": [
    "#### Extracting Individual Files"
   ]
  },
  {
   "cell_type": "code",
   "execution_count": null,
   "metadata": {
    "colab": {},
    "colab_type": "code",
    "executionInfo": {
     "elapsed": 955,
     "status": "ok",
     "timestamp": 1592542058512,
     "user": {
      "displayName": "Atin Gupta",
      "photoUrl": "https://lh3.googleusercontent.com/a-/AOh14Gi1LyLILoESCrCvqA94FJEzlaNfumYdJznKg_osrQ=s64",
      "userId": "01235820350389977490"
     },
     "user_tz": 0
    },
    "id": "c16v7Xy_u4Cw"
   },
   "outputs": [],
   "source": [
    "import zipfile\n",
    "         \n",
    "fantasy_zip = zipfile.ZipFile('Test Files.zip')\n",
    "fantasy_zip.extract('file1.txt', '.')\n",
    " \n",
    "fantasy_zip.close()"
   ]
  },
  {
   "cell_type": "markdown",
   "metadata": {
    "colab_type": "text",
    "id": "-VowY6WPtekX"
   },
   "source": [
    "## **Search for files and show permissions in a friendly format**"
   ]
  },
  {
   "cell_type": "markdown",
   "metadata": {
    "colab_type": "text",
    "id": "V8uXui-oveFl"
   },
   "source": [
    "##### Take input from user"
   ]
  },
  {
   "cell_type": "code",
   "execution_count": null,
   "metadata": {
    "colab": {
     "base_uri": "https://localhost:8080/",
     "height": 51
    },
    "colab_type": "code",
    "executionInfo": {
     "elapsed": 12521,
     "status": "ok",
     "timestamp": 1592542473221,
     "user": {
      "displayName": "Atin Gupta",
      "photoUrl": "https://lh3.googleusercontent.com/a-/AOh14Gi1LyLILoESCrCvqA94FJEzlaNfumYdJznKg_osrQ=s64",
      "userId": "01235820350389977490"
     },
     "user_tz": 0
    },
    "id": "Cz8Izas9tOE_",
    "outputId": "31e12f2e-be0d-4810-9623-4ccbab506b58"
   },
   "outputs": [],
   "source": [
    "strPath = input(\"Specify Path:\")\n",
    "\n",
    "strPattern = input(\"Specify Search pattern:\")"
   ]
  },
  {
   "cell_type": "markdown",
   "metadata": {
    "colab_type": "text",
    "id": "AU-HepgqvhmS"
   },
   "source": [
    "##### Get File permissions in the path specified"
   ]
  },
  {
   "cell_type": "code",
   "execution_count": null,
   "metadata": {
    "colab": {
     "base_uri": "https://localhost:8080/",
     "height": 1000
    },
    "colab_type": "code",
    "executionInfo": {
     "elapsed": 1065,
     "status": "ok",
     "timestamp": 1592542547861,
     "user": {
      "displayName": "Atin Gupta",
      "photoUrl": "https://lh3.googleusercontent.com/a-/AOh14Gi1LyLILoESCrCvqA94FJEzlaNfumYdJznKg_osrQ=s64",
      "userId": "01235820350389977490"
     },
     "user_tz": 0
    },
    "id": "816YXrE2tPej",
    "outputId": "6008860e-a8d6-4442-f51b-5be94eea6120"
   },
   "outputs": [],
   "source": [
    "for path in os.listdir(strPath):\n",
    "    print (path)\n",
    "    if os.access( path, os.R_OK): # is path readable?\n",
    "        print (\"  - readable\")\n",
    "    else:\n",
    "        print (\"  - unreadable\")\n",
    "    \n",
    "    if os.access( path, os.W_OK): # is path writable?\n",
    "        print (\"  - writable\")\n",
    "    else:\n",
    "        print (\"  - read-only\")\n",
    "\n",
    "    if os.access( path, os.X_OK): # is path executable?\n",
    "        print (\"  - executable\")\n",
    "    else:\n",
    "        print (\"  - non-executable\")\n",
    "\n"
   ]
  },
  {
   "cell_type": "markdown",
   "metadata": {
    "colab_type": "text",
    "id": "PIPxx9R4vnPh"
   },
   "source": [
    "##### Get file permission in nested directories based on the file name pattern"
   ]
  },
  {
   "cell_type": "code",
   "execution_count": null,
   "metadata": {
    "colab": {
     "base_uri": "https://localhost:8080/",
     "height": 1000
    },
    "colab_type": "code",
    "executionInfo": {
     "elapsed": 3648,
     "status": "error",
     "timestamp": 1591163236389,
     "user": {
      "displayName": "Atin Gupta",
      "photoUrl": "https://lh3.googleusercontent.com/a-/AOh14Gi1LyLILoESCrCvqA94FJEzlaNfumYdJznKg_osrQ=s64",
      "userId": "01235820350389977490"
     },
     "user_tz": -330
    },
    "id": "MGTiSZFMtRpx",
    "outputId": "0849d5f8-0170-4f16-c64b-0796a4f670c6"
   },
   "outputs": [],
   "source": [
    "for dirpath, dirnames, filenames in os.walk(strPath):\n",
    "    for filename in [f for f in filenames if strPattern in f]:\n",
    "        filePath = os.path.join(dirpath, filename)\n",
    "        print (filePath,\":\", oct(stat.S_IMODE(os.stat(filePath).st_mode)))"
   ]
  },
  {
   "cell_type": "markdown",
   "metadata": {
    "colab_type": "text",
    "id": "zgag8jKHtnGR"
   },
   "source": [
    "## **Perform operations on a tar archive**"
   ]
  },
  {
   "cell_type": "markdown",
   "metadata": {
    "colab_type": "text",
    "id": "OW5MHw8BwAX4"
   },
   "source": [
    "#### How to create an uncompressed tar archive from a list of filenames:"
   ]
  },
  {
   "cell_type": "code",
   "execution_count": null,
   "metadata": {
    "colab": {},
    "colab_type": "code",
    "executionInfo": {
     "elapsed": 904,
     "status": "ok",
     "timestamp": 1592542836529,
     "user": {
      "displayName": "Atin Gupta",
      "photoUrl": "https://lh3.googleusercontent.com/a-/AOh14Gi1LyLILoESCrCvqA94FJEzlaNfumYdJznKg_osrQ=s64",
      "userId": "01235820350389977490"
     },
     "user_tz": 0
    },
    "id": "0Gwugu1Nwavj"
   },
   "outputs": [],
   "source": [
    "import tarfile\n",
    "tar = tarfile.open(\"sample.tar\", \"w\")\n",
    "for name in [\"file1.txt\", \"file2.txt\"]:\n",
    "    tar.add(name)\n",
    "tar.close()"
   ]
  },
  {
   "cell_type": "markdown",
   "metadata": {
    "colab_type": "text",
    "id": "8U73clgSwEAY"
   },
   "source": [
    "#### How to read a gzip compressed tar archive and display some member information:"
   ]
  },
  {
   "cell_type": "code",
   "execution_count": null,
   "metadata": {
    "colab": {
     "base_uri": "https://localhost:8080/",
     "height": 85
    },
    "colab_type": "code",
    "executionInfo": {
     "elapsed": 906,
     "status": "ok",
     "timestamp": 1592542875537,
     "user": {
      "displayName": "Atin Gupta",
      "photoUrl": "https://lh3.googleusercontent.com/a-/AOh14Gi1LyLILoESCrCvqA94FJEzlaNfumYdJznKg_osrQ=s64",
      "userId": "01235820350389977490"
     },
     "user_tz": 0
    },
    "id": "Q5OsCvD6wkJm",
    "outputId": "d9daeb93-1301-4c7b-8f49-de8911903229"
   },
   "outputs": [],
   "source": [
    "import tarfile\n",
    "tar = tarfile.open(\"sample.tar\", \"r\")\n",
    "for tarinfo in tar:\n",
    "    print (tarinfo.name, \"is\", tarinfo.size, \"bytes in size and is\",)\n",
    "    if tarinfo.isreg():\n",
    "        print (\"a regular file.\")\n",
    "    elif tarinfo.isdir():\n",
    "        print (\"a directory.\")\n",
    "    else:\n",
    "        print (\"something else.\")\n",
    "tar.close()"
   ]
  },
  {
   "cell_type": "code",
   "execution_count": null,
   "metadata": {
    "colab": {},
    "colab_type": "code",
    "id": "I3No1pfiwnKw"
   },
   "outputs": [],
   "source": []
  },
  {
   "cell_type": "markdown",
   "metadata": {
    "colab_type": "text",
    "id": "oldMODG7tthU"
   },
   "source": [
    "## **Check for a running process and show information**"
   ]
  },
  {
   "cell_type": "markdown",
   "metadata": {
    "colab_type": "text",
    "id": "sdV65Z6Fxc5-"
   },
   "source": [
    "#### Check if a process is running"
   ]
  },
  {
   "cell_type": "code",
   "execution_count": null,
   "metadata": {
    "colab": {},
    "colab_type": "code",
    "executionInfo": {
     "elapsed": 952,
     "status": "ok",
     "timestamp": 1592542924810,
     "user": {
      "displayName": "Atin Gupta",
      "photoUrl": "https://lh3.googleusercontent.com/a-/AOh14Gi1LyLILoESCrCvqA94FJEzlaNfumYdJznKg_osrQ=s64",
      "userId": "01235820350389977490"
     },
     "user_tz": 0
    },
    "id": "MlQWQAW5tutc"
   },
   "outputs": [],
   "source": [
    "import psutil\n",
    " \n",
    "def checkIfProcessRunning(processName):\n",
    "    '''\n",
    "    Check if there is any running process that contains the given name processName.\n",
    "    '''\n",
    "    #Iterate over the all the running process\n",
    "    for proc in psutil.process_iter():\n",
    "        try:\n",
    "            # Check if process name contains the given name string.\n",
    "            if processName.lower() in proc.name().lower():\n",
    "                return True\n",
    "        except (psutil.NoSuchProcess, psutil.AccessDenied, psutil.ZombieProcess):\n",
    "            pass\n",
    "    return False;"
   ]
  },
  {
   "cell_type": "markdown",
   "metadata": {
    "colab_type": "text",
    "id": "69Lry4jcxejW"
   },
   "source": []
  },
  {
   "cell_type": "code",
   "execution_count": null,
   "metadata": {
    "colab": {
     "base_uri": "https://localhost:8080/",
     "height": 51
    },
    "colab_type": "code",
    "executionInfo": {
     "elapsed": 5544,
     "status": "ok",
     "timestamp": 1592542962509,
     "user": {
      "displayName": "Atin Gupta",
      "photoUrl": "https://lh3.googleusercontent.com/a-/AOh14Gi1LyLILoESCrCvqA94FJEzlaNfumYdJznKg_osrQ=s64",
      "userId": "01235820350389977490"
     },
     "user_tz": 0
    },
    "id": "Ib9lrWm4tvCp",
    "outputId": "b1d9fbb3-91d5-4a3f-8b65-c9b4dd557481"
   },
   "outputs": [],
   "source": [
    "strProcessname = input(\"Process name please: \")\n",
    "if checkIfProcessRunning(strProcessname):\n",
    "    print(f'Yes a {strProcessname} process was running')\n",
    "else:\n",
    "    print(f'No {strProcessname} process was running')"
   ]
  },
  {
   "cell_type": "markdown",
   "metadata": {
    "colab_type": "text",
    "id": "O80MGI9qxgri"
   },
   "source": [
    "#### Find PID (Process ID) of a running process by Name"
   ]
  },
  {
   "cell_type": "markdown",
   "metadata": {
    "colab_type": "text",
    "id": "yZlnev_qxo5v"
   },
   "source": [
    "As there may be many running instances of a given process. So, we will iterate over all the running process and for each process whose name contains the given string, we will keep it’s info in a list i.e."
   ]
  },
  {
   "cell_type": "code",
   "execution_count": null,
   "metadata": {
    "colab": {},
    "colab_type": "code",
    "executionInfo": {
     "elapsed": 944,
     "status": "ok",
     "timestamp": 1592542995228,
     "user": {
      "displayName": "Atin Gupta",
      "photoUrl": "https://lh3.googleusercontent.com/a-/AOh14Gi1LyLILoESCrCvqA94FJEzlaNfumYdJznKg_osrQ=s64",
      "userId": "01235820350389977490"
     },
     "user_tz": 0
    },
    "id": "dENTvzYGxr2D"
   },
   "outputs": [],
   "source": [
    " def findProcessIdByName(processName):\n",
    "    '''\n",
    "    Get a list of all the PIDs of a all the running process whose name contains\n",
    "    the given string processName\n",
    "    '''\n",
    " \n",
    "    listOfProcessObjects = []\n",
    " \n",
    "    #Iterate over the all the running process\n",
    "    for proc in psutil.process_iter():\n",
    "       try:\n",
    "           pinfo = proc.as_dict(attrs=['pid', 'name', 'create_time'])\n",
    "           # Check if process name contains the given name string.\n",
    "           if processName.lower() in pinfo['name'].lower() :\n",
    "               listOfProcessObjects.append(pinfo)\n",
    "       except (psutil.NoSuchProcess, psutil.AccessDenied , psutil.ZombieProcess) :\n",
    "           pass\n",
    " \n",
    "    return listOfProcessObjects;"
   ]
  },
  {
   "cell_type": "code",
   "execution_count": null,
   "metadata": {
    "colab": {
     "base_uri": "https://localhost:8080/",
     "height": 68
    },
    "colab_type": "code",
    "executionInfo": {
     "elapsed": 5430,
     "status": "ok",
     "timestamp": 1592543033340,
     "user": {
      "displayName": "Atin Gupta",
      "photoUrl": "https://lh3.googleusercontent.com/a-/AOh14Gi1LyLILoESCrCvqA94FJEzlaNfumYdJznKg_osrQ=s64",
      "userId": "01235820350389977490"
     },
     "user_tz": 0
    },
    "id": "FHs_EWKhxufn",
    "outputId": "7ef49e48-9806-45f3-8a09-781135a1796a"
   },
   "outputs": [],
   "source": [
    "# Find PIDs od all the running instances of process that contains 'chrome' in it's name\n",
    "import time\n",
    "#if strProcessname == \"\":\n",
    "strProcessname = input(\"Process name please: \")\n",
    "\n",
    "listOfProcessIds = findProcessIdByName(strProcessname)\n",
    " \n",
    "if len(listOfProcessIds) > 0:\n",
    "   print('Process Exists | PID and other details are')\n",
    "   for elem in listOfProcessIds:\n",
    "       processID = elem['pid']\n",
    "       processName = elem['name']\n",
    "       processCreationTime =  time.strftime('%Y-%m-%d %H:%M:%S', time.localtime(elem['create_time']))\n",
    "       print((processID ,processName,processCreationTime ))\n",
    "else :\n",
    "   print('No Running Process found with given text')"
   ]
  },
  {
   "cell_type": "markdown",
   "metadata": {
    "colab_type": "text",
    "id": "hIFodi5VyBJF"
   },
   "source": [
    "#### Get List of all running process sorted by Highest Memory Usage"
   ]
  },
  {
   "cell_type": "code",
   "execution_count": null,
   "metadata": {
    "colab": {},
    "colab_type": "code",
    "executionInfo": {
     "elapsed": 918,
     "status": "ok",
     "timestamp": 1592543067305,
     "user": {
      "displayName": "Atin Gupta",
      "photoUrl": "https://lh3.googleusercontent.com/a-/AOh14Gi1LyLILoESCrCvqA94FJEzlaNfumYdJznKg_osrQ=s64",
      "userId": "01235820350389977490"
     },
     "user_tz": 0
    },
    "id": "U3EbgXy1tvPn"
   },
   "outputs": [],
   "source": [
    "import psutil\n",
    "def getListOfProcessSortedByMemory():\n",
    "  '''\n",
    "  Get list of running process sorted by Memory Usage\n",
    "  '''\n",
    "  listOfProcObjects = []\n",
    "  # Iterate over the list\n",
    "  for proc in psutil.process_iter():\n",
    "    try:\n",
    "      # Fetch process details as dict\n",
    "      pinfo = proc.as_dict(attrs=['pid', 'name', 'username'])\n",
    "      pinfo['vms'] = proc.memory_info().vms / (1024 * 1024)\n",
    "      # Append dict to list\n",
    "      listOfProcObjects.append(pinfo);\n",
    "    except (psutil.NoSuchProcess, psutil.AccessDenied, psutil.ZombieProcess):\n",
    "      pass\n",
    "  # Sort list of dict by key vms i.e. memory usage\n",
    "  listOfProcObjects = sorted(listOfProcObjects, key=lambda procObj: procObj['vms'], reverse=True)\n",
    "  return listOfProcObjects"
   ]
  },
  {
   "cell_type": "code",
   "execution_count": null,
   "metadata": {
    "colab": {
     "base_uri": "https://localhost:8080/",
     "height": 102
    },
    "colab_type": "code",
    "executionInfo": {
     "elapsed": 899,
     "status": "ok",
     "timestamp": 1592543069745,
     "user": {
      "displayName": "Atin Gupta",
      "photoUrl": "https://lh3.googleusercontent.com/a-/AOh14Gi1LyLILoESCrCvqA94FJEzlaNfumYdJznKg_osrQ=s64",
      "userId": "01235820350389977490"
     },
     "user_tz": 0
    },
    "id": "fkAC3oI4yCMN",
    "outputId": "77472134-f7f3-43e4-9db0-2717427f4838"
   },
   "outputs": [],
   "source": [
    "getListOfProcessSortedByMemory()"
   ]
  },
  {
   "cell_type": "code",
   "execution_count": null,
   "metadata": {
    "colab": {},
    "colab_type": "code",
    "id": "_Voxi0U1ybXh"
   },
   "outputs": [],
   "source": []
  }
 ],
 "metadata": {
  "colab": {
   "authorship_tag": "ABX9TyNu8uaQyeHng8cXw9zWKrxU",
   "collapsed_sections": [],
   "name": "Highlights of the Standard Library.ipynb",
   "provenance": []
  },
  "kernelspec": {
   "display_name": "Python 3 (ipykernel)",
   "language": "python",
   "name": "python3"
  },
  "language_info": {
   "codemirror_mode": {
    "name": "ipython",
    "version": 3
   },
   "file_extension": ".py",
   "mimetype": "text/x-python",
   "name": "python",
   "nbconvert_exporter": "python",
   "pygments_lexer": "ipython3",
   "version": "3.9.12"
  }
 },
 "nbformat": 4,
 "nbformat_minor": 4
}
