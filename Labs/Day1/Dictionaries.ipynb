{
 "cells": [
  {
   "cell_type": "code",
   "execution_count": 4,
   "metadata": {
    "colab": {
     "base_uri": "https://localhost:8080/",
     "height": 54
    },
    "colab_type": "code",
    "executionInfo": {
     "elapsed": 1004,
     "status": "ok",
     "timestamp": 1591679195032,
     "user": {
      "displayName": "Atin Gupta",
      "photoUrl": "https://lh3.googleusercontent.com/a-/AOh14Gi1LyLILoESCrCvqA94FJEzlaNfumYdJznKg_osrQ=s64",
      "userId": "01235820350389977490"
     },
     "user_tz": 0
    },
    "id": "TwQaSGIGDVV8",
    "outputId": "5cd7651f-60fe-4954-c362-321c6099b1df"
   },
   "outputs": [
    {
     "name": "stdout",
     "output_type": "stream",
     "text": [
      "{'Name': 'James', 'Age': 21, 'Band': 'C'}\n"
     ]
    },
    {
     "data": {
      "text/plain": [
       "dict"
      ]
     },
     "execution_count": 4,
     "metadata": {
      "tags": []
     },
     "output_type": "execute_result"
    }
   ],
   "source": [
    "#Creating a dictionary\n",
    "# James wants to insert Employee Data \n",
    "emp_data={'Name':'James','Age':21,'Band':'C'}\n",
    "print(emp_data)\n",
    "type(emp_data)"
   ]
  },
  {
   "cell_type": "code",
   "execution_count": 5,
   "metadata": {
    "colab": {
     "base_uri": "https://localhost:8080/",
     "height": 54
    },
    "colab_type": "code",
    "executionInfo": {
     "elapsed": 650,
     "status": "ok",
     "timestamp": 1591679195644,
     "user": {
      "displayName": "Atin Gupta",
      "photoUrl": "https://lh3.googleusercontent.com/a-/AOh14Gi1LyLILoESCrCvqA94FJEzlaNfumYdJznKg_osrQ=s64",
      "userId": "01235820350389977490"
     },
     "user_tz": 0
    },
    "id": "SdiUvdOrd9IC",
    "outputId": "7ea593f1-05ac-41ec-cb60-b51316c59a56"
   },
   "outputs": [
    {
     "name": "stdout",
     "output_type": "stream",
     "text": [
      "{'Age', 'Band', 'Name'}\n"
     ]
    },
    {
     "data": {
      "text/plain": [
       "set"
      ]
     },
     "execution_count": 5,
     "metadata": {
      "tags": []
     },
     "output_type": "execute_result"
    }
   ],
   "source": [
    "#Creating a set\n",
    "# James wants to insert Employee Data \n",
    "emp_data2={'Name','Age','Band'}\n",
    "print(emp_data2)\n",
    "type(emp_data2)"
   ]
  },
  {
   "cell_type": "code",
   "execution_count": 7,
   "metadata": {
    "colab": {
     "base_uri": "https://localhost:8080/",
     "height": 35
    },
    "colab_type": "code",
    "executionInfo": {
     "elapsed": 1090,
     "status": "ok",
     "timestamp": 1591679211302,
     "user": {
      "displayName": "Atin Gupta",
      "photoUrl": "https://lh3.googleusercontent.com/a-/AOh14Gi1LyLILoESCrCvqA94FJEzlaNfumYdJznKg_osrQ=s64",
      "userId": "01235820350389977490"
     },
     "user_tz": 0
    },
    "id": "q4N2FpexDVWG",
    "outputId": "50f9dc8c-838f-4978-9581-d384ee6509d3"
   },
   "outputs": [
    {
     "name": "stdout",
     "output_type": "stream",
     "text": [
      "dict_keys(['Name', 'Age', 'Band'])\n"
     ]
    }
   ],
   "source": [
    "# keys() method will return keys of dictionary\n",
    "keys=emp_data.keys()\n",
    "print(keys)"
   ]
  },
  {
   "cell_type": "code",
   "execution_count": 8,
   "metadata": {
    "colab": {
     "base_uri": "https://localhost:8080/",
     "height": 35
    },
    "colab_type": "code",
    "executionInfo": {
     "elapsed": 1111,
     "status": "ok",
     "timestamp": 1591679214435,
     "user": {
      "displayName": "Atin Gupta",
      "photoUrl": "https://lh3.googleusercontent.com/a-/AOh14Gi1LyLILoESCrCvqA94FJEzlaNfumYdJznKg_osrQ=s64",
      "userId": "01235820350389977490"
     },
     "user_tz": 0
    },
    "id": "lyFg5oE6DVWN",
    "outputId": "544440d9-4bd9-410b-9828-2b0c876e4bc9"
   },
   "outputs": [
    {
     "name": "stdout",
     "output_type": "stream",
     "text": [
      "dict_values(['James', 21, 'C'])\n"
     ]
    }
   ],
   "source": [
    "# values() method will return values of dictionary\n",
    "values = emp_data.values()\n",
    "print(values)"
   ]
  },
  {
   "cell_type": "code",
   "execution_count": 9,
   "metadata": {
    "colab": {
     "base_uri": "https://localhost:8080/",
     "height": 35
    },
    "colab_type": "code",
    "executionInfo": {
     "elapsed": 970,
     "status": "ok",
     "timestamp": 1591679257967,
     "user": {
      "displayName": "Atin Gupta",
      "photoUrl": "https://lh3.googleusercontent.com/a-/AOh14Gi1LyLILoESCrCvqA94FJEzlaNfumYdJznKg_osrQ=s64",
      "userId": "01235820350389977490"
     },
     "user_tz": 0
    },
    "id": "VvCehCpDDVWU",
    "outputId": "1f64502a-c96a-4d06-ea7e-120a3b4fd4b9"
   },
   "outputs": [
    {
     "name": "stdout",
     "output_type": "stream",
     "text": [
      "Team Data: {'Name': None, 'DOB': None, 'City': None}\n"
     ]
    }
   ],
   "source": [
    "# So now he wants to insert data of his team\n",
    "keys1 = ['Name', 'DOB', 'City']\n",
    "team_data=dict.fromkeys(keys1)\n",
    "print('Team Data:',team_data)"
   ]
  },
  {
   "cell_type": "code",
   "execution_count": 10,
   "metadata": {
    "colab": {
     "base_uri": "https://localhost:8080/",
     "height": 35
    },
    "colab_type": "code",
    "executionInfo": {
     "elapsed": 838,
     "status": "ok",
     "timestamp": 1591679293366,
     "user": {
      "displayName": "Atin Gupta",
      "photoUrl": "https://lh3.googleusercontent.com/a-/AOh14Gi1LyLILoESCrCvqA94FJEzlaNfumYdJznKg_osrQ=s64",
      "userId": "01235820350389977490"
     },
     "user_tz": 0
    },
    "id": "5Vz8hjVREMBE",
    "outputId": "c6fe2d9e-3bb8-466a-a444-c6d2420609e1"
   },
   "outputs": [
    {
     "data": {
      "text/plain": [
       "{'City': 0, 'DOB': 0, 'Name': 0}"
      ]
     },
     "execution_count": 10,
     "metadata": {
      "tags": []
     },
     "output_type": "execute_result"
    }
   ],
   "source": [
    "value = 0\n",
    "dict.fromkeys(keys1, value)"
   ]
  },
  {
   "cell_type": "code",
   "execution_count": null,
   "metadata": {
    "colab": {},
    "colab_type": "code",
    "id": "r9hYuWciDVWb"
   },
   "outputs": [],
   "source": [
    "# Team data\n",
    "names=['Smith','Manali','Kabir']\n",
    "ages=[21,28,22]\n",
    "bands=['C','B','D']"
   ]
  },
  {
   "cell_type": "code",
   "execution_count": null,
   "metadata": {
    "colab": {},
    "colab_type": "code",
    "id": "YfrSOKI7DVWk"
   },
   "outputs": [],
   "source": [
    "# Inserting data\n",
    "team_data['Name']=names\n",
    "team_data['Age']=ages\n",
    "team_data['Band']=bands"
   ]
  },
  {
   "cell_type": "code",
   "execution_count": 13,
   "metadata": {
    "colab": {
     "base_uri": "https://localhost:8080/",
     "height": 55
    },
    "colab_type": "code",
    "executionInfo": {
     "elapsed": 1108,
     "status": "ok",
     "timestamp": 1591679334485,
     "user": {
      "displayName": "Atin Gupta",
      "photoUrl": "https://lh3.googleusercontent.com/a-/AOh14Gi1LyLILoESCrCvqA94FJEzlaNfumYdJznKg_osrQ=s64",
      "userId": "01235820350389977490"
     },
     "user_tz": 0
    },
    "id": "U_ia-vhNDVWq",
    "outputId": "7f9dccc2-916b-444c-b9f5-86d26befe4c4"
   },
   "outputs": [
    {
     "name": "stdout",
     "output_type": "stream",
     "text": [
      "Team Data after inserting data: {'Name': ['Smith', 'Manali', 'Kabir'], 'DOB': None, 'City': None, 'Age': [21, 28, 22], 'Band': ['C', 'B', 'D']}\n"
     ]
    }
   ],
   "source": [
    "print('Team Data after inserting data:',team_data)"
   ]
  },
  {
   "cell_type": "code",
   "execution_count": 15,
   "metadata": {
    "colab": {
     "base_uri": "https://localhost:8080/",
     "height": 35
    },
    "colab_type": "code",
    "executionInfo": {
     "elapsed": 1014,
     "status": "ok",
     "timestamp": 1591679381448,
     "user": {
      "displayName": "Atin Gupta",
      "photoUrl": "https://lh3.googleusercontent.com/a-/AOh14Gi1LyLILoESCrCvqA94FJEzlaNfumYdJznKg_osrQ=s64",
      "userId": "01235820350389977490"
     },
     "user_tz": 0
    },
    "id": "jaLcZF7nDVWz",
    "outputId": "de8e9837-7a8c-4bdd-d9cc-ebef0628bf82"
   },
   "outputs": [
    {
     "name": "stdout",
     "output_type": "stream",
     "text": [
      "['Smith', 'Manali', 'Kabir']\n"
     ]
    }
   ],
   "source": [
    "# Printing data from dictionary\n",
    "print(team_data['Name'])"
   ]
  },
  {
   "cell_type": "code",
   "execution_count": 16,
   "metadata": {
    "colab": {
     "base_uri": "https://localhost:8080/",
     "height": 35
    },
    "colab_type": "code",
    "executionInfo": {
     "elapsed": 934,
     "status": "ok",
     "timestamp": 1591679391031,
     "user": {
      "displayName": "Atin Gupta",
      "photoUrl": "https://lh3.googleusercontent.com/a-/AOh14Gi1LyLILoESCrCvqA94FJEzlaNfumYdJznKg_osrQ=s64",
      "userId": "01235820350389977490"
     },
     "user_tz": 0
    },
    "id": "_Wt46A1Ce8_4",
    "outputId": "46d9f53a-87b9-423f-ff4e-7c353214de17"
   },
   "outputs": [
    {
     "name": "stdout",
     "output_type": "stream",
     "text": [
      "Manali\n"
     ]
    }
   ],
   "source": [
    "# Printing data from dictionary\n",
    "print(team_data['Name'][1])"
   ]
  },
  {
   "cell_type": "code",
   "execution_count": 17,
   "metadata": {
    "colab": {
     "base_uri": "https://localhost:8080/",
     "height": 35
    },
    "colab_type": "code",
    "executionInfo": {
     "elapsed": 1000,
     "status": "ok",
     "timestamp": 1591679421341,
     "user": {
      "displayName": "Atin Gupta",
      "photoUrl": "https://lh3.googleusercontent.com/a-/AOh14Gi1LyLILoESCrCvqA94FJEzlaNfumYdJznKg_osrQ=s64",
      "userId": "01235820350389977490"
     },
     "user_tz": 0
    },
    "id": "JkQk49pCDVXF",
    "outputId": "548130b6-a441-4b0d-99a7-09b064c00c10"
   },
   "outputs": [
    {
     "name": "stdout",
     "output_type": "stream",
     "text": [
      "Updatad Team Data: {'Name': ['Smith', 'Manali', 'Kabir'], 'DOB': None, 'City': None, 'Band': ['C', 'B', 'D']}\n"
     ]
    }
   ],
   "source": [
    "# He no longer requires Age attribute\n",
    "team_data.pop('Age') # removing Age attribute\n",
    "print('Updatad Team Data:',team_data)"
   ]
  },
  {
   "cell_type": "code",
   "execution_count": 20,
   "metadata": {
    "colab": {
     "base_uri": "https://localhost:8080/",
     "height": 35
    },
    "colab_type": "code",
    "executionInfo": {
     "elapsed": 1046,
     "status": "ok",
     "timestamp": 1591679504855,
     "user": {
      "displayName": "Atin Gupta",
      "photoUrl": "https://lh3.googleusercontent.com/a-/AOh14Gi1LyLILoESCrCvqA94FJEzlaNfumYdJznKg_osrQ=s64",
      "userId": "01235820350389977490"
     },
     "user_tz": 0
    },
    "id": "dXRJVfayDVXM",
    "outputId": "b61f56f6-1b5f-4bbf-8382-8172dfbd430e"
   },
   "outputs": [
    {
     "name": "stdout",
     "output_type": "stream",
     "text": [
      "dict_items([(1, 100), (2, 200)])\n"
     ]
    }
   ],
   "source": [
    "## Example\n",
    "dict1={1:100,2:200,3:300}\n",
    "del dict1[3]\n",
    "print(dict1.items())\n"
   ]
  },
  {
   "cell_type": "code",
   "execution_count": 22,
   "metadata": {
    "colab": {
     "base_uri": "https://localhost:8080/",
     "height": 35
    },
    "colab_type": "code",
    "executionInfo": {
     "elapsed": 939,
     "status": "ok",
     "timestamp": 1591679517832,
     "user": {
      "displayName": "Atin Gupta",
      "photoUrl": "https://lh3.googleusercontent.com/a-/AOh14Gi1LyLILoESCrCvqA94FJEzlaNfumYdJznKg_osrQ=s64",
      "userId": "01235820350389977490"
     },
     "user_tz": 0
    },
    "id": "AFi852oOfc1t",
    "outputId": "31289110-ca55-45af-8e0c-21fb0f7ff87c"
   },
   "outputs": [
    {
     "data": {
      "text/plain": [
       "100"
      ]
     },
     "execution_count": 22,
     "metadata": {
      "tags": []
     },
     "output_type": "execute_result"
    }
   ],
   "source": [
    "dict1[1]"
   ]
  },
  {
   "cell_type": "code",
   "execution_count": 25,
   "metadata": {
    "colab": {
     "base_uri": "https://localhost:8080/",
     "height": 35
    },
    "colab_type": "code",
    "executionInfo": {
     "elapsed": 955,
     "status": "ok",
     "timestamp": 1591679566336,
     "user": {
      "displayName": "Atin Gupta",
      "photoUrl": "https://lh3.googleusercontent.com/a-/AOh14Gi1LyLILoESCrCvqA94FJEzlaNfumYdJznKg_osrQ=s64",
      "userId": "01235820350389977490"
     },
     "user_tz": 0
    },
    "id": "t1wd7VyTfgCP",
    "outputId": "765e9135-60f9-4146-d67d-5d66217b18eb"
   },
   "outputs": [
    {
     "data": {
      "text/plain": [
       "400"
      ]
     },
     "execution_count": 25,
     "metadata": {
      "tags": []
     },
     "output_type": "execute_result"
    }
   ],
   "source": [
    "dict1.get(4, 400)"
   ]
  },
  {
   "cell_type": "code",
   "execution_count": 26,
   "metadata": {
    "colab": {
     "base_uri": "https://localhost:8080/",
     "height": 72
    },
    "colab_type": "code",
    "executionInfo": {
     "elapsed": 928,
     "status": "ok",
     "timestamp": 1591679576101,
     "user": {
      "displayName": "Atin Gupta",
      "photoUrl": "https://lh3.googleusercontent.com/a-/AOh14Gi1LyLILoESCrCvqA94FJEzlaNfumYdJznKg_osrQ=s64",
      "userId": "01235820350389977490"
     },
     "user_tz": 0
    },
    "id": "jAIKSoo1fOc1",
    "outputId": "b04fdad2-6b84-4ddf-a3ad-125aa9389381"
   },
   "outputs": [
    {
     "name": "stdout",
     "output_type": "stream",
     "text": [
      "400\n",
      "None\n",
      "dict_items([(1, 100), (2, 200)])\n"
     ]
    }
   ],
   "source": [
    "print(dict1.get(4,400))   # Although the key 4 is not present, but it display the value 400. But note that the key won't be added\n",
    "print(dict1.get(5))  # When you don't pass any value then it prints None\n",
    "print(dict1.items())"
   ]
  },
  {
   "cell_type": "code",
   "execution_count": null,
   "metadata": {
    "colab": {},
    "colab_type": "code",
    "id": "vpAsJqADFecA"
   },
   "outputs": [],
   "source": []
  }
 ],
 "metadata": {
  "colab": {
   "collapsed_sections": [],
   "name": "983_m2_Demo6_Dictionaries_v1.0.ipynb",
   "provenance": []
  },
  "kernelspec": {
   "display_name": "Python 3 (ipykernel)",
   "language": "python",
   "name": "python3"
  },
  "language_info": {
   "codemirror_mode": {
    "name": "ipython",
    "version": 3
   },
   "file_extension": ".py",
   "mimetype": "text/x-python",
   "name": "python",
   "nbconvert_exporter": "python",
   "pygments_lexer": "ipython3",
   "version": "3.9.12"
  }
 },
 "nbformat": 4,
 "nbformat_minor": 4
}
