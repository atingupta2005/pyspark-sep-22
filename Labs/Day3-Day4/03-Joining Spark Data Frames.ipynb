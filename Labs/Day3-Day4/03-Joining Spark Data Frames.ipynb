{
 "cells": [
  {
   "cell_type": "code",
   "execution_count": 1,
   "metadata": {},
   "outputs": [],
   "source": [
    "#!pip install pyspark\n",
    "#!pip install findspark"
   ]
  },
  {
   "cell_type": "code",
   "execution_count": 1,
   "metadata": {},
   "outputs": [],
   "source": [
    "import findspark\n",
    "findspark.init()\n",
    "import pyspark\n",
    "from pyspark.sql import SparkSession\n",
    "spark = SparkSession.builder.getOrCreate()"
   ]
  },
  {
   "cell_type": "code",
   "execution_count": 93,
   "metadata": {
    "application/vnd.databricks.v1+cell": {
     "inputWidgets": {},
     "nuid": "1bbb8fa7-31f4-4b5f-84a1-bce5322a589f",
     "showTitle": false,
     "title": ""
    }
   },
   "outputs": [
    {
     "name": "stdout",
     "output_type": "stream",
     "text": [
      "+---------+--------------------+-------------------+---------+-------------------+\n",
      "|course_id|        course_title|course_published_dt|is_active|    last_updated_ts|\n",
      "+---------+--------------------+-------------------+---------+-------------------+\n",
      "|        1|    Mastering Python|         2021-01-14|     true|2021-02-18 16:57:25|\n",
      "|        2|Data Engineering ...|         2021-02-10|     true|2021-03-05 12:07:33|\n",
      "|        3|   Mastering Pyspark|         2021-01-07|     true|2021-04-06 10:05:42|\n",
      "|        4|      AWS Essentials|         2021-03-19|    false|2021-04-10 02:25:36|\n",
      "|        5|          Docker 101|         2021-02-28|     true|2021-03-21 07:18:52|\n",
      "+---------+--------------------+-------------------+---------+-------------------+\n",
      "\n",
      "+-------+---------------+--------------+--------------------+\n",
      "|user_id|user_first_name|user_last_name|          user_email|\n",
      "+-------+---------------+--------------+--------------------+\n",
      "|      1|         Sandra|        Karpov|    skarpov0@ovh.net|\n",
      "|      2|           Kari|        Dearth|kdearth1@so-net.n...|\n",
      "|      3|         Joanna|      Spennock|jspennock2@redcro...|\n",
      "|      4|         Hirsch|       Conaboy|hconaboy3@barnesa...|\n",
      "|      5|         Loreen|         Malin|lmalin4@independe...|\n",
      "|      6|           Augy|      Christon|  achriston5@mlb.com|\n",
      "|      7|         Trudey|       Choupin|     tchoupin6@de.vu|\n",
      "|      8|         Nadine|     Grimsdell|ngrimsdell7@sohu.com|\n",
      "|      9|        Vassily|         Tamas|vtamas8@businessw...|\n",
      "|     10|          Wells|      Simpkins|wsimpkins9@amazon...|\n",
      "+-------+---------------+--------------+--------------------+\n",
      "\n",
      "+-------------------+-------+---------+----------+\n",
      "|course_enrolment_id|user_id|course_id|price_paid|\n",
      "+-------------------+-------+---------+----------+\n",
      "|                  1|     10|        2|      9.99|\n",
      "|                  2|      5|        2|      9.99|\n",
      "|                  3|      7|        5|     10.99|\n",
      "|                  4|      9|        2|      9.99|\n",
      "|                  5|      8|        2|      9.99|\n",
      "|                  6|      5|        5|     10.99|\n",
      "|                  7|      4|        5|     10.99|\n",
      "|                  8|      7|        3|     10.99|\n",
      "|                  9|      8|        5|     10.99|\n",
      "|                 10|      3|        3|     10.99|\n",
      "|                 11|      7|        5|     10.99|\n",
      "|                 12|      3|        2|      9.99|\n",
      "|                 13|      5|        2|      9.99|\n",
      "|                 14|      4|        3|     10.99|\n",
      "|                 15|      8|        2|      9.99|\n",
      "+-------------------+-------+---------+----------+\n",
      "\n"
     ]
    }
   ],
   "source": [
    "%run \"./Setup\""
   ]
  },
  {
   "cell_type": "markdown",
   "metadata": {
    "application/vnd.databricks.v1+cell": {
     "inputWidgets": {},
     "nuid": "b3a34dea-33a3-4a5d-81d9-40cd722c5819",
     "showTitle": false,
     "title": ""
    }
   },
   "source": [
    "* Get the user details who have enrolled for the courses.\n",
    "  * Need to join **users_df** and **course_enrolments_df**.\n",
    "  * Here are the fields that needs to be displayed.\n",
    "    * All fields from `users_df`\n",
    "    * `course_id` and `course_enrolment_id` from `course_enrolments`"
   ]
  },
  {
   "cell_type": "code",
   "execution_count": 30,
   "metadata": {},
   "outputs": [
    {
     "name": "stdout",
     "output_type": "stream",
     "text": [
      "+-------+---------------+--------------+--------------------+\n",
      "|user_id|user_first_name|user_last_name|          user_email|\n",
      "+-------+---------------+--------------+--------------------+\n",
      "|      1|         Sandra|        Karpov|    skarpov0@ovh.net|\n",
      "|      2|           Kari|        Dearth|kdearth1@so-net.n...|\n",
      "|      3|         Joanna|      Spennock|jspennock2@redcro...|\n",
      "|      4|         Hirsch|       Conaboy|hconaboy3@barnesa...|\n",
      "|      5|         Loreen|         Malin|lmalin4@independe...|\n",
      "|      6|           Augy|      Christon|  achriston5@mlb.com|\n",
      "|      7|         Trudey|       Choupin|     tchoupin6@de.vu|\n",
      "|      8|         Nadine|     Grimsdell|ngrimsdell7@sohu.com|\n",
      "|      9|        Vassily|         Tamas|vtamas8@businessw...|\n",
      "|     10|          Wells|      Simpkins|wsimpkins9@amazon...|\n",
      "+-------+---------------+--------------+--------------------+\n",
      "\n"
     ]
    }
   ],
   "source": [
    "users_df.show()"
   ]
  },
  {
   "cell_type": "code",
   "execution_count": 65,
   "metadata": {},
   "outputs": [
    {
     "data": {
      "text/plain": [
       "4"
      ]
     },
     "execution_count": 65,
     "metadata": {},
     "output_type": "execute_result"
    }
   ],
   "source": [
    "users_df.rdd.getNumPartitions()"
   ]
  },
  {
   "cell_type": "code",
   "execution_count": 33,
   "metadata": {},
   "outputs": [],
   "source": [
    "users_df = users_df.repartition(6)"
   ]
  },
  {
   "cell_type": "code",
   "execution_count": 34,
   "metadata": {},
   "outputs": [
    {
     "name": "stdout",
     "output_type": "stream",
     "text": [
      "+-------+---------------+--------------+--------------------+\n",
      "|user_id|user_first_name|user_last_name|          user_email|\n",
      "+-------+---------------+--------------+--------------------+\n",
      "|      6|           Augy|      Christon|  achriston5@mlb.com|\n",
      "|      8|         Nadine|     Grimsdell|ngrimsdell7@sohu.com|\n",
      "|      2|           Kari|        Dearth|kdearth1@so-net.n...|\n",
      "|      1|         Sandra|        Karpov|    skarpov0@ovh.net|\n",
      "|      9|        Vassily|         Tamas|vtamas8@businessw...|\n",
      "|      3|         Joanna|      Spennock|jspennock2@redcro...|\n",
      "|      7|         Trudey|       Choupin|     tchoupin6@de.vu|\n",
      "|      4|         Hirsch|       Conaboy|hconaboy3@barnesa...|\n",
      "|      5|         Loreen|         Malin|lmalin4@independe...|\n",
      "|     10|          Wells|      Simpkins|wsimpkins9@amazon...|\n",
      "+-------+---------------+--------------+--------------------+\n",
      "\n"
     ]
    }
   ],
   "source": [
    "users_df.show()"
   ]
  },
  {
   "cell_type": "code",
   "execution_count": 41,
   "metadata": {},
   "outputs": [
    {
     "name": "stdout",
     "output_type": "stream",
     "text": [
      "+-------+---------------+--------------+--------------------+\n",
      "|user_id|user_first_name|user_last_name|          user_email|\n",
      "+-------+---------------+--------------+--------------------+\n",
      "|      6|           Augy|      Christon|  achriston5@mlb.com|\n",
      "|      8|         Nadine|     Grimsdell|ngrimsdell7@sohu.com|\n",
      "|      4|         Hirsch|       Conaboy|hconaboy3@barnesa...|\n",
      "|      5|         Loreen|         Malin|lmalin4@independe...|\n",
      "|     10|          Wells|      Simpkins|wsimpkins9@amazon...|\n",
      "|      9|        Vassily|         Tamas|vtamas8@businessw...|\n",
      "|      1|         Sandra|        Karpov|    skarpov0@ovh.net|\n",
      "|      2|           Kari|        Dearth|kdearth1@so-net.n...|\n",
      "|      3|         Joanna|      Spennock|jspennock2@redcro...|\n",
      "|      7|         Trudey|       Choupin|     tchoupin6@de.vu|\n",
      "+-------+---------------+--------------+--------------------+\n",
      "\n"
     ]
    }
   ],
   "source": [
    "users_df.coalesce(4).show()"
   ]
  },
  {
   "cell_type": "code",
   "execution_count": 69,
   "metadata": {},
   "outputs": [
    {
     "data": {
      "text/plain": [
       "1"
      ]
     },
     "execution_count": 69,
     "metadata": {},
     "output_type": "execute_result"
    }
   ],
   "source": [
    "users_df.coalesce(1).sort(\"user_id\").rdd.getNumPartitions()"
   ]
  },
  {
   "cell_type": "code",
   "execution_count": 97,
   "metadata": {},
   "outputs": [
    {
     "data": {
      "text/plain": [
       "1"
      ]
     },
     "execution_count": 97,
     "metadata": {},
     "output_type": "execute_result"
    }
   ],
   "source": [
    "users_df = users_df.repartition(1)\n",
    "users_df.rdd.getNumPartitions()"
   ]
  },
  {
   "cell_type": "code",
   "execution_count": 98,
   "metadata": {},
   "outputs": [
    {
     "name": "stdout",
     "output_type": "stream",
     "text": [
      "== Physical Plan ==\n",
      "AdaptiveSparkPlan isFinalPlan=false\n",
      "+- Sort [user_email#906 ASC NULLS FIRST], true, 0\n",
      "   +- Exchange SinglePartition, REPARTITION_BY_NUM, [id=#1808]\n",
      "      +- Scan ExistingRDD[user_id#903L,user_first_name#904,user_last_name#905,user_email#906]\n",
      "\n",
      "\n"
     ]
    }
   ],
   "source": [
    "users_df.sort(\"user_email\").explain()"
   ]
  },
  {
   "cell_type": "code",
   "execution_count": 49,
   "metadata": {},
   "outputs": [
    {
     "data": {
      "text/plain": [
       "1"
      ]
     },
     "execution_count": 49,
     "metadata": {},
     "output_type": "execute_result"
    }
   ],
   "source": [
    "users_df.orderBy(\"user_email\").rdd.getNumPartitions()"
   ]
  },
  {
   "cell_type": "code",
   "execution_count": 94,
   "metadata": {},
   "outputs": [],
   "source": [
    "users_df_sort = users_df.orderBy(\"user_email\")"
   ]
  },
  {
   "cell_type": "code",
   "execution_count": 95,
   "metadata": {},
   "outputs": [
    {
     "name": "stdout",
     "output_type": "stream",
     "text": [
      "== Physical Plan ==\n",
      "AdaptiveSparkPlan isFinalPlan=false\n",
      "+- Sort [user_email#906 ASC NULLS FIRST], true, 0\n",
      "   +- Exchange rangepartitioning(user_email#906 ASC NULLS FIRST, 200), ENSURE_REQUIREMENTS, [id=#1773]\n",
      "      +- Scan ExistingRDD[user_id#903L,user_first_name#904,user_last_name#905,user_email#906]\n",
      "\n",
      "\n"
     ]
    }
   ],
   "source": [
    "users_df_sort.explain()"
   ]
  },
  {
   "cell_type": "code",
   "execution_count": 96,
   "metadata": {},
   "outputs": [
    {
     "name": "stdout",
     "output_type": "stream",
     "text": [
      "+-------+---------------+--------------+--------------------+\n",
      "|user_id|user_first_name|user_last_name|          user_email|\n",
      "+-------+---------------+--------------+--------------------+\n",
      "|      6|           Augy|      Christon|  achriston5@mlb.com|\n",
      "|      4|         Hirsch|       Conaboy|hconaboy3@barnesa...|\n",
      "|      3|         Joanna|      Spennock|jspennock2@redcro...|\n",
      "|      2|           Kari|        Dearth|kdearth1@so-net.n...|\n",
      "|      5|         Loreen|         Malin|lmalin4@independe...|\n",
      "|      8|         Nadine|     Grimsdell|ngrimsdell7@sohu.com|\n",
      "|      1|         Sandra|        Karpov|    skarpov0@ovh.net|\n",
      "|      7|         Trudey|       Choupin|     tchoupin6@de.vu|\n",
      "|      9|        Vassily|         Tamas|vtamas8@businessw...|\n",
      "|     10|          Wells|      Simpkins|wsimpkins9@amazon...|\n",
      "+-------+---------------+--------------+--------------------+\n",
      "\n"
     ]
    }
   ],
   "source": [
    "users_df_sort.show()"
   ]
  },
  {
   "cell_type": "code",
   "execution_count": 53,
   "metadata": {},
   "outputs": [
    {
     "name": "stdout",
     "output_type": "stream",
     "text": [
      "+-------+---------------+--------------+--------------------+\n",
      "|user_id|user_first_name|user_last_name|          user_email|\n",
      "+-------+---------------+--------------+--------------------+\n",
      "|      6|           Augy|      Christon|  achriston5@mlb.com|\n",
      "|      4|         Hirsch|       Conaboy|hconaboy3@barnesa...|\n",
      "|      3|         Joanna|      Spennock|jspennock2@redcro...|\n",
      "|      2|           Kari|        Dearth|kdearth1@so-net.n...|\n",
      "|      5|         Loreen|         Malin|lmalin4@independe...|\n",
      "|      8|         Nadine|     Grimsdell|ngrimsdell7@sohu.com|\n",
      "|      1|         Sandra|        Karpov|    skarpov0@ovh.net|\n",
      "|      7|         Trudey|       Choupin|     tchoupin6@de.vu|\n",
      "|      9|        Vassily|         Tamas|vtamas8@businessw...|\n",
      "|     10|          Wells|      Simpkins|wsimpkins9@amazon...|\n",
      "+-------+---------------+--------------+--------------------+\n",
      "\n"
     ]
    }
   ],
   "source": [
    "users_df_sort.show()"
   ]
  },
  {
   "cell_type": "code",
   "execution_count": 5,
   "metadata": {
    "application/vnd.databricks.v1+cell": {
     "inputWidgets": {},
     "nuid": "3bf4c6f9-f309-4516-88c0-cbbe76e5142c",
     "showTitle": false,
     "title": ""
    }
   },
   "outputs": [
    {
     "name": "stdout",
     "output_type": "stream",
     "text": [
      "+-------+---------------+--------------+--------------------+-------------------+-------+---------+----------+\n",
      "|user_id|user_first_name|user_last_name|          user_email|course_enrolment_id|user_id|course_id|price_paid|\n",
      "+-------+---------------+--------------+--------------------+-------------------+-------+---------+----------+\n",
      "|      3|         Joanna|      Spennock|jspennock2@redcro...|                 10|      3|        3|     10.99|\n",
      "|      3|         Joanna|      Spennock|jspennock2@redcro...|                 12|      3|        2|      9.99|\n",
      "|      4|         Hirsch|       Conaboy|hconaboy3@barnesa...|                  7|      4|        5|     10.99|\n",
      "|      4|         Hirsch|       Conaboy|hconaboy3@barnesa...|                 14|      4|        3|     10.99|\n",
      "|      5|         Loreen|         Malin|lmalin4@independe...|                  2|      5|        2|      9.99|\n",
      "|      5|         Loreen|         Malin|lmalin4@independe...|                  6|      5|        5|     10.99|\n",
      "|      5|         Loreen|         Malin|lmalin4@independe...|                 13|      5|        2|      9.99|\n",
      "|      7|         Trudey|       Choupin|     tchoupin6@de.vu|                  3|      7|        5|     10.99|\n",
      "|      7|         Trudey|       Choupin|     tchoupin6@de.vu|                  8|      7|        3|     10.99|\n",
      "|      7|         Trudey|       Choupin|     tchoupin6@de.vu|                 11|      7|        5|     10.99|\n",
      "|      8|         Nadine|     Grimsdell|ngrimsdell7@sohu.com|                  5|      8|        2|      9.99|\n",
      "|      8|         Nadine|     Grimsdell|ngrimsdell7@sohu.com|                  9|      8|        5|     10.99|\n",
      "|      8|         Nadine|     Grimsdell|ngrimsdell7@sohu.com|                 15|      8|        2|      9.99|\n",
      "|      9|        Vassily|         Tamas|vtamas8@businessw...|                  4|      9|        2|      9.99|\n",
      "|     10|          Wells|      Simpkins|wsimpkins9@amazon...|                  1|     10|        2|      9.99|\n",
      "+-------+---------------+--------------+--------------------+-------------------+-------+---------+----------+\n",
      "\n"
     ]
    }
   ],
   "source": [
    "users_df. \\\n",
    "    join(course_enrolments_df, users_df.user_id == course_enrolments_df.user_id). \\\n",
    "    show()"
   ]
  },
  {
   "cell_type": "code",
   "execution_count": 4,
   "metadata": {},
   "outputs": [
    {
     "data": {
      "text/plain": [
       "4"
      ]
     },
     "execution_count": 4,
     "metadata": {},
     "output_type": "execute_result"
    }
   ],
   "source": [
    "users_df.rdd.getNumPartitions()"
   ]
  },
  {
   "cell_type": "code",
   "execution_count": 6,
   "metadata": {
    "application/vnd.databricks.v1+cell": {
     "inputWidgets": {},
     "nuid": "562c7a90-96bc-4616-9085-b20de7e014fb",
     "showTitle": false,
     "title": ""
    }
   },
   "outputs": [
    {
     "name": "stdout",
     "output_type": "stream",
     "text": [
      "+-------+---------------+--------------+--------------------+-------------------+---------+----------+\n",
      "|user_id|user_first_name|user_last_name|          user_email|course_enrolment_id|course_id|price_paid|\n",
      "+-------+---------------+--------------+--------------------+-------------------+---------+----------+\n",
      "|      3|         Joanna|      Spennock|jspennock2@redcro...|                 10|        3|     10.99|\n",
      "|      3|         Joanna|      Spennock|jspennock2@redcro...|                 12|        2|      9.99|\n",
      "|      4|         Hirsch|       Conaboy|hconaboy3@barnesa...|                  7|        5|     10.99|\n",
      "|      4|         Hirsch|       Conaboy|hconaboy3@barnesa...|                 14|        3|     10.99|\n",
      "|      5|         Loreen|         Malin|lmalin4@independe...|                  2|        2|      9.99|\n",
      "|      5|         Loreen|         Malin|lmalin4@independe...|                  6|        5|     10.99|\n",
      "|      5|         Loreen|         Malin|lmalin4@independe...|                 13|        2|      9.99|\n",
      "|      7|         Trudey|       Choupin|     tchoupin6@de.vu|                  3|        5|     10.99|\n",
      "|      7|         Trudey|       Choupin|     tchoupin6@de.vu|                  8|        3|     10.99|\n",
      "|      7|         Trudey|       Choupin|     tchoupin6@de.vu|                 11|        5|     10.99|\n",
      "|      8|         Nadine|     Grimsdell|ngrimsdell7@sohu.com|                  5|        2|      9.99|\n",
      "|      8|         Nadine|     Grimsdell|ngrimsdell7@sohu.com|                  9|        5|     10.99|\n",
      "|      8|         Nadine|     Grimsdell|ngrimsdell7@sohu.com|                 15|        2|      9.99|\n",
      "|      9|        Vassily|         Tamas|vtamas8@businessw...|                  4|        2|      9.99|\n",
      "|     10|          Wells|      Simpkins|wsimpkins9@amazon...|                  1|        2|      9.99|\n",
      "+-------+---------------+--------------+--------------------+-------------------+---------+----------+\n",
      "\n"
     ]
    }
   ],
   "source": [
    "# as both data frames have user id using same name, we can pass column name as string as well\n",
    "users_df. \\\n",
    "    join(course_enrolments_df, 'user_id'). \\\n",
    "    show()"
   ]
  },
  {
   "cell_type": "code",
   "execution_count": 7,
   "metadata": {
    "application/vnd.databricks.v1+cell": {
     "inputWidgets": {},
     "nuid": "c4d96db9-0121-45c6-8f08-2d747fd2fee1",
     "showTitle": false,
     "title": ""
    }
   },
   "outputs": [
    {
     "name": "stdout",
     "output_type": "stream",
     "text": [
      "+-------+---------------+--------------+--------------------+---------+-------------------+\n",
      "|user_id|user_first_name|user_last_name|          user_email|course_id|course_enrolment_id|\n",
      "+-------+---------------+--------------+--------------------+---------+-------------------+\n",
      "|      3|         Joanna|      Spennock|jspennock2@redcro...|        3|                 10|\n",
      "|      3|         Joanna|      Spennock|jspennock2@redcro...|        2|                 12|\n",
      "|      4|         Hirsch|       Conaboy|hconaboy3@barnesa...|        5|                  7|\n",
      "|      4|         Hirsch|       Conaboy|hconaboy3@barnesa...|        3|                 14|\n",
      "|      5|         Loreen|         Malin|lmalin4@independe...|        2|                  2|\n",
      "|      5|         Loreen|         Malin|lmalin4@independe...|        5|                  6|\n",
      "|      5|         Loreen|         Malin|lmalin4@independe...|        2|                 13|\n",
      "|      7|         Trudey|       Choupin|     tchoupin6@de.vu|        5|                  3|\n",
      "|      7|         Trudey|       Choupin|     tchoupin6@de.vu|        3|                  8|\n",
      "|      7|         Trudey|       Choupin|     tchoupin6@de.vu|        5|                 11|\n",
      "|      8|         Nadine|     Grimsdell|ngrimsdell7@sohu.com|        2|                  5|\n",
      "|      8|         Nadine|     Grimsdell|ngrimsdell7@sohu.com|        5|                  9|\n",
      "|      8|         Nadine|     Grimsdell|ngrimsdell7@sohu.com|        2|                 15|\n",
      "|      9|        Vassily|         Tamas|vtamas8@businessw...|        2|                  4|\n",
      "|     10|          Wells|      Simpkins|wsimpkins9@amazon...|        2|                  1|\n",
      "+-------+---------------+--------------+--------------------+---------+-------------------+\n",
      "\n"
     ]
    }
   ],
   "source": [
    "# Get all columns from users_df and course_id as well as course_enrolment_id from course_enrolments\n",
    "users_df. \\\n",
    "    join(course_enrolments_df, users_df.user_id == course_enrolments_df.user_id). \\\n",
    "    select(users_df['*'], course_enrolments_df['course_id'], course_enrolments_df['course_enrolment_id']). \\\n",
    "    show()"
   ]
  },
  {
   "cell_type": "code",
   "execution_count": 8,
   "metadata": {
    "application/vnd.databricks.v1+cell": {
     "inputWidgets": {},
     "nuid": "bef8ab8e-b001-4100-9c15-a47e657217b4",
     "showTitle": false,
     "title": ""
    }
   },
   "outputs": [
    {
     "name": "stdout",
     "output_type": "stream",
     "text": [
      "+-------+---------------+--------------+--------------------+---------+-------------------+\n",
      "|user_id|user_first_name|user_last_name|          user_email|course_id|course_enrolment_id|\n",
      "+-------+---------------+--------------+--------------------+---------+-------------------+\n",
      "|      3|         Joanna|      Spennock|jspennock2@redcro...|        3|                 10|\n",
      "|      3|         Joanna|      Spennock|jspennock2@redcro...|        2|                 12|\n",
      "|      4|         Hirsch|       Conaboy|hconaboy3@barnesa...|        5|                  7|\n",
      "|      4|         Hirsch|       Conaboy|hconaboy3@barnesa...|        3|                 14|\n",
      "|      5|         Loreen|         Malin|lmalin4@independe...|        2|                  2|\n",
      "|      5|         Loreen|         Malin|lmalin4@independe...|        5|                  6|\n",
      "|      5|         Loreen|         Malin|lmalin4@independe...|        2|                 13|\n",
      "|      7|         Trudey|       Choupin|     tchoupin6@de.vu|        5|                  3|\n",
      "|      7|         Trudey|       Choupin|     tchoupin6@de.vu|        3|                  8|\n",
      "|      7|         Trudey|       Choupin|     tchoupin6@de.vu|        5|                 11|\n",
      "|      8|         Nadine|     Grimsdell|ngrimsdell7@sohu.com|        2|                  5|\n",
      "|      8|         Nadine|     Grimsdell|ngrimsdell7@sohu.com|        5|                  9|\n",
      "|      8|         Nadine|     Grimsdell|ngrimsdell7@sohu.com|        2|                 15|\n",
      "|      9|        Vassily|         Tamas|vtamas8@businessw...|        2|                  4|\n",
      "|     10|          Wells|      Simpkins|wsimpkins9@amazon...|        2|                  1|\n",
      "+-------+---------------+--------------+--------------------+---------+-------------------+\n",
      "\n"
     ]
    }
   ],
   "source": [
    "# using alias\n",
    "users_df.alias('u'). \\\n",
    "    join(course_enrolments_df.alias('ce'), users_df.user_id == course_enrolments_df.user_id). \\\n",
    "    select('u.*', 'course_id', 'course_enrolment_id'). \\\n",
    "    show()"
   ]
  },
  {
   "cell_type": "markdown",
   "metadata": {
    "application/vnd.databricks.v1+cell": {
     "inputWidgets": {},
     "nuid": "16ee1892-edfd-47a7-b5ee-748cb0aa1196",
     "showTitle": false,
     "title": ""
    }
   },
   "source": [
    "## Left Join"
   ]
  },
  {
   "cell_type": "code",
   "execution_count": 9,
   "metadata": {
    "application/vnd.databricks.v1+cell": {
     "inputWidgets": {},
     "nuid": "3bf4c6f9-f309-4516-88c0-cbbe76e5142c",
     "showTitle": false,
     "title": ""
    }
   },
   "outputs": [
    {
     "name": "stdout",
     "output_type": "stream",
     "text": [
      "+-------+---------------+--------------+--------------------+-------------------+-------+---------+----------+\n",
      "|user_id|user_first_name|user_last_name|          user_email|course_enrolment_id|user_id|course_id|price_paid|\n",
      "+-------+---------------+--------------+--------------------+-------------------+-------+---------+----------+\n",
      "|      1|         Sandra|        Karpov|    skarpov0@ovh.net|               null|   null|     null|      null|\n",
      "|      2|           Kari|        Dearth|kdearth1@so-net.n...|               null|   null|     null|      null|\n",
      "|      3|         Joanna|      Spennock|jspennock2@redcro...|                 10|      3|        3|     10.99|\n",
      "|      3|         Joanna|      Spennock|jspennock2@redcro...|                 12|      3|        2|      9.99|\n",
      "|      4|         Hirsch|       Conaboy|hconaboy3@barnesa...|                  7|      4|        5|     10.99|\n",
      "|      4|         Hirsch|       Conaboy|hconaboy3@barnesa...|                 14|      4|        3|     10.99|\n",
      "|      5|         Loreen|         Malin|lmalin4@independe...|                  2|      5|        2|      9.99|\n",
      "|      5|         Loreen|         Malin|lmalin4@independe...|                  6|      5|        5|     10.99|\n",
      "|      5|         Loreen|         Malin|lmalin4@independe...|                 13|      5|        2|      9.99|\n",
      "|      6|           Augy|      Christon|  achriston5@mlb.com|               null|   null|     null|      null|\n",
      "|      7|         Trudey|       Choupin|     tchoupin6@de.vu|                  3|      7|        5|     10.99|\n",
      "|      7|         Trudey|       Choupin|     tchoupin6@de.vu|                  8|      7|        3|     10.99|\n",
      "|      7|         Trudey|       Choupin|     tchoupin6@de.vu|                 11|      7|        5|     10.99|\n",
      "|      8|         Nadine|     Grimsdell|ngrimsdell7@sohu.com|                  5|      8|        2|      9.99|\n",
      "|      8|         Nadine|     Grimsdell|ngrimsdell7@sohu.com|                  9|      8|        5|     10.99|\n",
      "|      8|         Nadine|     Grimsdell|ngrimsdell7@sohu.com|                 15|      8|        2|      9.99|\n",
      "|      9|        Vassily|         Tamas|vtamas8@businessw...|                  4|      9|        2|      9.99|\n",
      "|     10|          Wells|      Simpkins|wsimpkins9@amazon...|                  1|     10|        2|      9.99|\n",
      "+-------+---------------+--------------+--------------------+-------------------+-------+---------+----------+\n",
      "\n"
     ]
    }
   ],
   "source": [
    "users_df. \\\n",
    "    join(course_enrolments_df, users_df.user_id == course_enrolments_df.user_id, 'left'). \\\n",
    "    show()"
   ]
  },
  {
   "cell_type": "code",
   "execution_count": 10,
   "metadata": {
    "application/vnd.databricks.v1+cell": {
     "inputWidgets": {},
     "nuid": "a533d34c-8933-411d-83e9-0569134fdc3e",
     "showTitle": false,
     "title": ""
    }
   },
   "outputs": [
    {
     "name": "stdout",
     "output_type": "stream",
     "text": [
      "+-------+---------------+--------------+--------------------+-------------------+-------+---------+----------+\n",
      "|user_id|user_first_name|user_last_name|          user_email|course_enrolment_id|user_id|course_id|price_paid|\n",
      "+-------+---------------+--------------+--------------------+-------------------+-------+---------+----------+\n",
      "|      1|         Sandra|        Karpov|    skarpov0@ovh.net|               null|   null|     null|      null|\n",
      "|      2|           Kari|        Dearth|kdearth1@so-net.n...|               null|   null|     null|      null|\n",
      "|      3|         Joanna|      Spennock|jspennock2@redcro...|                 10|      3|        3|     10.99|\n",
      "|      3|         Joanna|      Spennock|jspennock2@redcro...|                 12|      3|        2|      9.99|\n",
      "|      4|         Hirsch|       Conaboy|hconaboy3@barnesa...|                  7|      4|        5|     10.99|\n",
      "|      4|         Hirsch|       Conaboy|hconaboy3@barnesa...|                 14|      4|        3|     10.99|\n",
      "|      5|         Loreen|         Malin|lmalin4@independe...|                  2|      5|        2|      9.99|\n",
      "|      5|         Loreen|         Malin|lmalin4@independe...|                  6|      5|        5|     10.99|\n",
      "|      5|         Loreen|         Malin|lmalin4@independe...|                 13|      5|        2|      9.99|\n",
      "|      6|           Augy|      Christon|  achriston5@mlb.com|               null|   null|     null|      null|\n",
      "|      7|         Trudey|       Choupin|     tchoupin6@de.vu|                  3|      7|        5|     10.99|\n",
      "|      7|         Trudey|       Choupin|     tchoupin6@de.vu|                  8|      7|        3|     10.99|\n",
      "|      7|         Trudey|       Choupin|     tchoupin6@de.vu|                 11|      7|        5|     10.99|\n",
      "|      8|         Nadine|     Grimsdell|ngrimsdell7@sohu.com|                  5|      8|        2|      9.99|\n",
      "|      8|         Nadine|     Grimsdell|ngrimsdell7@sohu.com|                  9|      8|        5|     10.99|\n",
      "|      8|         Nadine|     Grimsdell|ngrimsdell7@sohu.com|                 15|      8|        2|      9.99|\n",
      "|      9|        Vassily|         Tamas|vtamas8@businessw...|                  4|      9|        2|      9.99|\n",
      "|     10|          Wells|      Simpkins|wsimpkins9@amazon...|                  1|     10|        2|      9.99|\n",
      "+-------+---------------+--------------+--------------------+-------------------+-------+---------+----------+\n",
      "\n"
     ]
    }
   ],
   "source": [
    "# left or left_outer or leftouter are same.\n",
    "\n",
    "users_df. \\\n",
    "    join(course_enrolments_df, users_df.user_id == course_enrolments_df.user_id, 'left_outer'). \\\n",
    "    show()"
   ]
  },
  {
   "cell_type": "code",
   "execution_count": 11,
   "metadata": {
    "application/vnd.databricks.v1+cell": {
     "inputWidgets": {},
     "nuid": "c4d96db9-0121-45c6-8f08-2d747fd2fee1",
     "showTitle": false,
     "title": ""
    }
   },
   "outputs": [
    {
     "name": "stdout",
     "output_type": "stream",
     "text": [
      "+-------+---------------+--------------+--------------------+---------+-------------------+\n",
      "|user_id|user_first_name|user_last_name|          user_email|course_id|course_enrolment_id|\n",
      "+-------+---------------+--------------+--------------------+---------+-------------------+\n",
      "|      1|         Sandra|        Karpov|    skarpov0@ovh.net|     null|               null|\n",
      "|      2|           Kari|        Dearth|kdearth1@so-net.n...|     null|               null|\n",
      "|      3|         Joanna|      Spennock|jspennock2@redcro...|        3|                 10|\n",
      "|      3|         Joanna|      Spennock|jspennock2@redcro...|        2|                 12|\n",
      "|      4|         Hirsch|       Conaboy|hconaboy3@barnesa...|        5|                  7|\n",
      "|      4|         Hirsch|       Conaboy|hconaboy3@barnesa...|        3|                 14|\n",
      "|      5|         Loreen|         Malin|lmalin4@independe...|        2|                  2|\n",
      "|      5|         Loreen|         Malin|lmalin4@independe...|        5|                  6|\n",
      "|      5|         Loreen|         Malin|lmalin4@independe...|        2|                 13|\n",
      "|      6|           Augy|      Christon|  achriston5@mlb.com|     null|               null|\n",
      "|      7|         Trudey|       Choupin|     tchoupin6@de.vu|        5|                  3|\n",
      "|      7|         Trudey|       Choupin|     tchoupin6@de.vu|        3|                  8|\n",
      "|      7|         Trudey|       Choupin|     tchoupin6@de.vu|        5|                 11|\n",
      "|      8|         Nadine|     Grimsdell|ngrimsdell7@sohu.com|        2|                  5|\n",
      "|      8|         Nadine|     Grimsdell|ngrimsdell7@sohu.com|        5|                  9|\n",
      "|      8|         Nadine|     Grimsdell|ngrimsdell7@sohu.com|        2|                 15|\n",
      "|      9|        Vassily|         Tamas|vtamas8@businessw...|        2|                  4|\n",
      "|     10|          Wells|      Simpkins|wsimpkins9@amazon...|        2|                  1|\n",
      "+-------+---------------+--------------+--------------------+---------+-------------------+\n",
      "\n"
     ]
    }
   ],
   "source": [
    "users_df. \\\n",
    "    join(course_enrolments_df, users_df.user_id == course_enrolments_df.user_id, 'left'). \\\n",
    "    select(users_df['*'], course_enrolments_df['course_id'], course_enrolments_df['course_enrolment_id']). \\\n",
    "    show()"
   ]
  },
  {
   "cell_type": "code",
   "execution_count": 12,
   "metadata": {
    "application/vnd.databricks.v1+cell": {
     "inputWidgets": {},
     "nuid": "bef8ab8e-b001-4100-9c15-a47e657217b4",
     "showTitle": false,
     "title": ""
    }
   },
   "outputs": [
    {
     "name": "stdout",
     "output_type": "stream",
     "text": [
      "+-------+---------------+--------------+--------------------+---------+-------------------+\n",
      "|user_id|user_first_name|user_last_name|          user_email|course_id|course_enrolment_id|\n",
      "+-------+---------------+--------------+--------------------+---------+-------------------+\n",
      "|      1|         Sandra|        Karpov|    skarpov0@ovh.net|     null|               null|\n",
      "|      2|           Kari|        Dearth|kdearth1@so-net.n...|     null|               null|\n",
      "|      3|         Joanna|      Spennock|jspennock2@redcro...|        3|                 10|\n",
      "|      3|         Joanna|      Spennock|jspennock2@redcro...|        2|                 12|\n",
      "|      4|         Hirsch|       Conaboy|hconaboy3@barnesa...|        5|                  7|\n",
      "|      4|         Hirsch|       Conaboy|hconaboy3@barnesa...|        3|                 14|\n",
      "|      5|         Loreen|         Malin|lmalin4@independe...|        2|                  2|\n",
      "|      5|         Loreen|         Malin|lmalin4@independe...|        5|                  6|\n",
      "|      5|         Loreen|         Malin|lmalin4@independe...|        2|                 13|\n",
      "|      6|           Augy|      Christon|  achriston5@mlb.com|     null|               null|\n",
      "|      7|         Trudey|       Choupin|     tchoupin6@de.vu|        5|                  3|\n",
      "|      7|         Trudey|       Choupin|     tchoupin6@de.vu|        3|                  8|\n",
      "|      7|         Trudey|       Choupin|     tchoupin6@de.vu|        5|                 11|\n",
      "|      8|         Nadine|     Grimsdell|ngrimsdell7@sohu.com|        2|                  5|\n",
      "|      8|         Nadine|     Grimsdell|ngrimsdell7@sohu.com|        5|                  9|\n",
      "|      8|         Nadine|     Grimsdell|ngrimsdell7@sohu.com|        2|                 15|\n",
      "|      9|        Vassily|         Tamas|vtamas8@businessw...|        2|                  4|\n",
      "|     10|          Wells|      Simpkins|wsimpkins9@amazon...|        2|                  1|\n",
      "+-------+---------------+--------------+--------------------+---------+-------------------+\n",
      "\n"
     ]
    }
   ],
   "source": [
    "# using alias\n",
    "users_df.alias('u'). \\\n",
    "    join(course_enrolments_df.alias('ce'), users_df.user_id == course_enrolments_df.user_id, 'left'). \\\n",
    "    select('u.*', 'course_id', 'course_enrolment_id'). \\\n",
    "    show()"
   ]
  },
  {
   "cell_type": "markdown",
   "metadata": {},
   "source": [
    "## Right Join"
   ]
  },
  {
   "cell_type": "code",
   "execution_count": 13,
   "metadata": {
    "application/vnd.databricks.v1+cell": {
     "inputWidgets": {},
     "nuid": "3bf4c6f9-f309-4516-88c0-cbbe76e5142c",
     "showTitle": false,
     "title": ""
    }
   },
   "outputs": [
    {
     "name": "stdout",
     "output_type": "stream",
     "text": [
      "+-------------------+-------+---------+----------+-------+---------------+--------------+--------------------+\n",
      "|course_enrolment_id|user_id|course_id|price_paid|user_id|user_first_name|user_last_name|          user_email|\n",
      "+-------------------+-------+---------+----------+-------+---------------+--------------+--------------------+\n",
      "|               null|   null|     null|      null|      1|         Sandra|        Karpov|    skarpov0@ovh.net|\n",
      "|               null|   null|     null|      null|      2|           Kari|        Dearth|kdearth1@so-net.n...|\n",
      "|                 10|      3|        3|     10.99|      3|         Joanna|      Spennock|jspennock2@redcro...|\n",
      "|                 12|      3|        2|      9.99|      3|         Joanna|      Spennock|jspennock2@redcro...|\n",
      "|                  7|      4|        5|     10.99|      4|         Hirsch|       Conaboy|hconaboy3@barnesa...|\n",
      "|                 14|      4|        3|     10.99|      4|         Hirsch|       Conaboy|hconaboy3@barnesa...|\n",
      "|                  2|      5|        2|      9.99|      5|         Loreen|         Malin|lmalin4@independe...|\n",
      "|                  6|      5|        5|     10.99|      5|         Loreen|         Malin|lmalin4@independe...|\n",
      "|                 13|      5|        2|      9.99|      5|         Loreen|         Malin|lmalin4@independe...|\n",
      "|               null|   null|     null|      null|      6|           Augy|      Christon|  achriston5@mlb.com|\n",
      "|                  3|      7|        5|     10.99|      7|         Trudey|       Choupin|     tchoupin6@de.vu|\n",
      "|                  8|      7|        3|     10.99|      7|         Trudey|       Choupin|     tchoupin6@de.vu|\n",
      "|                 11|      7|        5|     10.99|      7|         Trudey|       Choupin|     tchoupin6@de.vu|\n",
      "|                  5|      8|        2|      9.99|      8|         Nadine|     Grimsdell|ngrimsdell7@sohu.com|\n",
      "|                  9|      8|        5|     10.99|      8|         Nadine|     Grimsdell|ngrimsdell7@sohu.com|\n",
      "|                 15|      8|        2|      9.99|      8|         Nadine|     Grimsdell|ngrimsdell7@sohu.com|\n",
      "|                  4|      9|        2|      9.99|      9|        Vassily|         Tamas|vtamas8@businessw...|\n",
      "|                  1|     10|        2|      9.99|     10|          Wells|      Simpkins|wsimpkins9@amazon...|\n",
      "+-------------------+-------+---------+----------+-------+---------------+--------------+--------------------+\n",
      "\n"
     ]
    }
   ],
   "source": [
    "course_enrolments_df. \\\n",
    "    join(users_df, users_df.user_id == course_enrolments_df.user_id, 'right'). \\\n",
    "    show()"
   ]
  },
  {
   "cell_type": "code",
   "execution_count": 14,
   "metadata": {
    "application/vnd.databricks.v1+cell": {
     "inputWidgets": {},
     "nuid": "a533d34c-8933-411d-83e9-0569134fdc3e",
     "showTitle": false,
     "title": ""
    }
   },
   "outputs": [
    {
     "name": "stdout",
     "output_type": "stream",
     "text": [
      "+-------------------+-------+---------+----------+-------+---------------+--------------+--------------------+\n",
      "|course_enrolment_id|user_id|course_id|price_paid|user_id|user_first_name|user_last_name|          user_email|\n",
      "+-------------------+-------+---------+----------+-------+---------------+--------------+--------------------+\n",
      "|               null|   null|     null|      null|      1|         Sandra|        Karpov|    skarpov0@ovh.net|\n",
      "|               null|   null|     null|      null|      2|           Kari|        Dearth|kdearth1@so-net.n...|\n",
      "|                 10|      3|        3|     10.99|      3|         Joanna|      Spennock|jspennock2@redcro...|\n",
      "|                 12|      3|        2|      9.99|      3|         Joanna|      Spennock|jspennock2@redcro...|\n",
      "|                  7|      4|        5|     10.99|      4|         Hirsch|       Conaboy|hconaboy3@barnesa...|\n",
      "|                 14|      4|        3|     10.99|      4|         Hirsch|       Conaboy|hconaboy3@barnesa...|\n",
      "|                  2|      5|        2|      9.99|      5|         Loreen|         Malin|lmalin4@independe...|\n",
      "|                  6|      5|        5|     10.99|      5|         Loreen|         Malin|lmalin4@independe...|\n",
      "|                 13|      5|        2|      9.99|      5|         Loreen|         Malin|lmalin4@independe...|\n",
      "|               null|   null|     null|      null|      6|           Augy|      Christon|  achriston5@mlb.com|\n",
      "|                  3|      7|        5|     10.99|      7|         Trudey|       Choupin|     tchoupin6@de.vu|\n",
      "|                  8|      7|        3|     10.99|      7|         Trudey|       Choupin|     tchoupin6@de.vu|\n",
      "|                 11|      7|        5|     10.99|      7|         Trudey|       Choupin|     tchoupin6@de.vu|\n",
      "|                  5|      8|        2|      9.99|      8|         Nadine|     Grimsdell|ngrimsdell7@sohu.com|\n",
      "|                  9|      8|        5|     10.99|      8|         Nadine|     Grimsdell|ngrimsdell7@sohu.com|\n",
      "|                 15|      8|        2|      9.99|      8|         Nadine|     Grimsdell|ngrimsdell7@sohu.com|\n",
      "|                  4|      9|        2|      9.99|      9|        Vassily|         Tamas|vtamas8@businessw...|\n",
      "|                  1|     10|        2|      9.99|     10|          Wells|      Simpkins|wsimpkins9@amazon...|\n",
      "+-------------------+-------+---------+----------+-------+---------------+--------------+--------------------+\n",
      "\n"
     ]
    }
   ],
   "source": [
    "# right or right_outer or rightouter are same.\n",
    "\n",
    "course_enrolments_df. \\\n",
    "    join(users_df, users_df.user_id == course_enrolments_df.user_id, 'right_outer'). \\\n",
    "    show()"
   ]
  },
  {
   "cell_type": "markdown",
   "metadata": {},
   "source": [
    "## Full Join"
   ]
  },
  {
   "cell_type": "code",
   "execution_count": 15,
   "metadata": {
    "application/vnd.databricks.v1+cell": {
     "inputWidgets": {},
     "nuid": "327086d2-a2ae-4e2b-bd11-5b44ecb12752",
     "showTitle": false,
     "title": ""
    }
   },
   "outputs": [
    {
     "data": {
      "text/plain": [
       "15"
      ]
     },
     "execution_count": 15,
     "metadata": {},
     "output_type": "execute_result"
    }
   ],
   "source": [
    "users1_df.count()"
   ]
  },
  {
   "cell_type": "code",
   "execution_count": 16,
   "metadata": {
    "application/vnd.databricks.v1+cell": {
     "inputWidgets": {},
     "nuid": "d1dccdf3-b104-4c39-93aa-a71db61dd193",
     "showTitle": false,
     "title": ""
    }
   },
   "outputs": [
    {
     "data": {
      "text/plain": [
       "13"
      ]
     },
     "execution_count": 16,
     "metadata": {},
     "output_type": "execute_result"
    }
   ],
   "source": [
    "users2_df.count()"
   ]
  },
  {
   "cell_type": "code",
   "execution_count": 17,
   "metadata": {
    "application/vnd.databricks.v1+cell": {
     "inputWidgets": {},
     "nuid": "17f7f29d-6f63-45bc-b7dd-73f7eb264f33",
     "showTitle": false,
     "title": ""
    }
   },
   "outputs": [
    {
     "name": "stdout",
     "output_type": "stream",
     "text": [
      "+--------------------+----------+----------+-----------+---------------+--------------------+----------+------------+-----------+---------------+\n",
      "|               email|first_name| last_name|     gender|     ip_address|               email|first_name|   last_name|     gender|     ip_address|\n",
      "+--------------------+----------+----------+-----------+---------------+--------------------+----------+------------+-----------+---------------+\n",
      "|afaulconerb@barne...|    Andris| Faulconer|     Female| 109.40.175.103|afaulconerb@barne...|    Andris|   Faulconer|     Female| 109.40.175.103|\n",
      "| alovett0@nsw.gov.au|   Aundrea|    Lovett|       Male|    62.72.1.143|                null|      null|        null|       null|           null|\n",
      "|                null|      null|      null|       null|           null|   amillinsg@com.com|  Adelaide|     Millins|     Female| 75.160.220.182|\n",
      "|bjowling1@spiegel.de|   Bettine|   Jowling|     Female|  26.250.197.47|                null|      null|        null|       null|           null|\n",
      "|ccastellan4@blogl...|   Chantal| Castellan|     Female|  178.93.82.145|                null|      null|        null|       null|           null|\n",
      "|dmcmorrana@refere...|    Dorice|  McMorran|     Female|   233.1.28.220|dmcmorrana@refere...|    Dorice|    McMorran|     Female|   233.1.28.220|\n",
      "|fmancktelowd@youk...|    Farand|Mancktelow|Genderqueer|  190.20.187.10|fmancktelowd@youk...|    Farand|  Mancktelow|Genderqueer|  190.20.187.10|\n",
      "| hcurrier5@hexun.com|   Herrick|   Currier|       Male|    98.120.5.78|                null|      null|        null|       null|           null|\n",
      "|hunitt9@bizjourna...|    Holden|     Unitt|     Female|142.228.161.192|hunitt9@bizjourna...|    Holden|       Unitt|     Female|142.228.161.192|\n",
      "|                null|      null|      null|       null|           null|kbaressf@geocitie...|     Karly|      Baress|     Female|145.232.153.145|\n",
      "|                null|      null|      null|       null|           null|kchomiszewskii@si...|    Kristo|Chomiszewski|     Female|   60.91.73.198|\n",
      "|kdodgshune@google...|  Kellyann|  Dodgshun|     Female| 80.247.105.228|kdodgshune@google...|  Kellyann|    Dodgshun|     Female| 80.247.105.228|\n",
      "|      kupexc@sun.com|   Krispin|      Upex|       Male|  154.110.22.75|      kupexc@sun.com|   Krispin|        Upex|       Male|  154.110.22.75|\n",
      "|  lbutland7@time.com|     Lilas|   Butland|     Female|109.110.131.151|  lbutland7@time.com|     Lilas|     Butland|     Female|109.110.131.151|\n",
      "|palfonsetti8@ask.com|    Putnam|Alfonsetti|     Female|  167.97.48.246|palfonsetti8@ask.com|    Putnam|  Alfonsetti|     Female|  167.97.48.246|\n",
      "|rablitt2@technora...|    Reggie|    Ablitt|       Male|104.181.218.238|                null|      null|        null|       null|           null|\n",
      "|                null|      null|      null|       null|           null| rkelwickj@baidu.com| Rosemonde|     Kelwick|Genderfluid|   42.50.134.65|\n",
      "|                null|      null|      null|       null|           null|skemsleyh@quantca...|      Shir|     Kemsley|       Male| 234.195.73.177|\n",
      "|tgavahan3@printfr...|       Ted|   Gavahan|     Female|  216.80.86.100|                null|      null|        null|       null|           null|\n",
      "|zlendrem6@columbi...|    Zorina|   Lendrem|     Female| 219.128.213.53|                null|      null|        null|       null|           null|\n",
      "+--------------------+----------+----------+-----------+---------------+--------------------+----------+------------+-----------+---------------+\n",
      "\n"
     ]
    }
   ],
   "source": [
    "# outer or full or fullouter or full_outer are same\n",
    "\n",
    "users1_df. \\\n",
    "    join(users2_df, users1_df.email == users2_df.email, 'full'). \\\n",
    "    show()"
   ]
  },
  {
   "cell_type": "code",
   "execution_count": 18,
   "metadata": {
    "application/vnd.databricks.v1+cell": {
     "inputWidgets": {},
     "nuid": "f5d739fa-6b8f-4b64-9a0f-e0eb1e220dbd",
     "showTitle": false,
     "title": ""
    }
   },
   "outputs": [
    {
     "name": "stdout",
     "output_type": "stream",
     "text": [
      "+--------------------+----------+----------+-----------+---------------+--------------------+----------+------------+-----------+---------------+\n",
      "|               email|first_name| last_name|     gender|     ip_address|               email|first_name|   last_name|     gender|     ip_address|\n",
      "+--------------------+----------+----------+-----------+---------------+--------------------+----------+------------+-----------+---------------+\n",
      "|afaulconerb@barne...|    Andris| Faulconer|     Female| 109.40.175.103|afaulconerb@barne...|    Andris|   Faulconer|     Female| 109.40.175.103|\n",
      "| alovett0@nsw.gov.au|   Aundrea|    Lovett|       Male|    62.72.1.143|                null|      null|        null|       null|           null|\n",
      "|                null|      null|      null|       null|           null|   amillinsg@com.com|  Adelaide|     Millins|     Female| 75.160.220.182|\n",
      "|bjowling1@spiegel.de|   Bettine|   Jowling|     Female|  26.250.197.47|                null|      null|        null|       null|           null|\n",
      "|ccastellan4@blogl...|   Chantal| Castellan|     Female|  178.93.82.145|                null|      null|        null|       null|           null|\n",
      "|dmcmorrana@refere...|    Dorice|  McMorran|     Female|   233.1.28.220|dmcmorrana@refere...|    Dorice|    McMorran|     Female|   233.1.28.220|\n",
      "|fmancktelowd@youk...|    Farand|Mancktelow|Genderqueer|  190.20.187.10|fmancktelowd@youk...|    Farand|  Mancktelow|Genderqueer|  190.20.187.10|\n",
      "| hcurrier5@hexun.com|   Herrick|   Currier|       Male|    98.120.5.78|                null|      null|        null|       null|           null|\n",
      "|hunitt9@bizjourna...|    Holden|     Unitt|     Female|142.228.161.192|hunitt9@bizjourna...|    Holden|       Unitt|     Female|142.228.161.192|\n",
      "|                null|      null|      null|       null|           null|kbaressf@geocitie...|     Karly|      Baress|     Female|145.232.153.145|\n",
      "|                null|      null|      null|       null|           null|kchomiszewskii@si...|    Kristo|Chomiszewski|     Female|   60.91.73.198|\n",
      "|kdodgshune@google...|  Kellyann|  Dodgshun|     Female| 80.247.105.228|kdodgshune@google...|  Kellyann|    Dodgshun|     Female| 80.247.105.228|\n",
      "|      kupexc@sun.com|   Krispin|      Upex|       Male|  154.110.22.75|      kupexc@sun.com|   Krispin|        Upex|       Male|  154.110.22.75|\n",
      "|  lbutland7@time.com|     Lilas|   Butland|     Female|109.110.131.151|  lbutland7@time.com|     Lilas|     Butland|     Female|109.110.131.151|\n",
      "|palfonsetti8@ask.com|    Putnam|Alfonsetti|     Female|  167.97.48.246|palfonsetti8@ask.com|    Putnam|  Alfonsetti|     Female|  167.97.48.246|\n",
      "|rablitt2@technora...|    Reggie|    Ablitt|       Male|104.181.218.238|                null|      null|        null|       null|           null|\n",
      "|                null|      null|      null|       null|           null| rkelwickj@baidu.com| Rosemonde|     Kelwick|Genderfluid|   42.50.134.65|\n",
      "|                null|      null|      null|       null|           null|skemsleyh@quantca...|      Shir|     Kemsley|       Male| 234.195.73.177|\n",
      "|tgavahan3@printfr...|       Ted|   Gavahan|     Female|  216.80.86.100|                null|      null|        null|       null|           null|\n",
      "|zlendrem6@columbi...|    Zorina|   Lendrem|     Female| 219.128.213.53|                null|      null|        null|       null|           null|\n",
      "+--------------------+----------+----------+-----------+---------------+--------------------+----------+------------+-----------+---------------+\n",
      "\n"
     ]
    }
   ],
   "source": [
    "users1_df. \\\n",
    "    join(users2_df, users1_df.email == users2_df.email, 'fullouter'). \\\n",
    "    show()"
   ]
  },
  {
   "cell_type": "code",
   "execution_count": 19,
   "metadata": {
    "application/vnd.databricks.v1+cell": {
     "inputWidgets": {},
     "nuid": "be38c392-3776-41d1-b1a5-6794b9aa5986",
     "showTitle": false,
     "title": ""
    }
   },
   "outputs": [
    {
     "name": "stdout",
     "output_type": "stream",
     "text": [
      "+--------------------+----------+----------+-----------+---------------+--------------------+----------+------------+-----------+---------------+\n",
      "|               email|first_name| last_name|     gender|     ip_address|               email|first_name|   last_name|     gender|     ip_address|\n",
      "+--------------------+----------+----------+-----------+---------------+--------------------+----------+------------+-----------+---------------+\n",
      "|afaulconerb@barne...|    Andris| Faulconer|     Female| 109.40.175.103|afaulconerb@barne...|    Andris|   Faulconer|     Female| 109.40.175.103|\n",
      "| alovett0@nsw.gov.au|   Aundrea|    Lovett|       Male|    62.72.1.143|                null|      null|        null|       null|           null|\n",
      "|                null|      null|      null|       null|           null|   amillinsg@com.com|  Adelaide|     Millins|     Female| 75.160.220.182|\n",
      "|bjowling1@spiegel.de|   Bettine|   Jowling|     Female|  26.250.197.47|                null|      null|        null|       null|           null|\n",
      "|ccastellan4@blogl...|   Chantal| Castellan|     Female|  178.93.82.145|                null|      null|        null|       null|           null|\n",
      "|dmcmorrana@refere...|    Dorice|  McMorran|     Female|   233.1.28.220|dmcmorrana@refere...|    Dorice|    McMorran|     Female|   233.1.28.220|\n",
      "|fmancktelowd@youk...|    Farand|Mancktelow|Genderqueer|  190.20.187.10|fmancktelowd@youk...|    Farand|  Mancktelow|Genderqueer|  190.20.187.10|\n",
      "| hcurrier5@hexun.com|   Herrick|   Currier|       Male|    98.120.5.78|                null|      null|        null|       null|           null|\n",
      "|hunitt9@bizjourna...|    Holden|     Unitt|     Female|142.228.161.192|hunitt9@bizjourna...|    Holden|       Unitt|     Female|142.228.161.192|\n",
      "|                null|      null|      null|       null|           null|kbaressf@geocitie...|     Karly|      Baress|     Female|145.232.153.145|\n",
      "|                null|      null|      null|       null|           null|kchomiszewskii@si...|    Kristo|Chomiszewski|     Female|   60.91.73.198|\n",
      "|kdodgshune@google...|  Kellyann|  Dodgshun|     Female| 80.247.105.228|kdodgshune@google...|  Kellyann|    Dodgshun|     Female| 80.247.105.228|\n",
      "|      kupexc@sun.com|   Krispin|      Upex|       Male|  154.110.22.75|      kupexc@sun.com|   Krispin|        Upex|       Male|  154.110.22.75|\n",
      "|  lbutland7@time.com|     Lilas|   Butland|     Female|109.110.131.151|  lbutland7@time.com|     Lilas|     Butland|     Female|109.110.131.151|\n",
      "|palfonsetti8@ask.com|    Putnam|Alfonsetti|     Female|  167.97.48.246|palfonsetti8@ask.com|    Putnam|  Alfonsetti|     Female|  167.97.48.246|\n",
      "|rablitt2@technora...|    Reggie|    Ablitt|       Male|104.181.218.238|                null|      null|        null|       null|           null|\n",
      "|                null|      null|      null|       null|           null| rkelwickj@baidu.com| Rosemonde|     Kelwick|Genderfluid|   42.50.134.65|\n",
      "|                null|      null|      null|       null|           null|skemsleyh@quantca...|      Shir|     Kemsley|       Male| 234.195.73.177|\n",
      "|tgavahan3@printfr...|       Ted|   Gavahan|     Female|  216.80.86.100|                null|      null|        null|       null|           null|\n",
      "|zlendrem6@columbi...|    Zorina|   Lendrem|     Female| 219.128.213.53|                null|      null|        null|       null|           null|\n",
      "+--------------------+----------+----------+-----------+---------------+--------------------+----------+------------+-----------+---------------+\n",
      "\n"
     ]
    }
   ],
   "source": [
    "users1_df. \\\n",
    "    join(users2_df, users1_df.email == users2_df.email, 'full_outer'). \\\n",
    "    show()"
   ]
  }
 ],
 "metadata": {
  "application/vnd.databricks.v1+notebook": {
   "dashboards": [],
   "language": "python",
   "notebookMetadata": {
    "pythonIndentUnit": 4
   },
   "notebookName": "05 Performing Inner Join on Spark Data Frames",
   "notebookOrigID": 4326754976675550,
   "widgets": {}
  },
  "kernelspec": {
   "display_name": "Python 3 (ipykernel)",
   "language": "python",
   "name": "python3"
  },
  "language_info": {
   "codemirror_mode": {
    "name": "ipython",
    "version": 3
   },
   "file_extension": ".py",
   "mimetype": "text/x-python",
   "name": "python",
   "nbconvert_exporter": "python",
   "pygments_lexer": "ipython3",
   "version": "3.9.2"
  }
 },
 "nbformat": 4,
 "nbformat_minor": 4
}
