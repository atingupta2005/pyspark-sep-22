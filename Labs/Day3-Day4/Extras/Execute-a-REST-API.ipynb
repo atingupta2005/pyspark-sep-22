{
 "cells": [
  {
   "cell_type": "markdown",
   "id": "3aaf5bb6-ea1d-4fc4-85c9-b2a87eb6cd2a",
   "metadata": {},
   "source": [
    "# How to execute a REST API call on Apache Spark"
   ]
  },
  {
   "cell_type": "code",
   "execution_count": 47,
   "id": "0f62f665-a362-4b92-9ea7-eacbd18fbcbd",
   "metadata": {},
   "outputs": [],
   "source": [
    "import findspark\n",
    "findspark.init()\n",
    "import pyspark\n",
    "from pyspark.sql import SparkSession\n",
    "spark = SparkSession.builder.getOrCreate()\n",
    "sc = spark.sparkContext"
   ]
  },
  {
   "cell_type": "code",
   "execution_count": 1,
   "id": "2e0bf1e7-cda5-4e67-8a5b-232228a8544e",
   "metadata": {},
   "outputs": [],
   "source": [
    "import http\n",
    "import json\n",
    "import requests\n",
    "from pyspark.sql.functions import udf, col, explode\n",
    "from pyspark.sql.types import StructType, StructField, IntegerType, StringType, ArrayType\n",
    "from pyspark.sql import Row"
   ]
  },
  {
   "cell_type": "code",
   "execution_count": 42,
   "id": "ce1fcd63-23a8-4e59-bad5-fbe38699b88a",
   "metadata": {},
   "outputs": [],
   "source": [
    "headers = {\n",
    "    'content-type': \"application/json\"\n",
    "}\n",
    "\n",
    "body = json.dumps({\n",
    "})"
   ]
  },
  {
   "cell_type": "markdown",
   "id": "bd308de6-635f-4511-a687-5713ab27125d",
   "metadata": {},
   "source": [
    "## Now declare a function that will execute our REST API call\n",
    "- There is nothing special about this function, except that the REST service response will be passed back as a JSON object."
   ]
  },
  {
   "cell_type": "code",
   "execution_count": 43,
   "id": "8cc54262-c561-4398-ad73-c7dca20567d0",
   "metadata": {},
   "outputs": [],
   "source": [
    "# response function - udf\n",
    "def executeRestApi(verb, url, headers, body):\n",
    "  res = None\n",
    "  # Make API request, get response object back, create dataframe from above schema.\n",
    "  try:\n",
    "    if verb == \"get\":\n",
    "      res = requests.get(url, data=body, headers=headers)\n",
    "    elif verb == \"post\":\n",
    "      res = requests.post(url, data=body, headers=headers)\n",
    "    else:\n",
    "      print(\"another HTTP verb action\")\n",
    "  except Exception as e:\n",
    "    return e\n",
    "\n",
    "  if res != None and res.status_code == 200:\n",
    "    return json.loads(res.text)\n",
    "\n",
    "  return None"
   ]
  },
  {
   "cell_type": "markdown",
   "id": "a1c6f08e-dcc6-4897-9c56-a2e90cd594c9",
   "metadata": {},
   "source": [
    "### Define the response schema and the UDF\n",
    "- We can pick and chose what values we want from the JSON returned by the REST API call\n",
    "- All we have to do is when declaring the schema\n",
    "- We only need to identify what parts of the JSON we want."
   ]
  },
  {
   "cell_type": "code",
   "execution_count": 44,
   "id": "fd050951-efc9-4167-b823-48cf9e3187f1",
   "metadata": {},
   "outputs": [],
   "source": [
    "schema = StructType([\n",
    "  StructField(\"Count\", IntegerType(), True),\n",
    "  StructField(\"Message\", StringType(), True),\n",
    "  StructField(\"SearchCriteria\", StringType(), True),\n",
    "  StructField(\"Results\", ArrayType(\n",
    "    StructType([\n",
    "      StructField(\"Make_ID\", IntegerType()),\n",
    "      StructField(\"Make_Name\", StringType())\n",
    "    ])\n",
    "  ))\n",
    "])"
   ]
  },
  {
   "cell_type": "markdown",
   "id": "cd607360-5186-4d3a-be7b-a488b945008e",
   "metadata": {},
   "source": [
    "- Next we declare the UDF, making sure to set the return type as the schema that we declared\n",
    "- This will ensure that the new column, which is used to execute the UDF, will eventually contain data as a structured object rather than plain JSON formatted text"
   ]
  },
  {
   "cell_type": "code",
   "execution_count": 45,
   "id": "328d9b02-8b0d-45b0-8d3b-5584a2fee936",
   "metadata": {},
   "outputs": [],
   "source": [
    "udf_executeRestApi = udf(executeRestApi, schema)"
   ]
  },
  {
   "cell_type": "markdown",
   "id": "4745a671-9afb-4653-b829-5e1a9c5d085f",
   "metadata": {},
   "source": [
    "### Create the Request DataFrame and Execute\n",
    "- Create a DataFrame where each row represents a single REST API call\n",
    "- The number of columns in the Dataframe are up to us but we will need at least one, which will host the URL and/or parameters required to execute the REST API call\n",
    "- We are going to use four to reflect the number of individual parameters that the REST API call function needs.\n",
    "- Using the US Goverments free-to-access vehicle make REST service, we would create a Dataframe as follows:"
   ]
  },
  {
   "cell_type": "code",
   "execution_count": 58,
   "id": "62535e21-e7a8-4915-bea2-26aecd6d3169",
   "metadata": {},
   "outputs": [],
   "source": [
    "# requests\n",
    "RestApiRequest = Row(\"verb\", \"url\", \"headers\", \"body\")\n",
    "request_df = spark.createDataFrame([\n",
    "            RestApiRequest(\"get\", \"https://vpic.nhtsa.dot.gov/api/vehicles/getallmakes?format=json\", headers, body)\n",
    "          ])\\\n",
    "          .withColumn(\"execute\", udf_executeRestApi(col(\"verb\"), col(\"url\"), col(\"headers\"), col(\"body\")))"
   ]
  },
  {
   "cell_type": "code",
   "execution_count": 60,
   "id": "47fe0bd6-e310-4b21-b099-89449a36e7d8",
   "metadata": {},
   "outputs": [
    {
     "name": "stdout",
     "output_type": "stream",
     "text": [
      "+----+--------------------+--------------------+----+--------------------+\n",
      "|verb|                 url|             headers|body|             execute|\n",
      "+----+--------------------+--------------------+----+--------------------+\n",
      "| get|https://vpic.nhts...|{content-type -> ...|  {}|{10200, Response ...|\n",
      "+----+--------------------+--------------------+----+--------------------+\n",
      "\n"
     ]
    }
   ],
   "source": [
    "request_df.show()"
   ]
  },
  {
   "cell_type": "code",
   "execution_count": 56,
   "id": "2f985524-0065-4cf9-9c43-195b8f1f4d65",
   "metadata": {},
   "outputs": [
    {
     "name": "stdout",
     "output_type": "stream",
     "text": [
      "+-------+------------+\n",
      "|Make_ID|   Make_Name|\n",
      "+-------+------------+\n",
      "|    440|ASTON MARTIN|\n",
      "|    441|       TESLA|\n",
      "|    442|      JAGUAR|\n",
      "|    443|    MASERATI|\n",
      "|    444|  LAND ROVER|\n",
      "+-------+------------+\n",
      "only showing top 5 rows\n",
      "\n"
     ]
    }
   ],
   "source": [
    "my_df = request_df.select(explode(col(\"execute.Results\")).alias(\"results\"))\\\n",
    "    .select(col(\"results.Make_ID\"), col(\"results.Make_Name\"))"
   ]
  },
  {
   "cell_type": "markdown",
   "id": "fd587f82-49e2-466a-8165-d3d4680d9b11",
   "metadata": {},
   "source": [
    "- The Row class is used to define the columns of the Dataframe, and using the createDataFrame method of the spark object, an instance of RestApiRequestRow is declared for each individual API call that we want to make.\n",
    "- All being well, the Dataframe will look like:\n",
    "<table>\n",
    "<thead>\n",
    "<tr>\n",
    "<th>verb</th>\n",
    "<th>url</th>\n",
    "<th>headers</th>\n",
    "<th>body</th>\n",
    "</tr>\n",
    "</thead>\n",
    "<tbody>\n",
    "<tr>\n",
    "<td>get</td>\n",
    "<td><a href=\"https://vpic.nhtsa.dot.gov/api/vehicles/getallmakes?format=json\" rel=\"nofollow\">https://vpic.nhtsa.dot.gov/api/vehicles/getallmakes?format=json</a></td>\n",
    "<td>{'content-type': \"application/json\"}</td>\n",
    "<td>{}</td>\n",
    "</tr>\n",
    "</tbody>\n",
    "</table>\n",
    "\n",
    "- The REST service returns a number of attributes and we're only interested in the one identified as Results (i.e. result.Results)"
   ]
  },
  {
   "cell_type": "code",
   "execution_count": 57,
   "id": "fa8df40c-1a1b-483f-a550-9f1e1be53f56",
   "metadata": {},
   "outputs": [
    {
     "name": "stdout",
     "output_type": "stream",
     "text": [
      "+-------+------------+\n",
      "|Make_ID|   Make_Name|\n",
      "+-------+------------+\n",
      "|    440|ASTON MARTIN|\n",
      "|    441|       TESLA|\n",
      "|    442|      JAGUAR|\n",
      "|    443|    MASERATI|\n",
      "|    444|  LAND ROVER|\n",
      "+-------+------------+\n",
      "only showing top 5 rows\n",
      "\n"
     ]
    }
   ],
   "source": [
    "my_df.show(5)"
   ]
  }
 ],
 "metadata": {
  "kernelspec": {
   "display_name": "Python 3 (ipykernel)",
   "language": "python",
   "name": "python3"
  },
  "language_info": {
   "codemirror_mode": {
    "name": "ipython",
    "version": 3
   },
   "file_extension": ".py",
   "mimetype": "text/x-python",
   "name": "python",
   "nbconvert_exporter": "python",
   "pygments_lexer": "ipython3",
   "version": "3.9.12"
  }
 },
 "nbformat": 4,
 "nbformat_minor": 5
}
