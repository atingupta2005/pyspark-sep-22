{
 "cells": [
  {
   "cell_type": "markdown",
   "metadata": {
    "colab_type": "text",
    "id": "X4wfFzVxHWJH"
   },
   "source": [
    " - Python provides a very powerful logging library in its standard library.\n",
    " - A lot of programmers use print statements for debugging\n",
    " - You can also use logging to do this. \n",
    " - It’s actually cleaner to use logging as \n",
    " - One won’t have to go through all your code to remove the print statements.\n",
    " - It also provides much more extra features which we will look at now."
   ]
  },
  {
   "cell_type": "code",
   "execution_count": 1,
   "metadata": {
    "colab": {},
    "colab_type": "code",
    "executionInfo": {
     "elapsed": 1371,
     "status": "ok",
     "timestamp": 1595860273959,
     "user": {
      "displayName": "Atin Gupta",
      "photoUrl": "https://lh3.googleusercontent.com/a-/AOh14Gi1LyLILoESCrCvqA94FJEzlaNfumYdJznKg_osrQ=s64",
      "userId": "01235820350389977490"
     },
     "user_tz": -330
    },
    "id": "wnbgV7f3bUqg"
   },
   "outputs": [],
   "source": [
    "import logging"
   ]
  },
  {
   "cell_type": "code",
   "execution_count": 8,
   "metadata": {
    "colab": {},
    "colab_type": "code",
    "executionInfo": {
     "elapsed": 1338,
     "status": "ok",
     "timestamp": 1595860817608,
     "user": {
      "displayName": "Atin Gupta",
      "photoUrl": "https://lh3.googleusercontent.com/a-/AOh14Gi1LyLILoESCrCvqA94FJEzlaNfumYdJznKg_osrQ=s64",
      "userId": "01235820350389977490"
     },
     "user_tz": -330
    },
    "id": "Zc_rO9zlbUqo"
   },
   "outputs": [],
   "source": [
    "logging.basicConfig(\n",
    "    filename=\"test.log\",\n",
    "    level=logging.INFO,\n",
    "    format=\"%(asctime)s:%(levelname)s:%(message)s\"\n",
    "    )"
   ]
  },
  {
   "cell_type": "code",
   "execution_count": 10,
   "metadata": {
    "colab": {},
    "colab_type": "code",
    "executionInfo": {
     "elapsed": 2864,
     "status": "ok",
     "timestamp": 1595860822764,
     "user": {
      "displayName": "Atin Gupta",
      "photoUrl": "https://lh3.googleusercontent.com/a-/AOh14Gi1LyLILoESCrCvqA94FJEzlaNfumYdJznKg_osrQ=s64",
      "userId": "01235820350389977490"
     },
     "user_tz": -330
    },
    "id": "mkRLQvp9bUqu"
   },
   "outputs": [],
   "source": [
    "class Pizza():\n",
    "    def __init__(self, name, price):\n",
    "        self.name = name\n",
    "        self.price = price\n",
    "        logging.info(\"Pizza created: {} (${})\".format(self.name, self.price))\n",
    "\n",
    "    def make(self, quantity=1):\n",
    "        logging.debug(\"Made {} {} pizza(s)\".format(quantity, self.name))\n",
    "\n",
    "    def eat(self, quantity=1):\n",
    "        logging.warning(\"Ate {} pizza(s)\".format(quantity, self.name))\n"
   ]
  },
  {
   "cell_type": "code",
   "execution_count": 11,
   "metadata": {
    "colab": {},
    "colab_type": "code",
    "executionInfo": {
     "elapsed": 1396,
     "status": "ok",
     "timestamp": 1595860826432,
     "user": {
      "displayName": "Atin Gupta",
      "photoUrl": "https://lh3.googleusercontent.com/a-/AOh14Gi1LyLILoESCrCvqA94FJEzlaNfumYdJznKg_osrQ=s64",
      "userId": "01235820350389977490"
     },
     "user_tz": -330
    },
    "id": "4SkJPBXBbUq1"
   },
   "outputs": [],
   "source": [
    "pizza_01 = Pizza(\"Sicilian\", 18)\n",
    "pizza_01.make(5)\n",
    "pizza_01.eat(4)"
   ]
  },
  {
   "cell_type": "code",
   "execution_count": 5,
   "metadata": {
    "colab": {},
    "colab_type": "code",
    "executionInfo": {
     "elapsed": 1027,
     "status": "ok",
     "timestamp": 1595860280735,
     "user": {
      "displayName": "Atin Gupta",
      "photoUrl": "https://lh3.googleusercontent.com/a-/AOh14Gi1LyLILoESCrCvqA94FJEzlaNfumYdJznKg_osrQ=s64",
      "userId": "01235820350389977490"
     },
     "user_tz": -330
    },
    "id": "kogjGnYEbUq7"
   },
   "outputs": [],
   "source": [
    "pizza_02 = Pizza(\"quattro formaggi\", 16)\n",
    "pizza_02.make(2)\n",
    "pizza_02.eat(2)"
   ]
  },
  {
   "cell_type": "code",
   "execution_count": 7,
   "metadata": {
    "colab": {},
    "colab_type": "code",
    "executionInfo": {
     "elapsed": 1019,
     "status": "ok",
     "timestamp": 1595860166432,
     "user": {
      "displayName": "Atin Gupta",
      "photoUrl": "https://lh3.googleusercontent.com/a-/AOh14Gi1LyLILoESCrCvqA94FJEzlaNfumYdJznKg_osrQ=s64",
      "userId": "01235820350389977490"
     },
     "user_tz": -330
    },
    "id": "ZdpmhSvEbUrF"
   },
   "outputs": [],
   "source": [
    "logging.warning(\"Eating Fast Food like Pizza is not good for health\")\n",
    "logging.error(\"Pizza is burnt\")"
   ]
  },
  {
   "cell_type": "markdown",
   "metadata": {
    "colab_type": "text",
    "id": "DpHUmK8JIhjH"
   },
   "source": [
    " - **Level:** CRITICAL\n",
    "\n",
    " - **Numeric Value:** 50\n",
    " - **Function:** logging.critical()\n",
    " - **Used To:** Show a serious error, the program may be unable to continue running\n",
    "---\n",
    " - **Level:** ERROR\n",
    " - **Numeric Value:** 40\n",
    " - **Function:** logging.error()\n",
    " - **Used To:** Show a more serious problem\n",
    "---\n",
    " - **Level:** WARNING\n",
    " - **Numeric Value:** 30\n",
    " - **Function:** logging.warning()\n",
    " - **Used To:** Indicate something unexpected happened, or could happen\n",
    "---\n",
    " - **Level:** INFO\n",
    " - **Numeric Value:** 20\n",
    " - **Function:** logging.info()\n",
    " - **Used To:** Confirm that things are working as expected\n",
    "---\n",
    " - **Level:** DEBUG\n",
    " - **Numeric Value:** 10\n",
    " - **Function:** logging.debug()\n",
    " - **Used To:** Diagnose problems, show detailed information"
   ]
  }
 ],
 "metadata": {
  "colab": {
   "name": "10. Logging_in_Python.ipynb",
   "provenance": []
  },
  "kernelspec": {
   "display_name": "Python 3 (ipykernel)",
   "language": "python",
   "name": "python3"
  },
  "language_info": {
   "codemirror_mode": {
    "name": "ipython",
    "version": 3
   },
   "file_extension": ".py",
   "mimetype": "text/x-python",
   "name": "python",
   "nbconvert_exporter": "python",
   "pygments_lexer": "ipython3",
   "version": "3.9.2"
  }
 },
 "nbformat": 4,
 "nbformat_minor": 4
}
