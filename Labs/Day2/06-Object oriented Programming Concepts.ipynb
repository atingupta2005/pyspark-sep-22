{
 "cells": [
  {
   "cell_type": "markdown",
   "metadata": {
    "colab_type": "text",
    "id": "wnlwQZY2NZu8"
   },
   "source": [
    "## Object oriented Programming Concepts"
   ]
  },
  {
   "cell_type": "code",
   "execution_count": null,
   "metadata": {
    "colab": {},
    "colab_type": "code",
    "id": "4QVEY1P8m5eS"
   },
   "outputs": [],
   "source": [
    "def sum(a, b):\n",
    "    return a+b\n",
    "\n",
    "def mult(a, b):\n",
    "    return a*b"
   ]
  },
  {
   "cell_type": "code",
   "execution_count": null,
   "metadata": {
    "colab": {},
    "colab_type": "code",
    "id": "yUj2xxhim5eX",
    "outputId": "f196c0f4-4b0b-4064-f915-8d7f2b42c0df"
   },
   "outputs": [
    {
     "data": {
      "text/plain": [
       "10"
      ]
     },
     "execution_count": 3,
     "metadata": {
      "tags": []
     },
     "output_type": "execute_result"
    }
   ],
   "source": [
    "sum(4,6)"
   ]
  },
  {
   "cell_type": "code",
   "execution_count": null,
   "metadata": {
    "colab": {},
    "colab_type": "code",
    "id": "IvwVpOuGm5ec",
    "outputId": "71c80fa0-654b-43a7-fa10-dfff1b29ffea"
   },
   "outputs": [
    {
     "data": {
      "text/plain": [
       "12"
      ]
     },
     "execution_count": 6,
     "metadata": {
      "tags": []
     },
     "output_type": "execute_result"
    }
   ],
   "source": [
    "mult(3,4)"
   ]
  },
  {
   "cell_type": "code",
   "execution_count": null,
   "metadata": {
    "colab": {},
    "colab_type": "code",
    "id": "j94gU2w1m5eh"
   },
   "outputs": [],
   "source": [
    "class maths:\n",
    "    def __init__(self,a,b):\n",
    "        print(\"constructor\")\n",
    "        self.a = a\n",
    "        self.b = b\n",
    "        \n",
    "    def m_sum(self):\n",
    "        return self.a+self.b\n",
    "\n",
    "    def m_mult(self):\n",
    "        return self.a*self.b\n",
    "    \n",
    "    def m_devide(self):\n",
    "        return self.a / self.b"
   ]
  },
  {
   "cell_type": "code",
   "execution_count": null,
   "metadata": {
    "colab": {},
    "colab_type": "code",
    "id": "qBq2_vW2m5el"
   },
   "outputs": [],
   "source": [
    "del m1;\n",
    "del m2;"
   ]
  },
  {
   "cell_type": "code",
   "execution_count": null,
   "metadata": {
    "colab": {},
    "colab_type": "code",
    "id": "NrAs7pwkm5eo",
    "outputId": "1f76571e-db45-405b-8890-00764a48c0cd"
   },
   "outputs": [
    {
     "name": "stdout",
     "output_type": "stream",
     "text": [
      "constructor\n"
     ]
    },
    {
     "data": {
      "text/plain": [
       "9"
      ]
     },
     "execution_count": 41,
     "metadata": {
      "tags": []
     },
     "output_type": "execute_result"
    }
   ],
   "source": [
    "m1 = maths(4,5)\n",
    "m1.m_devide()\n",
    "m1.m_sum()\n"
   ]
  },
  {
   "cell_type": "code",
   "execution_count": null,
   "metadata": {
    "colab": {},
    "colab_type": "code",
    "id": "pXgFMtNMm5es",
    "outputId": "9ec0cb26-83cf-47c9-ca40-3ed4ef84e028"
   },
   "outputs": [
    {
     "name": "stdout",
     "output_type": "stream",
     "text": [
      "constructor\n"
     ]
    },
    {
     "data": {
      "text/plain": [
       "90"
      ]
     },
     "execution_count": 42,
     "metadata": {
      "tags": []
     },
     "output_type": "execute_result"
    }
   ],
   "source": [
    "m2 = maths(40,50)\n",
    "m2.m_devide()\n",
    "m2.m_sum()\n"
   ]
  },
  {
   "cell_type": "code",
   "execution_count": null,
   "metadata": {
    "colab": {},
    "colab_type": "code",
    "id": "k_WnMay7m5ex",
    "outputId": "6b6a61d6-d64c-4cee-c0b9-4b115b8f9b38"
   },
   "outputs": [
    {
     "data": {
      "text/plain": [
       "9"
      ]
     },
     "execution_count": 43,
     "metadata": {
      "tags": []
     },
     "output_type": "execute_result"
    }
   ],
   "source": [
    "m1.m_sum()"
   ]
  },
  {
   "cell_type": "code",
   "execution_count": null,
   "metadata": {
    "colab": {},
    "colab_type": "code",
    "id": "GPvUT99Km5e2",
    "outputId": "a2a0eb8e-c79a-4351-c1bd-bd6f7ae3e580"
   },
   "outputs": [
    {
     "data": {
      "text/plain": [
       "90"
      ]
     },
     "execution_count": 44,
     "metadata": {
      "tags": []
     },
     "output_type": "execute_result"
    }
   ],
   "source": [
    "m2.m_sum()"
   ]
  },
  {
   "cell_type": "code",
   "execution_count": null,
   "metadata": {
    "colab": {
     "base_uri": "https://localhost:8080/",
     "height": 34
    },
    "colab_type": "code",
    "executionInfo": {
     "elapsed": 2062,
     "status": "ok",
     "timestamp": 1591709886890,
     "user": {
      "displayName": "Atin Gupta",
      "photoUrl": "https://lh3.googleusercontent.com/a-/AOh14Gi1LyLILoESCrCvqA94FJEzlaNfumYdJznKg_osrQ=s64",
      "userId": "01235820350389977490"
     },
     "user_tz": -330
    },
    "id": "KztE0ZyiNZvB",
    "outputId": "dce5d079-886b-4a84-afd6-db6306aa094b"
   },
   "outputs": [
    {
     "name": "stdout",
     "output_type": "stream",
     "text": [
      "hello python\n"
     ]
    }
   ],
   "source": [
    "# Example 1 (Creation of a class, Instance and a method)\n",
    "\n",
    "class Python:\n",
    "    def method1(self):\n",
    "        print('hello python')\n",
    "object1=Python()\n",
    "object1.method1()"
   ]
  },
  {
   "cell_type": "code",
   "execution_count": null,
   "metadata": {
    "colab": {
     "base_uri": "https://localhost:8080/",
     "height": 68
    },
    "colab_type": "code",
    "executionInfo": {
     "elapsed": 1984,
     "status": "ok",
     "timestamp": 1591709886897,
     "user": {
      "displayName": "Atin Gupta",
      "photoUrl": "https://lh3.googleusercontent.com/a-/AOh14Gi1LyLILoESCrCvqA94FJEzlaNfumYdJznKg_osrQ=s64",
      "userId": "01235820350389977490"
     },
     "user_tz": -330
    },
    "id": "CmNpoYQaNZv2",
    "outputId": "2df2ed9a-f143-463d-efcf-c049a27fd35d"
   },
   "outputs": [
    {
     "name": "stdout",
     "output_type": "stream",
     "text": [
      "<__main__.Microsoft object at 0x7f484549e128>\n",
      "139948376842536\n",
      "139948376842536\n"
     ]
    }
   ],
   "source": [
    "# Example 2\n",
    "# Please observe that the memory address of self and object2 are same because both are the same object of the class Microsoft\n",
    "class Microsoft:\n",
    "    def method2(self,):\n",
    "        print(self)\n",
    "        print(id(self))\n",
    "object2=Microsoft()\n",
    "object2.method2()\n",
    "print(id(object2))"
   ]
  },
  {
   "cell_type": "code",
   "execution_count": null,
   "metadata": {
    "colab": {},
    "colab_type": "code",
    "id": "pc5JEHq5NZwV",
    "outputId": "e9a17cf1-f2ae-480a-a56f-b787b2f3157a"
   },
   "outputs": [
    {
     "name": "stdout",
     "output_type": "stream",
     "text": [
      "Hello Programming\n"
     ]
    }
   ],
   "source": [
    "# Example 3\n",
    "# Observe that we have not used self. Still the program is working absolutely fine\n",
    "class Python:\n",
    "    def method3(Microsoft,a):\n",
    "        print('Hello',a)\n",
    "object3=Python()\n",
    "object3.method3('Programming')\n"
   ]
  },
  {
   "cell_type": "markdown",
   "metadata": {
    "colab_type": "text",
    "id": "OY0TUrtBNZwr"
   },
   "source": [
    "## Important Example to understand variable or attribute scopes"
   ]
  },
  {
   "cell_type": "code",
   "execution_count": null,
   "metadata": {
    "colab": {},
    "colab_type": "code",
    "id": "fbE3esiENZww",
    "outputId": "c780b638-62d1-4016-a3dc-d579924673dd"
   },
   "outputs": [
    {
     "name": "stdout",
     "output_type": "stream",
     "text": [
      "Welcome to Animal Class\n",
      "21\n",
      "10\n",
      "21\n",
      "20\n",
      "21\n",
      "25\n"
     ]
    }
   ],
   "source": [
    "# Scope of Variables \n",
    "# Example 4 (Important Concept Application)\n",
    "global_var=10\n",
    "class Animal:\n",
    "    local_var=20\n",
    "    def method4(self,):\n",
    "        print('Welcome to Animal Class')\n",
    "        self.local_var+=1\n",
    "        print(self.local_var)\n",
    "Tiger=Animal()\n",
    "Tiger.method4()\n",
    "print(global_var) # This is a global variable, so it can be accessed anywhere\n",
    "#print(local_var)   # This variable is local to the class, so it will throw error\n",
    "# How to access local_var outside the class?\n",
    "print(Tiger.local_var)  # This will print 21 as we have modified this for Tiger object.\n",
    "print(Animal.local_var)  # This will print 20 because the variable has not been modified in class level, it was changed for \n",
    "#Tiger object\n",
    "Animal.local_var=25\n",
    "print(Tiger.local_var)   # This will print 21 which is specific to Tiger object\n",
    "print(Animal.local_var)   # This will print 25 which has been set using class name Animal"
   ]
  },
  {
   "cell_type": "code",
   "execution_count": null,
   "metadata": {
    "colab": {},
    "colab_type": "code",
    "id": "RQLBZ7T9NZxU",
    "outputId": "47e87c71-43a0-4129-ed5c-f6dfaa8fb5e7"
   },
   "outputs": [
    {
     "name": "stdout",
     "output_type": "stream",
     "text": [
      "20\n",
      "10\n",
      "94775747085952\n",
      "94775747085632\n",
      "10\n",
      "10\n",
      "10\n",
      "25\n",
      "94775747085632\n",
      "94775747086112\n"
     ]
    }
   ],
   "source": [
    "# Example 5 (Important Concept Application)\n",
    "class Microsoft:\n",
    "    x=10\n",
    "    def method_1(self,x):\n",
    "        x=20\n",
    "        print(x)  # This will print the local variable x which is local to method_1\n",
    "        print(self.x)  # This will print x which is local to class i.e. 10\n",
    "        print(id(x))  # It will print the memory address of local x for method.\n",
    "        print(id(self.x))  # It will print the memory address of local x for class\n",
    "        x+=1   # We are modifying local x to method_1. To modify x (local to class), we need to write self.x\n",
    "object1=Microsoft()\n",
    "object1.method_1(20)\n",
    "print(object1.x)\n",
    "print(Microsoft.x)\n",
    "object1.x=25\n",
    "print(Microsoft.x)\n",
    "print(object1.x)\n",
    "print(id(Microsoft.x))\n",
    "print(id(object1.x))"
   ]
  },
  {
   "cell_type": "markdown",
   "metadata": {
    "colab_type": "text",
    "id": "IOPHc4WLNZ1X"
   },
   "source": [
    "## Constructor and Destructor"
   ]
  },
  {
   "cell_type": "code",
   "execution_count": null,
   "metadata": {
    "colab": {},
    "colab_type": "code",
    "id": "KEZGZeHUNZ1c",
    "outputId": "e98813fb-b246-4e37-a805-571453e7b269"
   },
   "outputs": [
    {
     "name": "stdout",
     "output_type": "stream",
     "text": [
      "constructor\n",
      "destructor\n"
     ]
    }
   ],
   "source": [
    "# Example 13\n",
    "\n",
    "class TestClass:\n",
    "    def __init__(self):\n",
    "        print(\"constructor\")\n",
    "    def __del__(self):\n",
    "        print(\"destructor\")\n",
    "if __name__ == \"__main__\":\n",
    "    obj = TestClass()\n",
    "    del obj\n"
   ]
  },
  {
   "cell_type": "code",
   "execution_count": null,
   "metadata": {
    "colab": {},
    "colab_type": "code",
    "id": "cRMS7nUam5fT"
   },
   "outputs": [],
   "source": [
    "class maths:\n",
    "    def __init__(self,a,b):\n",
    "        print(\"constructor\")\n",
    "        self.a = a\n",
    "        self.b = b\n",
    "        \n",
    "    def m_sum(self):\n",
    "        return self.a+self.b\n",
    "\n",
    "    def m_mult(self):\n",
    "        return self.a*self.b\n",
    "    \n",
    "    def m_devide(self):\n",
    "        return self.a / self.b"
   ]
  },
  {
   "cell_type": "code",
   "execution_count": null,
   "metadata": {
    "colab": {},
    "colab_type": "code",
    "id": "01tLfNAwm5fW",
    "outputId": "4f82c425-dfd6-48c8-d093-fe1868c6b283"
   },
   "outputs": [
    {
     "name": "stdout",
     "output_type": "stream",
     "text": [
      "constructor\n"
     ]
    }
   ],
   "source": [
    "m1 = maths(3,4)"
   ]
  },
  {
   "cell_type": "code",
   "execution_count": null,
   "metadata": {
    "colab": {},
    "colab_type": "code",
    "id": "X8_J3uPHm5fa",
    "outputId": "c2bc1958-1af2-4e57-cdb3-659b46280b51"
   },
   "outputs": [
    {
     "data": {
      "text/plain": [
       "7"
      ]
     },
     "execution_count": 52,
     "metadata": {
      "tags": []
     },
     "output_type": "execute_result"
    }
   ],
   "source": [
    "m1.m_sum()"
   ]
  },
  {
   "cell_type": "code",
   "execution_count": null,
   "metadata": {
    "colab": {},
    "colab_type": "code",
    "id": "EFW_94iOm5fd",
    "outputId": "dbb6505c-365c-4a1c-b183-ae1f9ee1abf9"
   },
   "outputs": [
    {
     "data": {
      "text/plain": [
       "7"
      ]
     },
     "execution_count": 56,
     "metadata": {
      "tags": []
     },
     "output_type": "execute_result"
    }
   ],
   "source": [
    "maths.m_sum(m1)"
   ]
  }
 ],
 "metadata": {
  "colab": {
   "collapsed_sections": [],
   "name": "4. Object oriented Programming Concepts.ipynb",
   "provenance": []
  },
  "kernelspec": {
   "display_name": "Python 3 (ipykernel)",
   "language": "python",
   "name": "python3"
  },
  "language_info": {
   "codemirror_mode": {
    "name": "ipython",
    "version": 3
   },
   "file_extension": ".py",
   "mimetype": "text/x-python",
   "name": "python",
   "nbconvert_exporter": "python",
   "pygments_lexer": "ipython3",
   "version": "3.9.2"
  }
 },
 "nbformat": 4,
 "nbformat_minor": 4
}
