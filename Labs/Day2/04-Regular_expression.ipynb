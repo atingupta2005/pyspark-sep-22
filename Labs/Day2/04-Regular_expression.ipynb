{
 "cells": [
  {
   "cell_type": "markdown",
   "metadata": {
    "colab_type": "text",
    "id": "-iVYTgHXukIN"
   },
   "source": [
    "## Regular Expression"
   ]
  },
  {
   "cell_type": "code",
   "execution_count": 24,
   "metadata": {
    "colab": {
     "base_uri": "https://localhost:8080/",
     "height": 34
    },
    "colab_type": "code",
    "executionInfo": {
     "elapsed": 2072,
     "status": "ok",
     "timestamp": 1596094756700,
     "user": {
      "displayName": "Atin Gupta",
      "photoUrl": "https://lh3.googleusercontent.com/a-/AOh14Gi1LyLILoESCrCvqA94FJEzlaNfumYdJznKg_osrQ=s64",
      "userId": "01235820350389977490"
     },
     "user_tz": -330
    },
    "id": "YP_htsskukIT",
    "outputId": "bc06f909-f2f5-4c6d-8e9d-be1b0b946a4b"
   },
   "outputs": [
    {
     "name": "stdout",
     "output_type": "stream",
     "text": [
      "python is there\n"
     ]
    }
   ],
   "source": [
    "# Example 1 --  Finding a word in a String\n",
    "\n",
    "import re\n",
    "\n",
    "strMy = \"python is awesome. \"\n",
    "\n",
    "if re.search(\"python\", strMy):\n",
    "    print('python is there')"
   ]
  },
  {
   "cell_type": "code",
   "execution_count": null,
   "metadata": {
    "colab": {
     "base_uri": "https://localhost:8080/",
     "height": 50
    },
    "colab_type": "code",
    "executionInfo": {
     "elapsed": 1055,
     "status": "ok",
     "timestamp": 1596026384295,
     "user": {
      "displayName": "Atin Gupta",
      "photoUrl": "https://lh3.googleusercontent.com/a-/AOh14Gi1LyLILoESCrCvqA94FJEzlaNfumYdJznKg_osrQ=s64",
      "userId": "01235820350389977490"
     },
     "user_tz": -330
    },
    "id": "2UYuJ7wHukIz",
    "outputId": "3b447665-2c17-4440-f10a-bd08aee68598"
   },
   "outputs": [
    {
     "name": "stdout",
     "output_type": "stream",
     "text": [
      "python\n",
      "python\n"
     ]
    }
   ],
   "source": [
    "# Example 2 -- findall\n",
    "# In findall(), it checks the entire string and prints the searched character as many times as the word is present in the string\n",
    "import re\n",
    "allpython=re.findall(\"python\",\"python is awesome and python is dynamically typed language\")\n",
    "for i in allpython:\n",
    "    print(i)"
   ]
  },
  {
   "cell_type": "code",
   "execution_count": null,
   "metadata": {
    "colab": {
     "base_uri": "https://localhost:8080/",
     "height": 50
    },
    "colab_type": "code",
    "executionInfo": {
     "elapsed": 1307,
     "status": "ok",
     "timestamp": 1596026564254,
     "user": {
      "displayName": "Atin Gupta",
      "photoUrl": "https://lh3.googleusercontent.com/a-/AOh14Gi1LyLILoESCrCvqA94FJEzlaNfumYdJznKg_osrQ=s64",
      "userId": "01235820350389977490"
     },
     "user_tz": -330
    },
    "id": "PuNudtG5ukJN",
    "outputId": "61effe8e-c59b-4c0e-c9a7-805a75678c31"
   },
   "outputs": [
    {
     "name": "stdout",
     "output_type": "stream",
     "text": [
      "(11, 17)\n",
      "(38, 44)\n"
     ]
    }
   ],
   "source": [
    "# Example 3 -- Generating an iterator\n",
    "\n",
    "# Generating an iterator is the simple process of finding out and reporting the starting and the ending index of the string.\n",
    "# \n",
    "\n",
    "import re\n",
    " \n",
    "Str = \"we need to ingtrm him with the latest information\"\n",
    " \n",
    "for i in re.finditer(\"in..rm\", Str):\n",
    "    #print(i)\n",
    "    locTuple = i.span()\n",
    "    print(locTuple)"
   ]
  },
  {
   "cell_type": "code",
   "execution_count": null,
   "metadata": {
    "colab": {
     "base_uri": "https://localhost:8080/",
     "height": 67
    },
    "colab_type": "code",
    "executionInfo": {
     "elapsed": 1018,
     "status": "ok",
     "timestamp": 1596026630146,
     "user": {
      "displayName": "Atin Gupta",
      "photoUrl": "https://lh3.googleusercontent.com/a-/AOh14Gi1LyLILoESCrCvqA94FJEzlaNfumYdJznKg_osrQ=s64",
      "userId": "01235820350389977490"
     },
     "user_tz": -330
    },
    "id": "rPocctM1ukKB",
    "outputId": "502bc47e-3231-413b-e369-8e23f0fcc43f"
   },
   "outputs": [
    {
     "name": "stdout",
     "output_type": "stream",
     "text": [
      "hat\n",
      "mat\n",
      "pat\n"
     ]
    }
   ],
   "source": [
    "# Example 4 -- Matching words with pattern\n",
    "\n",
    "# What is common in the string? You can see that the letters ‘a’ and ‘t’ are common among all of the input strings.\n",
    "#[shmp] in the code denotes the starting letter of the words to be found.\n",
    "#So any substring starting with the letters s, h, m or p will be considered for matching. \n",
    "#Any among that and compulsorily followed by ‘at’ at the end.\n",
    "#Do note that they are all case sensitive.\n",
    "\n",
    "import re\n",
    " \n",
    "Str = \"Sat, hat, mat, pat, cat\"\n",
    " \n",
    "allStr = re.findall(\"[shmp]at\", Str)\n",
    " \n",
    "for i in allStr:\n",
    "    print(i)"
   ]
  },
  {
   "cell_type": "code",
   "execution_count": null,
   "metadata": {
    "colab": {
     "base_uri": "https://localhost:8080/",
     "height": 50
    },
    "colab_type": "code",
    "executionInfo": {
     "elapsed": 1306,
     "status": "ok",
     "timestamp": 1596026643529,
     "user": {
      "displayName": "Atin Gupta",
      "photoUrl": "https://lh3.googleusercontent.com/a-/AOh14Gi1LyLILoESCrCvqA94FJEzlaNfumYdJznKg_osrQ=s64",
      "userId": "01235820350389977490"
     },
     "user_tz": -330
    },
    "id": "i0uT75n2ukKc",
    "outputId": "636dc211-2431-4151-d15c-590f65e78103"
   },
   "outputs": [
    {
     "name": "stdout",
     "output_type": "stream",
     "text": [
      "hat\n",
      "mat\n"
     ]
    }
   ],
   "source": [
    "# Example 5  -- Matching Series of Range of characters\n",
    "\n",
    "#We wish to output all the words whose first letter should start in between h and m and compulsorily followed by at.\n",
    "\n",
    "import re\n",
    " \n",
    "Str = \"sat, hat, mat, pat\"\n",
    " \n",
    "someStr = re.findall(\"[h-m]at\", Str)\n",
    " \n",
    "for i in someStr:\n",
    "    print(i)"
   ]
  },
  {
   "cell_type": "code",
   "execution_count": null,
   "metadata": {
    "colab": {
     "base_uri": "https://localhost:8080/",
     "height": 50
    },
    "colab_type": "code",
    "executionInfo": {
     "elapsed": 1116,
     "status": "ok",
     "timestamp": 1596026673294,
     "user": {
      "displayName": "Atin Gupta",
      "photoUrl": "https://lh3.googleusercontent.com/a-/AOh14Gi1LyLILoESCrCvqA94FJEzlaNfumYdJznKg_osrQ=s64",
      "userId": "01235820350389977490"
     },
     "user_tz": -330
    },
    "id": "cn5PtntWukK6",
    "outputId": "67254f27-4304-42c8-deb4-193deb25d215"
   },
   "outputs": [
    {
     "name": "stdout",
     "output_type": "stream",
     "text": [
      "sat\n",
      "pat\n"
     ]
    }
   ],
   "source": [
    "# Example 6 -- Matching Series of Range of characters\n",
    "# We have added a caret symbol(^) in the Regular Expression. \n",
    "#What this does it negates the effect of whatever it follows. \n",
    "# Instead of giving us the output of everything starting with h to m, we will be presented with the output of everything apart from that.\n",
    "\n",
    "import re\n",
    " \n",
    "Str = \"sat, hat, jmat, pat\"\n",
    " \n",
    "someStr = re.findall(\"[^h-m]at\", Str)\n",
    " \n",
    "for i in someStr:\n",
    "    print(i)"
   ]
  },
  {
   "cell_type": "code",
   "execution_count": null,
   "metadata": {
    "colab": {
     "base_uri": "https://localhost:8080/",
     "height": 34
    },
    "colab_type": "code",
    "executionInfo": {
     "elapsed": 1085,
     "status": "ok",
     "timestamp": 1596027333825,
     "user": {
      "displayName": "Atin Gupta",
      "photoUrl": "https://lh3.googleusercontent.com/a-/AOh14Gi1LyLILoESCrCvqA94FJEzlaNfumYdJznKg_osrQ=s64",
      "userId": "01235820350389977490"
     },
     "user_tz": -330
    },
    "id": "cNdXsDYsukLb",
    "outputId": "6dcf5686-ee40-4e22-c4c1-fd643a85d818"
   },
   "outputs": [
    {
     "name": "stdout",
     "output_type": "stream",
     "text": [
      "food food mat pat\n"
     ]
    }
   ],
   "source": [
    "# Example 7 -- Replacing a String\n",
    "\n",
    "import re\n",
    " \n",
    "Food = \"hat rat mat pat\"\n",
    " \n",
    "regex = re.compile(\"[hr]at\")\n",
    " \n",
    "Food = regex.sub(\"food\", Food)\n",
    "\n",
    "\n",
    "print(Food)"
   ]
  },
  {
   "cell_type": "code",
   "execution_count": null,
   "metadata": {
    "colab": {},
    "colab_type": "code",
    "id": "cApo2TVkpGcH"
   },
   "outputs": [],
   "source": [
    "prog = re.compile(\"[hr]at\")\n",
    "result = prog.match(Food)"
   ]
  },
  {
   "cell_type": "code",
   "execution_count": null,
   "metadata": {
    "colab": {},
    "colab_type": "code",
    "id": "jGBusy1CpwQV"
   },
   "outputs": [],
   "source": []
  },
  {
   "cell_type": "code",
   "execution_count": null,
   "metadata": {
    "colab": {},
    "colab_type": "code",
    "id": "vpvh_py7pRfl"
   },
   "outputs": [],
   "source": [
    "regult = re.match(\"[hr]at\", Food)"
   ]
  },
  {
   "cell_type": "code",
   "execution_count": null,
   "metadata": {
    "colab": {
     "base_uri": "https://localhost:8080/",
     "height": 34
    },
    "colab_type": "code",
    "executionInfo": {
     "elapsed": 1112,
     "status": "ok",
     "timestamp": 1591787139054,
     "user": {
      "displayName": "Atin Gupta",
      "photoUrl": "https://lh3.googleusercontent.com/a-/AOh14Gi1LyLILoESCrCvqA94FJEzlaNfumYdJznKg_osrQ=s64",
      "userId": "01235820350389977490"
     },
     "user_tz": -330
    },
    "id": "k56Oo_2QukL4",
    "outputId": "e5ada412-b966-49ba-d485-ba33bfb0d908"
   },
   "outputs": [
    {
     "name": "stdout",
     "output_type": "stream",
     "text": [
      "1:  *+*+d4+e5\n"
     ]
    }
   ],
   "source": [
    "# Example 8\n",
    "print(\"1: \", re.sub(r'[abc][123]','*','a1+b2+d4+e5'))\n"
   ]
  },
  {
   "cell_type": "code",
   "execution_count": null,
   "metadata": {
    "colab": {
     "base_uri": "https://localhost:8080/",
     "height": 34
    },
    "colab_type": "code",
    "executionInfo": {
     "elapsed": 1011,
     "status": "ok",
     "timestamp": 1596028129300,
     "user": {
      "displayName": "Atin Gupta",
      "photoUrl": "https://lh3.googleusercontent.com/a-/AOh14Gi1LyLILoESCrCvqA94FJEzlaNfumYdJznKg_osrQ=s64",
      "userId": "01235820350389977490"
     },
     "user_tz": -330
    },
    "id": "JvOYm7xd6CjH",
    "outputId": "8bcec3ae-6acc-4ec7-a884-a2c634e3496a"
   },
   "outputs": [
    {
     "name": "stdout",
     "output_type": "stream",
     "text": [
      "2:  * * AxxB *\n"
     ]
    }
   ],
   "source": [
    "print(\"2: \", re.sub(r'A.B', '*', 'A2B AxB AxxB A$B'))\n"
   ]
  },
  {
   "cell_type": "code",
   "execution_count": null,
   "metadata": {
    "colab": {
     "base_uri": "https://localhost:8080/",
     "height": 34
    },
    "colab_type": "code",
    "executionInfo": {
     "elapsed": 1163,
     "status": "ok",
     "timestamp": 1596028244750,
     "user": {
      "displayName": "Atin Gupta",
      "photoUrl": "https://lh3.googleusercontent.com/a-/AOh14Gi1LyLILoESCrCvqA94FJEzlaNfumYdJznKg_osrQ=s64",
      "userId": "01235820350389977490"
     },
     "user_tz": -330
    },
    "id": "uCcNnSY26D2J",
    "outputId": "e3467af1-bc81-4d06-ca94-56ff6f78a589"
   },
   "outputs": [
    {
     "name": "stdout",
     "output_type": "stream",
     "text": [
      "3:  *CD *C AC\n"
     ]
    }
   ],
   "source": [
    "print(\"3: \", re.sub(r'AB+', '*', 'ABCD ABBBBBBC AC'))\n"
   ]
  },
  {
   "cell_type": "code",
   "execution_count": null,
   "metadata": {
    "colab": {
     "base_uri": "https://localhost:8080/",
     "height": 34
    },
    "colab_type": "code",
    "executionInfo": {
     "elapsed": 962,
     "status": "ok",
     "timestamp": 1596028299766,
     "user": {
      "displayName": "Atin Gupta",
      "photoUrl": "https://lh3.googleusercontent.com/a-/AOh14Gi1LyLILoESCrCvqA94FJEzlaNfumYdJznKg_osrQ=s64",
      "userId": "01235820350389977490"
     },
     "user_tz": -330
    },
    "id": "AT4REF9S6FBE",
    "outputId": "74949d21-c714-47cb-addf-46ff9d3e12d1"
   },
   "outputs": [
    {
     "name": "stdout",
     "output_type": "stream",
     "text": [
      "4:  ABB * * *BBB\n"
     ]
    }
   ],
   "source": [
    "#Matches a string that has A followed by 3 up to 6 B\n",
    "\n",
    "print(\"4: \", re.sub(r'AB{3,6}', '*', 'ABB ABBB ABBBB ABBBBBBBBB'))"
   ]
  },
  {
   "cell_type": "code",
   "execution_count": null,
   "metadata": {
    "colab": {
     "base_uri": "https://localhost:8080/",
     "height": 34
    },
    "colab_type": "code",
    "executionInfo": {
     "elapsed": 1029,
     "status": "ok",
     "timestamp": 1596028367952,
     "user": {
      "displayName": "Atin Gupta",
      "photoUrl": "https://lh3.googleusercontent.com/a-/AOh14Gi1LyLILoESCrCvqA94FJEzlaNfumYdJznKg_osrQ=s64",
      "userId": "01235820350389977490"
     },
     "user_tz": -330
    },
    "id": "BuklKE4-6GG4",
    "outputId": "c48fdf9e-0771-4c98-ecbb-afb317d7b7a0"
   },
   "outputs": [
    {
     "name": "stdout",
     "output_type": "stream",
     "text": [
      "5:  *defgabc\n"
     ]
    }
   ],
   "source": [
    "print(\"5: \", re.sub('^abc', '*', 'abcdefgabc'))   # matches any string that starts with abc"
   ]
  },
  {
   "cell_type": "code",
   "execution_count": null,
   "metadata": {
    "colab": {
     "base_uri": "https://localhost:8080/",
     "height": 34
    },
    "colab_type": "code",
    "executionInfo": {
     "elapsed": 1060,
     "status": "ok",
     "timestamp": 1591787163290,
     "user": {
      "displayName": "Atin Gupta",
      "photoUrl": "https://lh3.googleusercontent.com/a-/AOh14Gi1LyLILoESCrCvqA94FJEzlaNfumYdJznKg_osrQ=s64",
      "userId": "01235820350389977490"
     },
     "user_tz": -330
    },
    "id": "jnzUAMUM6HRW",
    "outputId": "f9b38b45-d09a-4c83-a92a-ae9d9753c04b"
   },
   "outputs": [
    {
     "name": "stdout",
     "output_type": "stream",
     "text": [
      "6:  abcdefg*\n"
     ]
    }
   ],
   "source": [
    "print(\"6: \", re.sub('abc$', '*', 'abcdefgabc'))   # matches any string that ends with abc"
   ]
  },
  {
   "cell_type": "code",
   "execution_count": null,
   "metadata": {
    "colab": {
     "base_uri": "https://localhost:8080/",
     "height": 34
    },
    "colab_type": "code",
    "executionInfo": {
     "elapsed": 1319,
     "status": "ok",
     "timestamp": 1591787168068,
     "user": {
      "displayName": "Atin Gupta",
      "photoUrl": "https://lh3.googleusercontent.com/a-/AOh14Gi1LyLILoESCrCvqA94FJEzlaNfumYdJznKg_osrQ=s64",
      "userId": "01235820350389977490"
     },
     "user_tz": -330
    },
    "id": "0wV9S8S76Ijn",
    "outputId": "e4a3cc0e-537f-4483-b307-8da7c6188d8a"
   },
   "outputs": [
    {
     "name": "stdout",
     "output_type": "stream",
     "text": [
      "7:  *C\n"
     ]
    }
   ],
   "source": [
    "print(\"7: \", re.sub(r'AB\\+', '*', 'AB+C'))    # Escape sequence for +\n"
   ]
  },
  {
   "cell_type": "code",
   "execution_count": null,
   "metadata": {
    "colab": {
     "base_uri": "https://localhost:8080/",
     "height": 34
    },
    "colab_type": "code",
    "executionInfo": {
     "elapsed": 1016,
     "status": "ok",
     "timestamp": 1596028436069,
     "user": {
      "displayName": "Atin Gupta",
      "photoUrl": "https://lh3.googleusercontent.com/a-/AOh14Gi1LyLILoESCrCvqA94FJEzlaNfumYdJznKg_osrQ=s64",
      "userId": "01235820350389977490"
     },
     "user_tz": -330
    },
    "id": "d8bPu2LC6JqP",
    "outputId": "79b69257-93ee-4ecd-a95d-4c30b5124614"
   },
   "outputs": [
    {
     "name": "stdout",
     "output_type": "stream",
     "text": [
      "8:  * + ** = **\n"
     ]
    }
   ],
   "source": [
    "print(\"8: \", re.sub(r'\\d', '*', '3 + 14 = 17'))    #Matches the digit\n"
   ]
  },
  {
   "cell_type": "code",
   "execution_count": null,
   "metadata": {
    "colab": {
     "base_uri": "https://localhost:8080/",
     "height": 34
    },
    "colab_type": "code",
    "executionInfo": {
     "elapsed": 1122,
     "status": "ok",
     "timestamp": 1596028452329,
     "user": {
      "displayName": "Atin Gupta",
      "photoUrl": "https://lh3.googleusercontent.com/a-/AOh14Gi1LyLILoESCrCvqA94FJEzlaNfumYdJznKg_osrQ=s64",
      "userId": "01235820350389977490"
     },
     "user_tz": -330
    },
    "id": "zVqDuqD36Ke1",
    "outputId": "e569e96e-90ea-4bdb-f1b9-a5a30fefc638"
   },
   "outputs": [
    {
     "name": "stdout",
     "output_type": "stream",
     "text": [
      "9:  3***14***17\n"
     ]
    }
   ],
   "source": [
    "print(\"9: \", re.sub(r'\\D', '*', '3 + 14 = 17'))   #Matches non digit\n"
   ]
  },
  {
   "cell_type": "code",
   "execution_count": null,
   "metadata": {
    "colab": {
     "base_uri": "https://localhost:8080/",
     "height": 34
    },
    "colab_type": "code",
    "executionInfo": {
     "elapsed": 947,
     "status": "ok",
     "timestamp": 1596028485540,
     "user": {
      "displayName": "Atin Gupta",
      "photoUrl": "https://lh3.googleusercontent.com/a-/AOh14Gi1LyLILoESCrCvqA94FJEzlaNfumYdJznKg_osrQ=s64",
      "userId": "01235820350389977490"
     },
     "user_tz": -330
    },
    "id": "rZ_7SVXfukMO",
    "outputId": "82817679-ae05-4f7f-add3-ef4ddc136915"
   },
   "outputs": [
    {
     "name": "stdout",
     "output_type": "stream",
     "text": [
      "Valid phone number\n"
     ]
    }
   ],
   "source": [
    "# Example 9 -- Phone Number Verification use case\n",
    "\n",
    "import re\n",
    " \n",
    "phn = \"412-555-1212\"\n",
    " \n",
    "if re.search(\"[0-9]{3}-[0-9]{3}-[0-9]{4}\", phn):\n",
    "    print(\"Valid phone number\")\n",
    "    "
   ]
  },
  {
   "cell_type": "code",
   "execution_count": null,
   "metadata": {
    "colab": {
     "base_uri": "https://localhost:8080/",
     "height": 34
    },
    "colab_type": "code",
    "executionInfo": {
     "elapsed": 855,
     "status": "ok",
     "timestamp": 1596028569296,
     "user": {
      "displayName": "Atin Gupta",
      "photoUrl": "https://lh3.googleusercontent.com/a-/AOh14Gi1LyLILoESCrCvqA94FJEzlaNfumYdJznKg_osrQ=s64",
      "userId": "01235820350389977490"
     },
     "user_tz": -330
    },
    "id": "EdneV-SJ0cjz",
    "outputId": "773f597d-81ed-4c5d-d359-e40016ea28c3"
   },
   "outputs": [
    {
     "name": "stdout",
     "output_type": "stream",
     "text": [
      "Valid email of Atin\n"
     ]
    }
   ],
   "source": [
    "# Example 9 -- Phone Number Verification use case\n",
    "\n",
    "import re\n",
    " \n",
    "email = \"AtinGupta@gmail.com\"\n",
    " \n",
    "if re.search(\".+@.+\\..{2,5}\", email, flags=re.IGNORECASE):\n",
    "    print(\"Valid email of Atin\")\n",
    "    "
   ]
  },
  {
   "cell_type": "code",
   "execution_count": 26,
   "metadata": {
    "colab": {
     "base_uri": "https://localhost:8080/",
     "height": 34
    },
    "colab_type": "code",
    "executionInfo": {
     "elapsed": 999,
     "status": "ok",
     "timestamp": 1596094977425,
     "user": {
      "displayName": "Atin Gupta",
      "photoUrl": "https://lh3.googleusercontent.com/a-/AOh14Gi1LyLILoESCrCvqA94FJEzlaNfumYdJznKg_osrQ=s64",
      "userId": "01235820350389977490"
     },
     "user_tz": -330
    },
    "id": "2MM7z5ovt0Ka",
    "outputId": "a5da48ff-c3ad-4435-e016-d0d72807d59d"
   },
   "outputs": [
    {
     "name": "stdout",
     "output_type": "stream",
     "text": [
      "['workaround djkff sdkn dd dgdg ']\n"
     ]
    }
   ],
   "source": [
    "# Example 10 -- Get all words after a keyword\n",
    "\n",
    "import re\n",
    " \n",
    "email = \"sdlkdflksgv df v workaround djkff sdkn dd dgdg dlf ldfg workaround\"\n",
    " \n",
    "ret = re.findall(\"workaround[\\w\\s]{1,20}\", email, flags=re.IGNORECASE)\n",
    "\n",
    "print(ret) \n",
    "    "
   ]
  }
 ],
 "metadata": {
  "colab": {
   "collapsed_sections": [],
   "name": "24. Regular_expression.ipynb",
   "provenance": []
  },
  "kernelspec": {
   "display_name": "Python 3 (ipykernel)",
   "language": "python",
   "name": "python3"
  },
  "language_info": {
   "codemirror_mode": {
    "name": "ipython",
    "version": 3
   },
   "file_extension": ".py",
   "mimetype": "text/x-python",
   "name": "python",
   "nbconvert_exporter": "python",
   "pygments_lexer": "ipython3",
   "version": "3.9.2"
  }
 },
 "nbformat": 4,
 "nbformat_minor": 4
}
