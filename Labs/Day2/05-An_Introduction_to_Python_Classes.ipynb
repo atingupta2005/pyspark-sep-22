{
 "cells": [
  {
   "cell_type": "markdown",
   "metadata": {
    "colab_type": "text",
    "id": "-v65QBb4XFrI"
   },
   "source": [
    "# [Classes](https://docs.python.org/3/tutorial/classes.html#a-first-look-at-classes)"
   ]
  },
  {
   "cell_type": "markdown",
   "metadata": {
    "colab_type": "text",
    "id": "nDQKu36vXFrQ"
   },
   "source": [
    "### About o-o programming"
   ]
  },
  {
   "cell_type": "markdown",
   "metadata": {
    "colab_type": "text",
    "id": "GCEIITbqXFrV"
   },
   "source": [
    " - A programming language model organized around objects rather than \"actions\" and data.\n",
    " - In OOP, objects have fields to store knowledge/state/data and can do various works — methods.\n",
    " - Object: It’s the instance of a class/ it’s the working entity of a class.\n",
    " - Class: It is a template or blue print about the capability of what an object can do.\n",
    " - Method: The behaviours of a class. It tells what a method can do."
   ]
  },
  {
   "cell_type": "code",
   "execution_count": 44,
   "metadata": {
    "colab": {
     "base_uri": "https://localhost:8080/",
     "height": 52
    },
    "colab_type": "code",
    "executionInfo": {
     "elapsed": 1357,
     "status": "ok",
     "timestamp": 1580373222742,
     "user": {
      "displayName": "Atin Gupta",
      "photoUrl": "https://lh3.googleusercontent.com/a-/AAuE7mD8VYhuaJnCUzcrEoD5E2Dd4lW40jJaCydlRjciEA=s64",
      "userId": "01235820350389977490"
     },
     "user_tz": -330
    },
    "id": "WMPQEyjOXFrb",
    "outputId": "3d312162-cf8f-423e-b98f-1d5832ff2678"
   },
   "outputs": [
    {
     "name": "stdout",
     "output_type": "stream",
     "text": [
      "{'__module__': '__main__', '__qualname__': 'MyFirstClass', 'strName': 'Ankit', '_MyFirstClass__Name': 'Amit', '_Name': 'Rajeev'}\n",
      "['_MyFirstClass__Name', '_Name', '__module__', '__qualname__', 'strName']\n"
     ]
    }
   ],
   "source": [
    "class MyFirstClass:\n",
    "    strName = \"Ankit\"\n",
    "    __Name = \"Amit\"\n",
    "    _Name = \"Rajeev\"\n",
    "    print(locals())\n",
    "    print(dir())\n",
    "    \n",
    "    def __init__(self, name1):\n",
    "        self.name = name1\n",
    "\n",
    "    def greet(self):\n",
    "        print('Hello {}!'.format(self.name))\n",
    "    \n",
    "    def myGreet():\n",
    "        print('Hello')"
   ]
  },
  {
   "cell_type": "code",
   "execution_count": 54,
   "metadata": {
    "colab": {
     "base_uri": "https://localhost:8080/",
     "height": 52
    },
    "colab_type": "code",
    "executionInfo": {
     "elapsed": 2000,
     "status": "ok",
     "timestamp": 1580373511228,
     "user": {
      "displayName": "Atin Gupta",
      "photoUrl": "https://lh3.googleusercontent.com/a-/AAuE7mD8VYhuaJnCUzcrEoD5E2Dd4lW40jJaCydlRjciEA=s64",
      "userId": "01235820350389977490"
     },
     "user_tz": -330
    },
    "id": "dHfO35NAhV88",
    "outputId": "1ada6a3c-a46d-4390-ff8b-6460e3849805"
   },
   "outputs": [
    {
     "name": "stdout",
     "output_type": "stream",
     "text": [
      "{'__module__': '__main__', '__qualname__': 'MySecondClass', '_MySecondClass__Name': 'Amit2', '_Name': 'Rajeev2'}\n",
      "['_MySecondClass__Name', '_Name', '__module__', '__qualname__']\n"
     ]
    }
   ],
   "source": [
    "class MySecondClass(MyFirstClass):\n",
    "    __Name = \"Amit2\"\n",
    "    _Name = \"Rajeev2\"\n",
    "    print(locals())\n",
    "    print(dir())\n",
    "\n",
    "    def __init__(self):\n",
    "      print (\"MySecondClass\")"
   ]
  },
  {
   "cell_type": "code",
   "execution_count": 51,
   "metadata": {
    "colab": {
     "base_uri": "https://localhost:8080/",
     "height": 34
    },
    "colab_type": "code",
    "executionInfo": {
     "elapsed": 836,
     "status": "ok",
     "timestamp": 1580373430418,
     "user": {
      "displayName": "Atin Gupta",
      "photoUrl": "https://lh3.googleusercontent.com/a-/AAuE7mD8VYhuaJnCUzcrEoD5E2Dd4lW40jJaCydlRjciEA=s64",
      "userId": "01235820350389977490"
     },
     "user_tz": -330
    },
    "id": "FdYfWQRPiAP4",
    "outputId": "744a0748-d9f7-404b-d82d-ab83ecb23443"
   },
   "outputs": [
    {
     "name": "stdout",
     "output_type": "stream",
     "text": [
      "MySecondClass\n"
     ]
    }
   ],
   "source": [
    "objSC = MySecondClass()"
   ]
  },
  {
   "cell_type": "code",
   "execution_count": 53,
   "metadata": {
    "colab": {
     "base_uri": "https://localhost:8080/",
     "height": 34
    },
    "colab_type": "code",
    "executionInfo": {
     "elapsed": 1120,
     "status": "ok",
     "timestamp": 1580373441003,
     "user": {
      "displayName": "Atin Gupta",
      "photoUrl": "https://lh3.googleusercontent.com/a-/AAuE7mD8VYhuaJnCUzcrEoD5E2Dd4lW40jJaCydlRjciEA=s64",
      "userId": "01235820350389977490"
     },
     "user_tz": -330
    },
    "id": "J02yLje9hjUX",
    "outputId": "be9ebd33-89c5-42e3-fe61-8a7afd163b41"
   },
   "outputs": [
    {
     "data": {
      "text/plain": [
       "'Amit'"
      ]
     },
     "execution_count": 53,
     "metadata": {
      "tags": []
     },
     "output_type": "execute_result"
    }
   ],
   "source": [
    "objSC._MyFirstClass__Name"
   ]
  },
  {
   "cell_type": "code",
   "execution_count": null,
   "metadata": {
    "colab": {},
    "colab_type": "code",
    "id": "FJ4Ous7MYWPj"
   },
   "outputs": [],
   "source": [
    "MyFirstClass\n",
    "o1=MyFirstClass(\"Atin\")"
   ]
  },
  {
   "cell_type": "code",
   "execution_count": null,
   "metadata": {
    "colab": {},
    "colab_type": "code",
    "id": "4Rjhv1Degz4w"
   },
   "outputs": [],
   "source": [
    "MyFirstClass.strName = \"Atin\""
   ]
  },
  {
   "cell_type": "code",
   "execution_count": 36,
   "metadata": {
    "colab": {
     "base_uri": "https://localhost:8080/",
     "height": 34
    },
    "colab_type": "code",
    "executionInfo": {
     "elapsed": 1380,
     "status": "ok",
     "timestamp": 1580373072953,
     "user": {
      "displayName": "Atin Gupta",
      "photoUrl": "https://lh3.googleusercontent.com/a-/AAuE7mD8VYhuaJnCUzcrEoD5E2Dd4lW40jJaCydlRjciEA=s64",
      "userId": "01235820350389977490"
     },
     "user_tz": -330
    },
    "id": "fLxQx5nQg8if",
    "outputId": "2b60c4df-1adf-40c9-85e7-9fba43f2f2bc"
   },
   "outputs": [
    {
     "data": {
      "text/plain": [
       "'Atin'"
      ]
     },
     "execution_count": 36,
     "metadata": {
      "tags": []
     },
     "output_type": "execute_result"
    }
   ],
   "source": [
    "o1.strName"
   ]
  },
  {
   "cell_type": "code",
   "execution_count": 37,
   "metadata": {
    "colab": {
     "base_uri": "https://localhost:8080/",
     "height": 34
    },
    "colab_type": "code",
    "executionInfo": {
     "elapsed": 797,
     "status": "ok",
     "timestamp": 1580373073648,
     "user": {
      "displayName": "Atin Gupta",
      "photoUrl": "https://lh3.googleusercontent.com/a-/AAuE7mD8VYhuaJnCUzcrEoD5E2Dd4lW40jJaCydlRjciEA=s64",
      "userId": "01235820350389977490"
     },
     "user_tz": -330
    },
    "id": "mhcPcn7rYhuo",
    "outputId": "69b83c5e-43e8-4940-8bd9-f0154e6b9817"
   },
   "outputs": [
    {
     "name": "stdout",
     "output_type": "stream",
     "text": [
      "Hello Atin!\n"
     ]
    }
   ],
   "source": [
    "o1.greet()"
   ]
  },
  {
   "cell_type": "code",
   "execution_count": 38,
   "metadata": {
    "colab": {
     "base_uri": "https://localhost:8080/",
     "height": 70
    },
    "colab_type": "code",
    "executionInfo": {
     "elapsed": 1521,
     "status": "ok",
     "timestamp": 1580373076969,
     "user": {
      "displayName": "Atin Gupta",
      "photoUrl": "https://lh3.googleusercontent.com/a-/AAuE7mD8VYhuaJnCUzcrEoD5E2Dd4lW40jJaCydlRjciEA=s64",
      "userId": "01235820350389977490"
     },
     "user_tz": -330
    },
    "id": "ZSflPi8xXFrx",
    "outputId": "454f5765-d8d1-48e9-fcd9-94b5aab2ae7d"
   },
   "outputs": [
    {
     "name": "stdout",
     "output_type": "stream",
     "text": [
      "my_instance: <__main__.MyFirstClass object at 0x7efe37f13e10>\n",
      "type: <class '__main__.MyFirstClass'>\n",
      "my_instance.name: John Doe\n"
     ]
    }
   ],
   "source": [
    "my_instance = MyFirstClass('John Doe')\n",
    "print('my_instance: {}'.format(my_instance))\n",
    "print('type: {}'.format(type(my_instance)))\n",
    "print('my_instance.name: {}'.format(my_instance.name))"
   ]
  },
  {
   "cell_type": "markdown",
   "metadata": {
    "colab_type": "text",
    "id": "yzrzH6AoXFsP"
   },
   "source": [
    "## Methods\n",
    "The functions inside classes are called methods. They are used similarly as functions. "
   ]
  },
  {
   "cell_type": "code",
   "execution_count": 39,
   "metadata": {
    "colab": {
     "base_uri": "https://localhost:8080/",
     "height": 34
    },
    "colab_type": "code",
    "executionInfo": {
     "elapsed": 1112,
     "status": "ok",
     "timestamp": 1580373120373,
     "user": {
      "displayName": "Atin Gupta",
      "photoUrl": "https://lh3.googleusercontent.com/a-/AAuE7mD8VYhuaJnCUzcrEoD5E2Dd4lW40jJaCydlRjciEA=s64",
      "userId": "01235820350389977490"
     },
     "user_tz": -330
    },
    "id": "L-xsVvvJXFsV",
    "outputId": "d46a5d7d-415e-452f-ebe7-00068831fe06"
   },
   "outputs": [
    {
     "name": "stdout",
     "output_type": "stream",
     "text": [
      "Hello Alice!\n"
     ]
    }
   ],
   "source": [
    "alice = MyFirstClass(name1='Alice')\n",
    "alice.greet()"
   ]
  },
  {
   "cell_type": "markdown",
   "metadata": {
    "colab_type": "text",
    "id": "jbystD69XFsp"
   },
   "source": [
    "### `__init__()`\n",
    " - Used for initialising instances of the class.\n",
    " - Called when we create an instance of the class."
   ]
  },
  {
   "cell_type": "code",
   "execution_count": 42,
   "metadata": {
    "colab": {
     "base_uri": "https://localhost:8080/",
     "height": 70
    },
    "colab_type": "code",
    "executionInfo": {
     "elapsed": 1163,
     "status": "ok",
     "timestamp": 1580373171839,
     "user": {
      "displayName": "Atin Gupta",
      "photoUrl": "https://lh3.googleusercontent.com/a-/AAuE7mD8VYhuaJnCUzcrEoD5E2Dd4lW40jJaCydlRjciEA=s64",
      "userId": "01235820350389977490"
     },
     "user_tz": -330
    },
    "id": "b_Caw5cZXFsu",
    "outputId": "b1b53be2-987b-4929-99ac-81679a5e7e20"
   },
   "outputs": [
    {
     "name": "stdout",
     "output_type": "stream",
     "text": [
      "creating instance of Example\n",
      "Now we are inside __init__\n",
      "instance created\n"
     ]
    }
   ],
   "source": [
    "class Example:\n",
    "    def __init__(self):\n",
    "        print('Now we are inside __init__')\n",
    "        \n",
    "print('creating instance of Example')\n",
    "example = Example()\n",
    "print('instance created')"
   ]
  },
  {
   "cell_type": "code",
   "execution_count": 43,
   "metadata": {
    "colab": {
     "base_uri": "https://localhost:8080/",
     "height": 52
    },
    "colab_type": "code",
    "executionInfo": {
     "elapsed": 662,
     "status": "ok",
     "timestamp": 1580373173212,
     "user": {
      "displayName": "Atin Gupta",
      "photoUrl": "https://lh3.googleusercontent.com/a-/AAuE7mD8VYhuaJnCUzcrEoD5E2Dd4lW40jJaCydlRjciEA=s64",
      "userId": "01235820350389977490"
     },
     "user_tz": -330
    },
    "id": "EtbFiaJtXFtC",
    "outputId": "d2f8862e-20c0-44ca-e32e-2831bba78fea"
   },
   "outputs": [
    {
     "name": "stdout",
     "output_type": "stream",
     "text": [
      "abc 345\n",
      "<__main__.Example object at 0x7efe37f00e48>\n"
     ]
    }
   ],
   "source": [
    "class Example:\n",
    "    def __init__(self, var1, var2=123):\n",
    "        self.first_var = var1\n",
    "        self.second_var = var2\n",
    "        \n",
    "    def print_variables(self):\n",
    "        print('{} {}'.format(self.first_var, self.second_var))\n",
    "        \n",
    "e = Example('abc',345)\n",
    "e.print_variables()\n",
    "print(e)"
   ]
  }
 ],
 "metadata": {
  "colab": {
   "name": "1. An_Introduction_to_Python_Classes.ipynb",
   "provenance": []
  },
  "hide_input": false,
  "kernelspec": {
   "display_name": "Python 3 (ipykernel)",
   "language": "python",
   "name": "python3"
  },
  "language_info": {
   "codemirror_mode": {
    "name": "ipython",
    "version": 3
   },
   "file_extension": ".py",
   "mimetype": "text/x-python",
   "name": "python",
   "nbconvert_exporter": "python",
   "pygments_lexer": "ipython3",
   "version": "3.9.2"
  },
  "toc": {
   "base_numbering": 1,
   "nav_menu": {},
   "number_sections": true,
   "sideBar": true,
   "skip_h1_title": false,
   "title_cell": "Table of Contents",
   "title_sidebar": "Contents",
   "toc_cell": false,
   "toc_position": {},
   "toc_section_display": true,
   "toc_window_display": false
  },
  "varInspector": {
   "cols": {
    "lenName": 16,
    "lenType": 16,
    "lenVar": 40
   },
   "kernels_config": {
    "python": {
     "delete_cmd_postfix": "",
     "delete_cmd_prefix": "del ",
     "library": "var_list.py",
     "varRefreshCmd": "print(var_dic_list())"
    },
    "r": {
     "delete_cmd_postfix": ") ",
     "delete_cmd_prefix": "rm(",
     "library": "var_list.r",
     "varRefreshCmd": "cat(var_dic_list()) "
    }
   },
   "types_to_exclude": [
    "module",
    "function",
    "builtin_function_or_method",
    "instance",
    "_Feature"
   ],
   "window_display": false
  }
 },
 "nbformat": 4,
 "nbformat_minor": 4
}
