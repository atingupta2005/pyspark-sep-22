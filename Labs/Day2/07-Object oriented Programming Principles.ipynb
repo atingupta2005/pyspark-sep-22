{
 "cells": [
  {
   "cell_type": "markdown",
   "metadata": {
    "colab_type": "text",
    "id": "QW4whr48NaKM"
   },
   "source": [
    "## Object oriented Programming Principles"
   ]
  },
  {
   "cell_type": "markdown",
   "metadata": {
    "colab_type": "text",
    "id": "bTQWwb6ANaKX"
   },
   "source": [
    "## 1. Inheritance and its Applications"
   ]
  },
  {
   "cell_type": "code",
   "execution_count": null,
   "metadata": {
    "colab": {},
    "colab_type": "code",
    "id": "INZNSlDRNaKb"
   },
   "outputs": [],
   "source": [
    "# Single Inheritance\n",
    "# Example 1\n",
    "\n",
    "class Parent:\n",
    "    def __init__(self,):\n",
    "        print('This is parent class constructor')\n",
    "    def parent_method(self):\n",
    "        print('This is parent method')\n",
    "\n",
    "class Child(Parent):\n",
    "    def __init__(self):\n",
    "        print('This is child class constructor')\n",
    "    def child_method(self):\n",
    "        print('This is child method')\n"
   ]
  },
  {
   "cell_type": "code",
   "execution_count": null,
   "metadata": {
    "colab": {},
    "colab_type": "code",
    "id": "Qd6cZmglobHL"
   },
   "outputs": [],
   "source": [
    "#globals()"
   ]
  },
  {
   "cell_type": "code",
   "execution_count": 4,
   "metadata": {
    "colab": {
     "base_uri": "https://localhost:8080/",
     "height": 54
    },
    "colab_type": "code",
    "executionInfo": {
     "elapsed": 946,
     "status": "ok",
     "timestamp": 1591765837821,
     "user": {
      "displayName": "Atin Gupta",
      "photoUrl": "https://lh3.googleusercontent.com/a-/AOh14Gi1LyLILoESCrCvqA94FJEzlaNfumYdJznKg_osrQ=s64",
      "userId": "01235820350389977490"
     },
     "user_tz": 0
    },
    "id": "bGvEOG93opgr",
    "outputId": "88acf60b-588c-4a07-e024-f92bf1ff1d9c"
   },
   "outputs": [
    {
     "name": "stdout",
     "output_type": "stream",
     "text": [
      "This is parent class constructor\n",
      "This is child class constructor\n"
     ]
    }
   ],
   "source": [
    "Parent_Object=Parent() # parent object creation\n",
    "Child_Object=Child()   # child object creation\n"
   ]
  },
  {
   "cell_type": "code",
   "execution_count": 6,
   "metadata": {
    "colab": {
     "base_uri": "https://localhost:8080/",
     "height": 35
    },
    "colab_type": "code",
    "executionInfo": {
     "elapsed": 904,
     "status": "ok",
     "timestamp": 1591765857150,
     "user": {
      "displayName": "Atin Gupta",
      "photoUrl": "https://lh3.googleusercontent.com/a-/AOh14Gi1LyLILoESCrCvqA94FJEzlaNfumYdJznKg_osrQ=s64",
      "userId": "01235820350389977490"
     },
     "user_tz": 0
    },
    "id": "D6q728GHoyQD",
    "outputId": "13daa154-441c-4929-b67b-c17228ab72f5"
   },
   "outputs": [
    {
     "name": "stdout",
     "output_type": "stream",
     "text": [
      "This is parent method\n"
     ]
    }
   ],
   "source": [
    "Parent_Object.parent_method()  # calling parent method through parent object\n"
   ]
  },
  {
   "cell_type": "code",
   "execution_count": 7,
   "metadata": {
    "colab": {
     "base_uri": "https://localhost:8080/",
     "height": 35
    },
    "colab_type": "code",
    "executionInfo": {
     "elapsed": 911,
     "status": "ok",
     "timestamp": 1591765864782,
     "user": {
      "displayName": "Atin Gupta",
      "photoUrl": "https://lh3.googleusercontent.com/a-/AOh14Gi1LyLILoESCrCvqA94FJEzlaNfumYdJznKg_osrQ=s64",
      "userId": "01235820350389977490"
     },
     "user_tz": 0
    },
    "id": "8FXoXNA6o2-d",
    "outputId": "aa2cc730-b4d8-47c0-c9e3-76fdd4141e6b"
   },
   "outputs": [
    {
     "name": "stdout",
     "output_type": "stream",
     "text": [
      "This is child method\n"
     ]
    }
   ],
   "source": [
    "Child_Object.child_method()  # calling child method through child object\n"
   ]
  },
  {
   "cell_type": "code",
   "execution_count": 8,
   "metadata": {
    "colab": {
     "base_uri": "https://localhost:8080/",
     "height": 35
    },
    "colab_type": "code",
    "executionInfo": {
     "elapsed": 949,
     "status": "ok",
     "timestamp": 1591765881950,
     "user": {
      "displayName": "Atin Gupta",
      "photoUrl": "https://lh3.googleusercontent.com/a-/AOh14Gi1LyLILoESCrCvqA94FJEzlaNfumYdJznKg_osrQ=s64",
      "userId": "01235820350389977490"
     },
     "user_tz": 0
    },
    "id": "bSdjdnh8o415",
    "outputId": "b255031e-4837-4c37-8f75-f41a2c535591"
   },
   "outputs": [
    {
     "name": "stdout",
     "output_type": "stream",
     "text": [
      "This is parent method\n"
     ]
    }
   ],
   "source": [
    "Child_Object.parent_method() # calling parent method using child object. This is the advantage of inheritance. \n"
   ]
  },
  {
   "cell_type": "code",
   "execution_count": null,
   "metadata": {
    "colab": {},
    "colab_type": "code",
    "id": "EqKAnh-Mo0wz"
   },
   "outputs": [],
   "source": [
    "# Parent_Object.child_method() # This line will throw error if executed because parent can't access child\n"
   ]
  },
  {
   "cell_type": "code",
   "execution_count": 10,
   "metadata": {
    "colab": {
     "base_uri": "https://localhost:8080/",
     "height": 85
    },
    "colab_type": "code",
    "executionInfo": {
     "elapsed": 915,
     "status": "ok",
     "timestamp": 1591765937475,
     "user": {
      "displayName": "Atin Gupta",
      "photoUrl": "https://lh3.googleusercontent.com/a-/AOh14Gi1LyLILoESCrCvqA94FJEzlaNfumYdJznKg_osrQ=s64",
      "userId": "01235820350389977490"
     },
     "user_tz": 0
    },
    "id": "rMAd8laONaLN",
    "outputId": "cff3660f-c989-46a8-9f97-3e5ee6490eae"
   },
   "outputs": [
    {
     "name": "stdout",
     "output_type": "stream",
     "text": [
      "This is child class constructor\n",
      "This is child method\n",
      "This is 1st parent method\n",
      "This is 2nd parent method\n"
     ]
    }
   ],
   "source": [
    "# Multiple Inheritance\n",
    "# Example 2\n",
    "\n",
    "class Parent_1:\n",
    "    def __init__(self,):\n",
    "        print('This is 1st parent class constructor')\n",
    "    def parent_method_1(self):\n",
    "        print('This is 1st parent method')\n",
    "class Parent_2:\n",
    "    def __init__(self,):\n",
    "        print('This is 2nd parent class constructor')\n",
    "    def parent_method_2(self):\n",
    "        print('This is 2nd parent method')\n",
    "\n",
    "class Child(Parent_1,Parent_2):\n",
    "    \n",
    "    def __init__(self):\n",
    "        print('This is child class constructor')\n",
    "    def child_method(self):\n",
    "        print('This is child method')\n",
    "Child_Object=Child()\n",
    "Child_Object.child_method()\n",
    "Child_Object.parent_method_1()\n",
    "Child_Object.parent_method_2()"
   ]
  },
  {
   "cell_type": "markdown",
   "metadata": {
    "colab_type": "text",
    "id": "8pOJ_V1NNaLk"
   },
   "source": [
    "## Method Resolution Order (MRO) in Multiple Inheritance"
   ]
  },
  {
   "cell_type": "code",
   "execution_count": 13,
   "metadata": {
    "colab": {
     "base_uri": "https://localhost:8080/",
     "height": 51
    },
    "colab_type": "code",
    "executionInfo": {
     "elapsed": 914,
     "status": "ok",
     "timestamp": 1591766121753,
     "user": {
      "displayName": "Atin Gupta",
      "photoUrl": "https://lh3.googleusercontent.com/a-/AOh14Gi1LyLILoESCrCvqA94FJEzlaNfumYdJznKg_osrQ=s64",
      "userId": "01235820350389977490"
     },
     "user_tz": 0
    },
    "id": "-wjAhoaBNaLo",
    "outputId": "695c0284-db33-40d4-c687-29642d7b24e7"
   },
   "outputs": [
    {
     "name": "stdout",
     "output_type": "stream",
     "text": [
      "This is child class constructor\n",
      "This is 1st parent method\n"
     ]
    }
   ],
   "source": [
    "# MRO\n",
    "# Example3\n",
    "class Base_1:\n",
    "    def method(self):\n",
    "        print('This is 1st parent method')\n",
    "\n",
    "class Base_2:\n",
    "    def method(self):\n",
    "        print('This is 2nd parent method')\n",
    "\n",
    "    \n",
    "class child(Base_2, Base_1):\n",
    "    def __init__(self):\n",
    "        print('This is child class constructor')\n",
    "\n",
    "Child_Object=child()\n",
    "Child_Object.method()"
   ]
  },
  {
   "cell_type": "code",
   "execution_count": 16,
   "metadata": {
    "colab": {
     "base_uri": "https://localhost:8080/",
     "height": 51
    },
    "colab_type": "code",
    "executionInfo": {
     "elapsed": 903,
     "status": "ok",
     "timestamp": 1591766293347,
     "user": {
      "displayName": "Atin Gupta",
      "photoUrl": "https://lh3.googleusercontent.com/a-/AOh14Gi1LyLILoESCrCvqA94FJEzlaNfumYdJznKg_osrQ=s64",
      "userId": "01235820350389977490"
     },
     "user_tz": 0
    },
    "id": "8zrE-fReNaMJ",
    "outputId": "5b6db1a1-52e9-4ea3-f05d-f7a1fabbc67f"
   },
   "outputs": [
    {
     "name": "stdout",
     "output_type": "stream",
     "text": [
      "This is child class constructor\n",
      "This is child method\n"
     ]
    }
   ],
   "source": [
    "# MRO\n",
    "# Example4\n",
    "class Base_1:\n",
    "    def method(self):\n",
    "        print('This is 1st parent method')\n",
    "\n",
    "class Base_2:\n",
    "    def method(self):\n",
    "        print('This is 2nd parent method')\n",
    "\n",
    "    \n",
    "class child(Base_2,Base_1):\n",
    "    def __init__(self):\n",
    "        print('This is child class constructor')\n",
    "        \n",
    "\n",
    "Child_Object=child()\n",
    "Child_Object.method()"
   ]
  },
  {
   "cell_type": "code",
   "execution_count": 15,
   "metadata": {
    "colab": {
     "base_uri": "https://localhost:8080/",
     "height": 102
    },
    "colab_type": "code",
    "executionInfo": {
     "elapsed": 896,
     "status": "ok",
     "timestamp": 1591766216173,
     "user": {
      "displayName": "Atin Gupta",
      "photoUrl": "https://lh3.googleusercontent.com/a-/AOh14Gi1LyLILoESCrCvqA94FJEzlaNfumYdJznKg_osrQ=s64",
      "userId": "01235820350389977490"
     },
     "user_tz": 0
    },
    "id": "EqLi7eY8NaMk",
    "outputId": "4ee5805c-6cf1-4191-95e6-0cea98e43f2e"
   },
   "outputs": [
    {
     "name": "stdout",
     "output_type": "stream",
     "text": [
      "(<class '__main__.child'>, <class '__main__.Base_2'>, <class '__main__.Base_1'>, <class 'object'>)\n",
      "<class '__main__.child'>\n",
      "<class '__main__.Base_2'>\n",
      "<class '__main__.Base_1'>\n",
      "<class 'object'>\n"
     ]
    }
   ],
   "source": [
    "# Check The Method Resolution Order\n",
    "print(child.__mro__)  # It gives the sequence in which the method has been searched\n",
    "for i in child.__mro__:\n",
    "    print(i)"
   ]
  },
  {
   "cell_type": "code",
   "execution_count": 17,
   "metadata": {
    "colab": {
     "base_uri": "https://localhost:8080/",
     "height": 85
    },
    "colab_type": "code",
    "executionInfo": {
     "elapsed": 899,
     "status": "ok",
     "timestamp": 1591766375793,
     "user": {
      "displayName": "Atin Gupta",
      "photoUrl": "https://lh3.googleusercontent.com/a-/AOh14Gi1LyLILoESCrCvqA94FJEzlaNfumYdJznKg_osrQ=s64",
      "userId": "01235820350389977490"
     },
     "user_tz": 0
    },
    "id": "IklJIoMPNaNE",
    "outputId": "25314694-d480-4310-d74a-f7575159cd2d"
   },
   "outputs": [
    {
     "name": "stdout",
     "output_type": "stream",
     "text": [
      "This is 1st child constructor\n",
      "This is 2nd child constructor\n",
      "This is parent method\n",
      "This is parent method\n"
     ]
    }
   ],
   "source": [
    "# Hierarchical Inheritance\n",
    "# Example 5\n",
    "\n",
    "class Parent:\n",
    "    def method(self):\n",
    "        print('This is parent method')\n",
    "\n",
    "class Child_1(Parent):  # This is 1st child\n",
    "    def __init__(self):\n",
    "        print('This is 1st child constructor')\n",
    "\n",
    "class Child_2(Parent):  # This is 2nd child\n",
    "    def __init__(self):\n",
    "        print('This is 2nd child constructor')\n",
    "\n",
    "Child_1_Object=Child_1()\n",
    "Child_2_Object=Child_2()\n",
    "Child_1_Object.method()\n",
    "Child_2_Object.method()\n"
   ]
  },
  {
   "cell_type": "code",
   "execution_count": 18,
   "metadata": {
    "colab": {
     "base_uri": "https://localhost:8080/",
     "height": 68
    },
    "colab_type": "code",
    "executionInfo": {
     "elapsed": 912,
     "status": "ok",
     "timestamp": 1591766397162,
     "user": {
      "displayName": "Atin Gupta",
      "photoUrl": "https://lh3.googleusercontent.com/a-/AOh14Gi1LyLILoESCrCvqA94FJEzlaNfumYdJznKg_osrQ=s64",
      "userId": "01235820350389977490"
     },
     "user_tz": 0
    },
    "id": "Tzl75Nq_NaNg",
    "outputId": "a87a6505-7a7b-4fc7-893f-0973bc4560f7"
   },
   "outputs": [
    {
     "name": "stdout",
     "output_type": "stream",
     "text": [
      "This is grandparent method\n",
      "This is parent method\n",
      "This is child method\n"
     ]
    }
   ],
   "source": [
    "# Multilevel Inheritance\n",
    "# Example 6\n",
    "\n",
    "class Grand_Parent:\n",
    "    def method_1(self):\n",
    "        print('This is grandparent method')\n",
    "\n",
    "class Parent(Grand_Parent):\n",
    "    def method_2(self):\n",
    "        print('This is parent method')\n",
    "\n",
    "class Child(Parent):\n",
    "    def method_3(self):\n",
    "        print('This is child method')\n",
    "        \n",
    "Child_Object=Child()\n",
    "Child_Object.method_1() # Child is accessing grandparent method\n",
    "Child_Object.method_2() # Child is accessing parent method\n",
    "Child_Object.method_3() # Child is accessing its own method"
   ]
  },
  {
   "cell_type": "code",
   "execution_count": 19,
   "metadata": {
    "colab": {
     "base_uri": "https://localhost:8080/",
     "height": 282
    },
    "colab_type": "code",
    "executionInfo": {
     "elapsed": 958,
     "status": "error",
     "timestamp": 1591766462723,
     "user": {
      "displayName": "Atin Gupta",
      "photoUrl": "https://lh3.googleusercontent.com/a-/AOh14Gi1LyLILoESCrCvqA94FJEzlaNfumYdJznKg_osrQ=s64",
      "userId": "01235820350389977490"
     },
     "user_tz": 0
    },
    "id": "0o62iYVGNaOP",
    "outputId": "127bd7fb-d4ea-49a8-e8f3-d1375d5436cf"
   },
   "outputs": [
    {
     "name": "stdout",
     "output_type": "stream",
     "text": [
      "This is grand parent method\n",
      "This is 1st parent method\n",
      "This is 2nd parent method\n",
      "This is grand parent method\n",
      "This is 1st parent method\n"
     ]
    },
    {
     "ename": "AttributeError",
     "evalue": "ignored",
     "output_type": "error",
     "traceback": [
      "\u001b[0;31m---------------------------------------------------------------------------\u001b[0m",
      "\u001b[0;31mAttributeError\u001b[0m                            Traceback (most recent call last)",
      "\u001b[0;32m<ipython-input-19-fb1c0843b3af>\u001b[0m in \u001b[0;36m<module>\u001b[0;34m()\u001b[0m\n\u001b[1;32m     23\u001b[0m \u001b[0mChild_2_Object\u001b[0m\u001b[0;34m.\u001b[0m\u001b[0mmethod_1\u001b[0m\u001b[0;34m(\u001b[0m\u001b[0;34m)\u001b[0m\u001b[0;34m\u001b[0m\u001b[0;34m\u001b[0m\u001b[0m\n\u001b[1;32m     24\u001b[0m \u001b[0mChild_2_Object\u001b[0m\u001b[0;34m.\u001b[0m\u001b[0mmethod_2\u001b[0m\u001b[0;34m(\u001b[0m\u001b[0;34m)\u001b[0m\u001b[0;34m\u001b[0m\u001b[0;34m\u001b[0m\u001b[0m\n\u001b[0;32m---> 25\u001b[0;31m \u001b[0mChild_2_Object\u001b[0m\u001b[0;34m.\u001b[0m\u001b[0mmethod_3\u001b[0m\u001b[0;34m(\u001b[0m\u001b[0;34m)\u001b[0m \u001b[0;31m# This line will fail because Child_2 can't access method of Parent_2\u001b[0m\u001b[0;34m\u001b[0m\u001b[0;34m\u001b[0m\u001b[0m\n\u001b[0m",
      "\u001b[0;31mAttributeError\u001b[0m: 'Child_2' object has no attribute 'method_3'"
     ]
    }
   ],
   "source": [
    "# Hybrid Inheritance\n",
    "# Example 7\n",
    "# Here, Grand Parent has two child classes. Now, one parent has two child classes and other one has only one.\n",
    "# In this example, we have multiple, hierarchical and multilevel inheritance together. This is Hybrid Inheritance\n",
    "class Grand_Parent:\n",
    "    def method_1(self):\n",
    "        print('This is grand parent method')\n",
    "class Parent_1(Grand_Parent):\n",
    "    def method_2(self):\n",
    "        print('This is 1st parent method')\n",
    "class Parent_2(Grand_Parent):\n",
    "    def method_3(self):\n",
    "        print('This is 2nd parent method')\n",
    "class Child_1(Parent_1,Parent_2):\n",
    "    pass\n",
    "class Child_2(Parent_1):\n",
    "    pass\n",
    "Child_1_Object=Child_1()\n",
    "Child_2_Object=Child_2()\n",
    "Child_1_Object.method_1()\n",
    "Child_1_Object.method_2()\n",
    "Child_1_Object.method_3()\n",
    "Child_2_Object.method_1()\n",
    "Child_2_Object.method_2()\n",
    "Child_2_Object.method_3() # This line will fail because Child_2 can't access method of Parent_2"
   ]
  },
  {
   "cell_type": "markdown",
   "metadata": {
    "colab_type": "text",
    "id": "PUC8DctJNaQ7"
   },
   "source": [
    "## Method Overriding"
   ]
  },
  {
   "cell_type": "code",
   "execution_count": 20,
   "metadata": {
    "colab": {
     "base_uri": "https://localhost:8080/",
     "height": 68
    },
    "colab_type": "code",
    "executionInfo": {
     "elapsed": 913,
     "status": "ok",
     "timestamp": 1591766550959,
     "user": {
      "displayName": "Atin Gupta",
      "photoUrl": "https://lh3.googleusercontent.com/a-/AOh14Gi1LyLILoESCrCvqA94FJEzlaNfumYdJznKg_osrQ=s64",
      "userId": "01235820350389977490"
     },
     "user_tz": 0
    },
    "id": "FXxIsEPVNaRA",
    "outputId": "2c65c489-8ec4-45f3-cbbb-1f8bc6647911"
   },
   "outputs": [
    {
     "name": "stdout",
     "output_type": "stream",
     "text": [
      "This is parent class constructor\n",
      "This is child class constructor\n",
      "Welcome to Microsoft\n"
     ]
    }
   ],
   "source": [
    "# Example 13 (Method Overriding)\n",
    "\n",
    "class parent:\n",
    "    def __init__(self):\n",
    "        print('This is parent class constructor')\n",
    "    def method_1(self):\n",
    "        print('Hello python')\n",
    "\n",
    "class child(parent):\n",
    "    def __init__(self):\n",
    "        super().__init__()   # Calling Parent Class Constructor\n",
    "        print('This is child class constructor')\n",
    "        \n",
    "    def method_1(self): # The implementation i.e. method body is different from parent but header has to be same for overriding\n",
    "        print('Welcome to Microsoft')\n",
    "\n",
    "Child_Obj=child()\n",
    "Child_Obj.method_1()\n"
   ]
  },
  {
   "cell_type": "markdown",
   "metadata": {
    "colab_type": "text",
    "id": "jIlS9UI5NaSr"
   },
   "source": [
    "## Getters and Setters"
   ]
  },
  {
   "cell_type": "code",
   "execution_count": null,
   "metadata": {
    "colab": {},
    "colab_type": "code",
    "id": "MqLaf42ANaSv",
    "outputId": "c3190471-e26e-41ae-8b0e-ef5bf16b574c"
   },
   "outputs": [
    {
     "name": "stdout",
     "output_type": "stream",
     "text": [
      "Python\n",
      "Machine Learning\n"
     ]
    }
   ],
   "source": [
    "# Example 16\n",
    "class Microsoft:\n",
    "    def __init__(self,courseName):\n",
    "        self.courseName=courseName\n",
    "    def setCourse_Name(self,courseName):\n",
    "        self.courseName=courseName\n",
    "    def getCourse_Name(self):\n",
    "        return(self.courseName)\n",
    "ob=Microsoft(\"Python\")\n",
    "print(ob.getCourse_Name())\n",
    "ob.setCourse_Name(\"Machine Learning\")\n",
    "print(ob.getCourse_Name())\n"
   ]
  }
 ],
 "metadata": {
  "colab": {
   "collapsed_sections": [],
   "name": "5. Object oriented Programming Principles.ipynb",
   "provenance": []
  },
  "kernelspec": {
   "display_name": "Python 3 (ipykernel)",
   "language": "python",
   "name": "python3"
  },
  "language_info": {
   "codemirror_mode": {
    "name": "ipython",
    "version": 3
   },
   "file_extension": ".py",
   "mimetype": "text/x-python",
   "name": "python",
   "nbconvert_exporter": "python",
   "pygments_lexer": "ipython3",
   "version": "3.9.2"
  }
 },
 "nbformat": 4,
 "nbformat_minor": 4
}
